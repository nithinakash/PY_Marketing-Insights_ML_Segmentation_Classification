{
 "cells": [
  {
   "cell_type": "markdown",
   "id": "40848b13",
   "metadata": {},
   "source": [
    "### Packages Required"
   ]
  },
  {
   "cell_type": "code",
   "execution_count": 11,
   "id": "ff30d2a3",
   "metadata": {},
   "outputs": [],
   "source": [
    "import numpy as np\n",
    "import pandas as pd\n",
    "import matplotlib.pyplot as plt\n",
    "import seaborn as sns\n",
    "import datetime as dt\n",
    "\n",
    "import scipy.stats as stats\n",
    "from sklearn.cluster import KMeans\n",
    "from sklearn.metrics import silhouette_score\n",
    "from sklearn.preprocessing import StandardScaler, MinMaxScaler\n",
    "from sklearn.decomposition import PCA  "
   ]
  },
  {
   "cell_type": "code",
   "execution_count": 162,
   "id": "b5407a37",
   "metadata": {},
   "outputs": [],
   "source": [
    "from statsmodels.stats.outliers_influence import variance_inflation_factor\n",
    "from sklearn.model_selection import train_test_split,cross_val_score,GridSearchCV\n",
    "from sklearn.feature_selection import RFE,f_regression,SelectKBest,f_classif\n",
    "from sklearn.preprocessing import StandardScaler\n",
    "from sklearn import metrics\n",
    "from sklearn.metrics import mean_squared_error, r2_score\n",
    "\n",
    "import statsmodels.formula.api as smf\n",
    "\n",
    "from sklearn.linear_model import LinearRegression\n",
    "from sklearn import ensemble\n",
    "from sklearn.ensemble import GradientBoostingRegressor,AdaBoostRegressor\n",
    "from xgboost import XGBRegressor,XGBClassifier\n",
    "from sklearn.neighbors import KNeighborsRegressor,KNeighborsClassifier\n",
    "from sklearn.utils import shuffle\n",
    "from sklearn.tree import DecisionTreeRegressor,DecisionTreeClassifier\n",
    "from sklearn.svm import SVR,SVC\n",
    "from sklearn.ensemble import RandomForestRegressor,RandomForestClassifier\n",
    "#pip install lightgbm\n",
    "import lightgbm as lgb"
   ]
  },
  {
   "cell_type": "markdown",
   "id": "b533b80a",
   "metadata": {},
   "source": [
    "### Datasets"
   ]
  },
  {
   "cell_type": "code",
   "execution_count": 329,
   "id": "5cacea24",
   "metadata": {},
   "outputs": [],
   "source": [
    "Marketing_Spend = pd.read_csv('C:/Users/Nithin/Downloads/14. Capstone Case Study - Finding-Marketing-Insights/Datasets/Marketing_Spend.csv')\n",
    "Discount_Coupon = pd.read_csv('C:/Users/Nithin/Downloads/14. Capstone Case Study - Finding-Marketing-Insights/Datasets/Discount_Coupon.csv')\n",
    "Online_Sales = pd.read_csv('C:/Users/Nithin/Downloads/14. Capstone Case Study - Finding-Marketing-Insights/Datasets/Online_Sales.csv')"
   ]
  },
  {
   "cell_type": "code",
   "execution_count": 13,
   "id": "b6df3df7",
   "metadata": {},
   "outputs": [],
   "source": [
    "Tax_amount = pd.read_excel('C:/Users/Nithin/Downloads/14. Capstone Case Study - Finding-Marketing-Insights/Datasets/Tax_amount.xlsx')\n",
    "CustomersData = pd.read_excel('C:/Users/Nithin/Downloads/14. Capstone Case Study - Finding-Marketing-Insights/Datasets/CustomersData.xlsx')"
   ]
  },
  {
   "cell_type": "markdown",
   "id": "d618dddd",
   "metadata": {},
   "source": [
    "### Data Prep"
   ]
  },
  {
   "cell_type": "code",
   "execution_count": 315,
   "id": "cc446960",
   "metadata": {},
   "outputs": [],
   "source": [
    "Marketing_Spend.columns = Marketing_Spend.columns.str.replace(' ','')\n",
    "Discount_Coupon.columns = Discount_Coupon.columns.str.replace(' ','')\n",
    "Online_Sales.columns = Online_Sales.columns.str.replace(' ','')\n",
    "Tax_amount.columns = Tax_amount.columns.str.replace(' ','')\n",
    "CustomersData.columns = CustomersData.columns.str.replace(' ','')"
   ]
  },
  {
   "cell_type": "code",
   "execution_count": 330,
   "id": "7e02de4a",
   "metadata": {},
   "outputs": [],
   "source": [
    "Online_Sales.Transaction_Date = pd.to_datetime(Online_Sales.Transaction_Date,format='%Y%m%d')\n",
    "Online_Sales['Month'] = Online_Sales.Transaction_Date.dt.month"
   ]
  },
  {
   "cell_type": "code",
   "execution_count": 317,
   "id": "e586818a",
   "metadata": {},
   "outputs": [],
   "source": [
    "Discount_Coupon.Month = pd.to_datetime(Discount_Coupon.Month,format='%b').dt.month"
   ]
  },
  {
   "cell_type": "code",
   "execution_count": 318,
   "id": "5056875b",
   "metadata": {},
   "outputs": [],
   "source": [
    "cust_final = pd.merge(Online_Sales,CustomersData,how='left',on='CustomerID')\n",
    "cust_final = pd.merge(cust_final,Tax_amount,how='left',on='Product_Category')\n",
    "cust_final = pd.merge(cust_final,Discount_Coupon,how='left',on=['Product_Category','Month'])"
   ]
  },
  {
   "cell_type": "code",
   "execution_count": 319,
   "id": "d824eca5",
   "metadata": {},
   "outputs": [],
   "source": [
    "Marketing_Spend.Date = pd.to_datetime(Marketing_Spend.Date)"
   ]
  },
  {
   "cell_type": "code",
   "execution_count": 320,
   "id": "d4c31d26",
   "metadata": {},
   "outputs": [],
   "source": [
    "cust_final = pd.merge(cust_final,Marketing_Spend,how='left',left_on='Transaction_Date',right_on='Date')"
   ]
  },
  {
   "cell_type": "code",
   "execution_count": 321,
   "id": "cfb6b5cf",
   "metadata": {},
   "outputs": [
    {
     "data": {
      "text/html": [
       "<div>\n",
       "<style scoped>\n",
       "    .dataframe tbody tr th:only-of-type {\n",
       "        vertical-align: middle;\n",
       "    }\n",
       "\n",
       "    .dataframe tbody tr th {\n",
       "        vertical-align: top;\n",
       "    }\n",
       "\n",
       "    .dataframe thead th {\n",
       "        text-align: right;\n",
       "    }\n",
       "</style>\n",
       "<table border=\"1\" class=\"dataframe\">\n",
       "  <thead>\n",
       "    <tr style=\"text-align: right;\">\n",
       "      <th></th>\n",
       "      <th>CustomerID</th>\n",
       "      <th>Transaction_ID</th>\n",
       "      <th>Transaction_Date</th>\n",
       "      <th>Product_SKU</th>\n",
       "      <th>Product_Description</th>\n",
       "      <th>Product_Category</th>\n",
       "      <th>Quantity</th>\n",
       "      <th>Avg_Price</th>\n",
       "      <th>Delivery_Charges</th>\n",
       "      <th>Coupon_Status</th>\n",
       "      <th>...</th>\n",
       "      <th>Month</th>\n",
       "      <th>Gender</th>\n",
       "      <th>Location</th>\n",
       "      <th>Tenure_Months</th>\n",
       "      <th>GST</th>\n",
       "      <th>Coupon_Code</th>\n",
       "      <th>Discount_pct</th>\n",
       "      <th>Date</th>\n",
       "      <th>Offline_Spend</th>\n",
       "      <th>Online_Spend</th>\n",
       "    </tr>\n",
       "  </thead>\n",
       "  <tbody>\n",
       "    <tr>\n",
       "      <th>0</th>\n",
       "      <td>17850</td>\n",
       "      <td>16679</td>\n",
       "      <td>2019-01-01</td>\n",
       "      <td>GGOENEBJ079499</td>\n",
       "      <td>Nest Learning Thermostat 3rd Gen-USA - Stainle...</td>\n",
       "      <td>Nest-USA</td>\n",
       "      <td>1</td>\n",
       "      <td>153.71</td>\n",
       "      <td>6.5</td>\n",
       "      <td>Used</td>\n",
       "      <td>...</td>\n",
       "      <td>1</td>\n",
       "      <td>M</td>\n",
       "      <td>Chicago</td>\n",
       "      <td>12</td>\n",
       "      <td>0.10</td>\n",
       "      <td>ELEC10</td>\n",
       "      <td>10.0</td>\n",
       "      <td>2019-01-01</td>\n",
       "      <td>4500</td>\n",
       "      <td>2424.5</td>\n",
       "    </tr>\n",
       "    <tr>\n",
       "      <th>1</th>\n",
       "      <td>17850</td>\n",
       "      <td>16680</td>\n",
       "      <td>2019-01-01</td>\n",
       "      <td>GGOENEBJ079499</td>\n",
       "      <td>Nest Learning Thermostat 3rd Gen-USA - Stainle...</td>\n",
       "      <td>Nest-USA</td>\n",
       "      <td>1</td>\n",
       "      <td>153.71</td>\n",
       "      <td>6.5</td>\n",
       "      <td>Used</td>\n",
       "      <td>...</td>\n",
       "      <td>1</td>\n",
       "      <td>M</td>\n",
       "      <td>Chicago</td>\n",
       "      <td>12</td>\n",
       "      <td>0.10</td>\n",
       "      <td>ELEC10</td>\n",
       "      <td>10.0</td>\n",
       "      <td>2019-01-01</td>\n",
       "      <td>4500</td>\n",
       "      <td>2424.5</td>\n",
       "    </tr>\n",
       "    <tr>\n",
       "      <th>2</th>\n",
       "      <td>17850</td>\n",
       "      <td>16681</td>\n",
       "      <td>2019-01-01</td>\n",
       "      <td>GGOEGFKQ020399</td>\n",
       "      <td>Google Laptop and Cell Phone Stickers</td>\n",
       "      <td>Office</td>\n",
       "      <td>1</td>\n",
       "      <td>2.05</td>\n",
       "      <td>6.5</td>\n",
       "      <td>Used</td>\n",
       "      <td>...</td>\n",
       "      <td>1</td>\n",
       "      <td>M</td>\n",
       "      <td>Chicago</td>\n",
       "      <td>12</td>\n",
       "      <td>0.10</td>\n",
       "      <td>OFF10</td>\n",
       "      <td>10.0</td>\n",
       "      <td>2019-01-01</td>\n",
       "      <td>4500</td>\n",
       "      <td>2424.5</td>\n",
       "    </tr>\n",
       "    <tr>\n",
       "      <th>3</th>\n",
       "      <td>17850</td>\n",
       "      <td>16682</td>\n",
       "      <td>2019-01-01</td>\n",
       "      <td>GGOEGAAB010516</td>\n",
       "      <td>Google Men's 100% Cotton Short Sleeve Hero Tee...</td>\n",
       "      <td>Apparel</td>\n",
       "      <td>5</td>\n",
       "      <td>17.53</td>\n",
       "      <td>6.5</td>\n",
       "      <td>Not Used</td>\n",
       "      <td>...</td>\n",
       "      <td>1</td>\n",
       "      <td>M</td>\n",
       "      <td>Chicago</td>\n",
       "      <td>12</td>\n",
       "      <td>0.18</td>\n",
       "      <td>SALE10</td>\n",
       "      <td>10.0</td>\n",
       "      <td>2019-01-01</td>\n",
       "      <td>4500</td>\n",
       "      <td>2424.5</td>\n",
       "    </tr>\n",
       "    <tr>\n",
       "      <th>4</th>\n",
       "      <td>17850</td>\n",
       "      <td>16682</td>\n",
       "      <td>2019-01-01</td>\n",
       "      <td>GGOEGBJL013999</td>\n",
       "      <td>Google Canvas Tote Natural/Navy</td>\n",
       "      <td>Bags</td>\n",
       "      <td>1</td>\n",
       "      <td>16.50</td>\n",
       "      <td>6.5</td>\n",
       "      <td>Used</td>\n",
       "      <td>...</td>\n",
       "      <td>1</td>\n",
       "      <td>M</td>\n",
       "      <td>Chicago</td>\n",
       "      <td>12</td>\n",
       "      <td>0.18</td>\n",
       "      <td>AIO10</td>\n",
       "      <td>10.0</td>\n",
       "      <td>2019-01-01</td>\n",
       "      <td>4500</td>\n",
       "      <td>2424.5</td>\n",
       "    </tr>\n",
       "  </tbody>\n",
       "</table>\n",
       "<p>5 rows × 21 columns</p>\n",
       "</div>"
      ],
      "text/plain": [
       "   CustomerID  Transaction_ID Transaction_Date     Product_SKU  \\\n",
       "0       17850           16679       2019-01-01  GGOENEBJ079499   \n",
       "1       17850           16680       2019-01-01  GGOENEBJ079499   \n",
       "2       17850           16681       2019-01-01  GGOEGFKQ020399   \n",
       "3       17850           16682       2019-01-01  GGOEGAAB010516   \n",
       "4       17850           16682       2019-01-01  GGOEGBJL013999   \n",
       "\n",
       "                                 Product_Description Product_Category  \\\n",
       "0  Nest Learning Thermostat 3rd Gen-USA - Stainle...         Nest-USA   \n",
       "1  Nest Learning Thermostat 3rd Gen-USA - Stainle...         Nest-USA   \n",
       "2              Google Laptop and Cell Phone Stickers           Office   \n",
       "3  Google Men's 100% Cotton Short Sleeve Hero Tee...          Apparel   \n",
       "4                    Google Canvas Tote Natural/Navy             Bags   \n",
       "\n",
       "   Quantity  Avg_Price  Delivery_Charges Coupon_Status  ...  Month  Gender  \\\n",
       "0         1     153.71               6.5          Used  ...      1       M   \n",
       "1         1     153.71               6.5          Used  ...      1       M   \n",
       "2         1       2.05               6.5          Used  ...      1       M   \n",
       "3         5      17.53               6.5      Not Used  ...      1       M   \n",
       "4         1      16.50               6.5          Used  ...      1       M   \n",
       "\n",
       "  Location Tenure_Months   GST  Coupon_Code Discount_pct       Date  \\\n",
       "0  Chicago            12  0.10       ELEC10         10.0 2019-01-01   \n",
       "1  Chicago            12  0.10       ELEC10         10.0 2019-01-01   \n",
       "2  Chicago            12  0.10        OFF10         10.0 2019-01-01   \n",
       "3  Chicago            12  0.18       SALE10         10.0 2019-01-01   \n",
       "4  Chicago            12  0.18        AIO10         10.0 2019-01-01   \n",
       "\n",
       "  Offline_Spend  Online_Spend  \n",
       "0          4500        2424.5  \n",
       "1          4500        2424.5  \n",
       "2          4500        2424.5  \n",
       "3          4500        2424.5  \n",
       "4          4500        2424.5  \n",
       "\n",
       "[5 rows x 21 columns]"
      ]
     },
     "execution_count": 321,
     "metadata": {},
     "output_type": "execute_result"
    }
   ],
   "source": [
    "cust_final.head()"
   ]
  },
  {
   "cell_type": "markdown",
   "id": "e69606ff",
   "metadata": {},
   "source": [
    "**--Invoice Amount**"
   ]
  },
  {
   "cell_type": "code",
   "execution_count": 21,
   "id": "621e4177",
   "metadata": {},
   "outputs": [],
   "source": [
    "cust_final['Invoice_amnt'] = ((cust_final.Avg_Price * cust_final.Quantity) + (1 - cust_final.Discount_pct / 100) + (1 + cust_final.GST ) + cust_final.Delivery_Charges)"
   ]
  },
  {
   "cell_type": "code",
   "execution_count": 22,
   "id": "b40edd39",
   "metadata": {},
   "outputs": [
    {
     "data": {
      "text/plain": [
       "0        162.21\n",
       "1        162.21\n",
       "2         10.55\n",
       "3         96.23\n",
       "4         25.08\n",
       "          ...  \n",
       "52919    129.60\n",
       "52920     57.30\n",
       "52921    160.18\n",
       "52922    410.90\n",
       "52923    343.87\n",
       "Name: Invoice_amnt, Length: 52924, dtype: float64"
      ]
     },
     "execution_count": 22,
     "metadata": {},
     "output_type": "execute_result"
    }
   ],
   "source": [
    "cust_final.Invoice_amnt"
   ]
  },
  {
   "cell_type": "markdown",
   "id": "14c215f4",
   "metadata": {},
   "source": [
    "**--New Customers accuired in a month**"
   ]
  },
  {
   "cell_type": "code",
   "execution_count": 23,
   "id": "8240c8d1",
   "metadata": {},
   "outputs": [],
   "source": [
    "cust_final['year_month'] = cust_final.Transaction_Date.apply(lambda x: pd.Timestamp.strftime(x , format = \"%Y-%m\"))"
   ]
  },
  {
   "cell_type": "code",
   "execution_count": 24,
   "id": "8b1d2a21",
   "metadata": {},
   "outputs": [],
   "source": [
    "new_cust = cust_final.loc[:,['CustomerID','year_month']]\n",
    "new_cust.drop_duplicates(subset='CustomerID' , inplace= True)"
   ]
  },
  {
   "cell_type": "code",
   "execution_count": 25,
   "id": "6f9fe876",
   "metadata": {},
   "outputs": [
    {
     "data": {
      "text/plain": [
       "<AxesSubplot:xlabel='year_month'>"
      ]
     },
     "execution_count": 25,
     "metadata": {},
     "output_type": "execute_result"
    },
    {
     "data": {
      "image/png": "[encoded data removed]",
      "text/plain": [
       "<Figure size 1080x432 with 1 Axes>"
      ]
     },
     "metadata": {
      "needs_background": "light"
     },
     "output_type": "display_data"
    }
   ],
   "source": [
    "new_cust = new_cust.groupby('year_month')['CustomerID'].count()\n",
    "new_cust.plot(kind='bar',figsize = (15,6))"
   ]
  },
  {
   "cell_type": "markdown",
   "id": "fa0eb31f",
   "metadata": {},
   "source": [
    "**--Retented customer based on month**"
   ]
  },
  {
   "cell_type": "code",
   "execution_count": 26,
   "id": "22fa35de",
   "metadata": {},
   "outputs": [],
   "source": [
    "old_cust = cust_final.groupby('year_month')['CustomerID'].count().reset_index()"
   ]
  },
  {
   "cell_type": "code",
   "execution_count": 27,
   "id": "5f348373",
   "metadata": {},
   "outputs": [],
   "source": [
    "reten = pd.merge(new_cust,old_cust,how='left',on='year_month')\n",
    "reten['retented'] = reten.CustomerID_y-reten.CustomerID_x"
   ]
  },
  {
   "cell_type": "code",
   "execution_count": 28,
   "id": "25cde3f5",
   "metadata": {},
   "outputs": [
    {
     "data": {
      "text/plain": [
       "<AxesSubplot:xlabel='year_month'>"
      ]
     },
     "execution_count": 28,
     "metadata": {},
     "output_type": "execute_result"
    },
    {
     "data": {
      "image/png": "[encoded data removed]",
      "text/plain": [
       "<Figure size 1080x432 with 1 Axes>"
      ]
     },
     "metadata": {
      "needs_background": "light"
     },
     "output_type": "display_data"
    }
   ],
   "source": [
    "reten.plot(kind='bar',x='year_month',y='retented',figsize = (15,6))"
   ]
  },
  {
   "cell_type": "markdown",
   "id": "8c1bf80e",
   "metadata": {},
   "source": [
    "**--revenues from existing/new customers on month on month basis**"
   ]
  },
  {
   "cell_type": "code",
   "execution_count": 29,
   "id": "7fcf1d33",
   "metadata": {},
   "outputs": [],
   "source": [
    "cust_final['Sales_amt'] = ((cust_final.Quantity*cust_final.Avg_Price)*((1-cust_final.Discount_pct/100)))"
   ]
  },
  {
   "cell_type": "code",
   "execution_count": 30,
   "id": "18baccfc",
   "metadata": {},
   "outputs": [
    {
     "data": {
      "text/plain": [
       "<AxesSubplot:xlabel='year_month'>"
      ]
     },
     "execution_count": 30,
     "metadata": {},
     "output_type": "execute_result"
    },
    {
     "data": {
      "image/png": "[encoded data removed]",
      "text/plain": [
       "<Figure size 1080x432 with 1 Axes>"
      ]
     },
     "metadata": {
      "needs_background": "light"
     },
     "output_type": "display_data"
    }
   ],
   "source": [
    "cust_final.groupby('year_month')['Sales_amt'].sum().plot(kind='bar',figsize = (15,6))"
   ]
  },
  {
   "cell_type": "markdown",
   "id": "0970897b",
   "metadata": {},
   "source": [
    "**--discounts playing role in the revenues**"
   ]
  },
  {
   "cell_type": "code",
   "execution_count": 31,
   "id": "fb19bccf",
   "metadata": {},
   "outputs": [
    {
     "data": {
      "text/plain": [
       "<AxesSubplot:xlabel='Discount_pct'>"
      ]
     },
     "execution_count": 31,
     "metadata": {},
     "output_type": "execute_result"
    },
    {
     "data": {
      "image/png": "[encoded data removed]",
      "text/plain": [
       "<Figure size 1080x432 with 1 Axes>"
      ]
     },
     "metadata": {
      "needs_background": "light"
     },
     "output_type": "display_data"
    }
   ],
   "source": [
    "cust_final.groupby('Discount_pct')['Sales_amt'].sum().plot(kind = 'bar',figsize = (15,6))"
   ]
  },
  {
   "cell_type": "markdown",
   "id": "7197c714",
   "metadata": {},
   "source": [
    "**--Analyse KPI’s like Revenue, number of orders, average order value, number of customers (existing/new), quantity, by category, by month, by week, by day**"
   ]
  },
  {
   "cell_type": "markdown",
   "id": "c5444e41",
   "metadata": {},
   "source": [
    "$Invoice Amount$"
   ]
  },
  {
   "cell_type": "code",
   "execution_count": 32,
   "id": "9c75faae",
   "metadata": {},
   "outputs": [
    {
     "data": {
      "text/plain": [
       "<AxesSubplot:xlabel='year_month'>"
      ]
     },
     "execution_count": 32,
     "metadata": {},
     "output_type": "execute_result"
    },
    {
     "data": {
      "image/png": "[encoded data removed]",
      "text/plain": [
       "<Figure size 432x288 with 1 Axes>"
      ]
     },
     "metadata": {
      "needs_background": "light"
     },
     "output_type": "display_data"
    }
   ],
   "source": [
    "cust_final.groupby('year_month')['Invoice_amnt'].sum().plot(kind='line')"
   ]
  },
  {
   "cell_type": "code",
   "execution_count": 33,
   "id": "3afe270b",
   "metadata": {},
   "outputs": [
    {
     "name": "stderr",
     "output_type": "stream",
     "text": [
      "C:\\Users\\Nithin\\AppData\\Local\\Temp/ipykernel_11728/1563564527.py:1: FutureWarning: Series.dt.weekofyear and Series.dt.week have been deprecated.  Please use Series.dt.isocalendar().week instead.\n",
      "  pd.pivot_table(cust_final,index=cust_final.Transaction_Date.dt.week,values='Invoice_amnt',aggfunc='sum').plot(kind='line')\n"
     ]
    },
    {
     "data": {
      "text/plain": [
       "<AxesSubplot:xlabel='Transaction_Date'>"
      ]
     },
     "execution_count": 33,
     "metadata": {},
     "output_type": "execute_result"
    },
    {
     "data": {
      "image/png": "[encoded data removed]",
      "text/plain": [
       "<Figure size 432x288 with 1 Axes>"
      ]
     },
     "metadata": {
      "needs_background": "light"
     },
     "output_type": "display_data"
    }
   ],
   "source": [
    "pd.pivot_table(cust_final,index=cust_final.Transaction_Date.dt.week,values='Invoice_amnt',aggfunc='sum').plot(kind='line')"
   ]
  },
  {
   "cell_type": "code",
   "execution_count": 34,
   "id": "b5b4a93b",
   "metadata": {},
   "outputs": [
    {
     "data": {
      "text/plain": [
       "<AxesSubplot:xlabel='Transaction_Date'>"
      ]
     },
     "execution_count": 34,
     "metadata": {},
     "output_type": "execute_result"
    },
    {
     "data": {
      "image/png": "[encoded data removed]",
      "text/plain": [
       "<Figure size 432x288 with 1 Axes>"
      ]
     },
     "metadata": {
      "needs_background": "light"
     },
     "output_type": "display_data"
    }
   ],
   "source": [
    "pd.pivot_table(cust_final,index=cust_final.Transaction_Date.dt.day,values='Invoice_amnt',aggfunc='sum').plot(kind='line')"
   ]
  },
  {
   "cell_type": "markdown",
   "id": "e898f548",
   "metadata": {},
   "source": [
    "$Sales Amount$"
   ]
  },
  {
   "cell_type": "code",
   "execution_count": 35,
   "id": "87bc227b",
   "metadata": {},
   "outputs": [
    {
     "data": {
      "text/plain": [
       "<AxesSubplot:xlabel='year_month'>"
      ]
     },
     "execution_count": 35,
     "metadata": {},
     "output_type": "execute_result"
    },
    {
     "data": {
      "image/png": "[encoded data removed]",
      "text/plain": [
       "<Figure size 432x288 with 1 Axes>"
      ]
     },
     "metadata": {
      "needs_background": "light"
     },
     "output_type": "display_data"
    }
   ],
   "source": [
    "cust_final.groupby('year_month')['Sales_amt'].sum().plot(kind='line')"
   ]
  },
  {
   "cell_type": "code",
   "execution_count": 36,
   "id": "cdf868f3",
   "metadata": {},
   "outputs": [
    {
     "name": "stderr",
     "output_type": "stream",
     "text": [
      "C:\\Users\\Nithin\\AppData\\Local\\Temp/ipykernel_11728/1168954954.py:1: FutureWarning: Series.dt.weekofyear and Series.dt.week have been deprecated.  Please use Series.dt.isocalendar().week instead.\n",
      "  pd.pivot_table(cust_final,index=cust_final.Transaction_Date.dt.week,values='Sales_amt',aggfunc='sum').plot(kind='line')\n"
     ]
    },
    {
     "data": {
      "text/plain": [
       "<AxesSubplot:xlabel='Transaction_Date'>"
      ]
     },
     "execution_count": 36,
     "metadata": {},
     "output_type": "execute_result"
    },
    {
     "data": {
      "image/png": "[encoded data removed]",
      "text/plain": [
       "<Figure size 432x288 with 1 Axes>"
      ]
     },
     "metadata": {
      "needs_background": "light"
     },
     "output_type": "display_data"
    }
   ],
   "source": [
    "pd.pivot_table(cust_final,index=cust_final.Transaction_Date.dt.week,values='Sales_amt',aggfunc='sum').plot(kind='line')"
   ]
  },
  {
   "cell_type": "code",
   "execution_count": 37,
   "id": "994fe1d5",
   "metadata": {},
   "outputs": [
    {
     "data": {
      "text/plain": [
       "<AxesSubplot:xlabel='Transaction_Date'>"
      ]
     },
     "execution_count": 37,
     "metadata": {},
     "output_type": "execute_result"
    },
    {
     "data": {
      "image/png": "[encoded data removed]",
      "text/plain": [
       "<Figure size 432x288 with 1 Axes>"
      ]
     },
     "metadata": {
      "needs_background": "light"
     },
     "output_type": "display_data"
    }
   ],
   "source": [
    "pd.pivot_table(cust_final,index=cust_final.Transaction_Date.dt.day,values='Sales_amt',aggfunc='sum').plot(kind='line')"
   ]
  },
  {
   "cell_type": "markdown",
   "id": "8a770a84",
   "metadata": {},
   "source": [
    "$Quantity$"
   ]
  },
  {
   "cell_type": "code",
   "execution_count": 38,
   "id": "cd195a38",
   "metadata": {},
   "outputs": [
    {
     "data": {
      "text/plain": [
       "<AxesSubplot:xlabel='year_month'>"
      ]
     },
     "execution_count": 38,
     "metadata": {},
     "output_type": "execute_result"
    },
    {
     "data": {
      "image/png": "[encoded data removed]",
      "text/plain": [
       "<Figure size 432x288 with 1 Axes>"
      ]
     },
     "metadata": {
      "needs_background": "light"
     },
     "output_type": "display_data"
    }
   ],
   "source": [
    "cust_final.groupby('year_month')['Quantity'].sum().plot(kind='line')"
   ]
  },
  {
   "cell_type": "code",
   "execution_count": 39,
   "id": "04119c81",
   "metadata": {},
   "outputs": [
    {
     "name": "stderr",
     "output_type": "stream",
     "text": [
      "C:\\Users\\Nithin\\AppData\\Local\\Temp/ipykernel_11728/1018284971.py:1: FutureWarning: Series.dt.weekofyear and Series.dt.week have been deprecated.  Please use Series.dt.isocalendar().week instead.\n",
      "  pd.pivot_table(cust_final,index=cust_final.Transaction_Date.dt.week,values='Quantity',aggfunc='sum').plot(kind='line')\n"
     ]
    },
    {
     "data": {
      "text/plain": [
       "<AxesSubplot:xlabel='Transaction_Date'>"
      ]
     },
     "execution_count": 39,
     "metadata": {},
     "output_type": "execute_result"
    },
    {
     "data": {
      "image/png": "[encoded data removed]",
      "text/plain": [
       "<Figure size 432x288 with 1 Axes>"
      ]
     },
     "metadata": {
      "needs_background": "light"
     },
     "output_type": "display_data"
    }
   ],
   "source": [
    "pd.pivot_table(cust_final,index=cust_final.Transaction_Date.dt.week,values='Quantity',aggfunc='sum').plot(kind='line')"
   ]
  },
  {
   "cell_type": "code",
   "execution_count": 40,
   "id": "e509580c",
   "metadata": {},
   "outputs": [
    {
     "data": {
      "text/plain": [
       "<AxesSubplot:xlabel='Transaction_Date'>"
      ]
     },
     "execution_count": 40,
     "metadata": {},
     "output_type": "execute_result"
    },
    {
     "data": {
      "image/png": "[encoded data removed]",
      "text/plain": [
       "<Figure size 432x288 with 1 Axes>"
      ]
     },
     "metadata": {
      "needs_background": "light"
     },
     "output_type": "display_data"
    }
   ],
   "source": [
    "pd.pivot_table(cust_final,index=cust_final.Transaction_Date.dt.day,values='Quantity',aggfunc='sum').plot(kind='line')"
   ]
  },
  {
   "cell_type": "markdown",
   "id": "642a2e50",
   "metadata": {},
   "source": [
    "$Customers$"
   ]
  },
  {
   "cell_type": "code",
   "execution_count": 41,
   "id": "98aecf23",
   "metadata": {},
   "outputs": [],
   "source": [
    "reten.rename(columns={'CustomerID_y':'old','CustomerID_x':'new'},inplace=True)\n",
    "reten.rename(columns={'old':'all','retented':'old'},inplace=True)"
   ]
  },
  {
   "cell_type": "code",
   "execution_count": 42,
   "id": "8cc49e2a",
   "metadata": {},
   "outputs": [
    {
     "data": {
      "text/html": [
       "<div>\n",
       "<style scoped>\n",
       "    .dataframe tbody tr th:only-of-type {\n",
       "        vertical-align: middle;\n",
       "    }\n",
       "\n",
       "    .dataframe tbody tr th {\n",
       "        vertical-align: top;\n",
       "    }\n",
       "\n",
       "    .dataframe thead th {\n",
       "        text-align: right;\n",
       "    }\n",
       "</style>\n",
       "<table border=\"1\" class=\"dataframe\">\n",
       "  <thead>\n",
       "    <tr style=\"text-align: right;\">\n",
       "      <th></th>\n",
       "      <th>year_month</th>\n",
       "      <th>new</th>\n",
       "      <th>all</th>\n",
       "      <th>old</th>\n",
       "    </tr>\n",
       "  </thead>\n",
       "  <tbody>\n",
       "    <tr>\n",
       "      <th>0</th>\n",
       "      <td>2019-01</td>\n",
       "      <td>215</td>\n",
       "      <td>4063</td>\n",
       "      <td>3848</td>\n",
       "    </tr>\n",
       "    <tr>\n",
       "      <th>1</th>\n",
       "      <td>2019-02</td>\n",
       "      <td>96</td>\n",
       "      <td>3284</td>\n",
       "      <td>3188</td>\n",
       "    </tr>\n",
       "    <tr>\n",
       "      <th>2</th>\n",
       "      <td>2019-03</td>\n",
       "      <td>177</td>\n",
       "      <td>4346</td>\n",
       "      <td>4169</td>\n",
       "    </tr>\n",
       "    <tr>\n",
       "      <th>3</th>\n",
       "      <td>2019-04</td>\n",
       "      <td>163</td>\n",
       "      <td>4150</td>\n",
       "      <td>3987</td>\n",
       "    </tr>\n",
       "    <tr>\n",
       "      <th>4</th>\n",
       "      <td>2019-05</td>\n",
       "      <td>112</td>\n",
       "      <td>4572</td>\n",
       "      <td>4460</td>\n",
       "    </tr>\n",
       "    <tr>\n",
       "      <th>5</th>\n",
       "      <td>2019-06</td>\n",
       "      <td>137</td>\n",
       "      <td>4193</td>\n",
       "      <td>4056</td>\n",
       "    </tr>\n",
       "    <tr>\n",
       "      <th>6</th>\n",
       "      <td>2019-07</td>\n",
       "      <td>94</td>\n",
       "      <td>5251</td>\n",
       "      <td>5157</td>\n",
       "    </tr>\n",
       "    <tr>\n",
       "      <th>7</th>\n",
       "      <td>2019-08</td>\n",
       "      <td>135</td>\n",
       "      <td>6150</td>\n",
       "      <td>6015</td>\n",
       "    </tr>\n",
       "    <tr>\n",
       "      <th>8</th>\n",
       "      <td>2019-09</td>\n",
       "      <td>78</td>\n",
       "      <td>4288</td>\n",
       "      <td>4210</td>\n",
       "    </tr>\n",
       "    <tr>\n",
       "      <th>9</th>\n",
       "      <td>2019-10</td>\n",
       "      <td>87</td>\n",
       "      <td>4164</td>\n",
       "      <td>4077</td>\n",
       "    </tr>\n",
       "    <tr>\n",
       "      <th>10</th>\n",
       "      <td>2019-11</td>\n",
       "      <td>68</td>\n",
       "      <td>3961</td>\n",
       "      <td>3893</td>\n",
       "    </tr>\n",
       "    <tr>\n",
       "      <th>11</th>\n",
       "      <td>2019-12</td>\n",
       "      <td>106</td>\n",
       "      <td>4502</td>\n",
       "      <td>4396</td>\n",
       "    </tr>\n",
       "  </tbody>\n",
       "</table>\n",
       "</div>"
      ],
      "text/plain": [
       "   year_month  new   all   old\n",
       "0     2019-01  215  4063  3848\n",
       "1     2019-02   96  3284  3188\n",
       "2     2019-03  177  4346  4169\n",
       "3     2019-04  163  4150  3987\n",
       "4     2019-05  112  4572  4460\n",
       "5     2019-06  137  4193  4056\n",
       "6     2019-07   94  5251  5157\n",
       "7     2019-08  135  6150  6015\n",
       "8     2019-09   78  4288  4210\n",
       "9     2019-10   87  4164  4077\n",
       "10    2019-11   68  3961  3893\n",
       "11    2019-12  106  4502  4396"
      ]
     },
     "execution_count": 42,
     "metadata": {},
     "output_type": "execute_result"
    }
   ],
   "source": [
    "reten"
   ]
  },
  {
   "cell_type": "code",
   "execution_count": 43,
   "id": "d70a2053",
   "metadata": {},
   "outputs": [
    {
     "data": {
      "text/plain": [
       "<AxesSubplot:>"
      ]
     },
     "execution_count": 43,
     "metadata": {},
     "output_type": "execute_result"
    },
    {
     "data": {
      "image/png": "[encoded data removed]",
      "text/plain": [
       "<Figure size 432x288 with 1 Axes>"
      ]
     },
     "metadata": {
      "needs_background": "light"
     },
     "output_type": "display_data"
    }
   ],
   "source": [
    "reten.loc[:,['old','new']].plot(kind='bar')"
   ]
  },
  {
   "cell_type": "markdown",
   "id": "c57a61ea",
   "metadata": {},
   "source": [
    "**--Understand the trends/seasonality of sales by category, location, month**"
   ]
  },
  {
   "cell_type": "code",
   "execution_count": 44,
   "id": "0fd97302",
   "metadata": {},
   "outputs": [
    {
     "data": {
      "text/plain": [
       "<AxesSubplot:xlabel='Transaction_Date'>"
      ]
     },
     "execution_count": 44,
     "metadata": {},
     "output_type": "execute_result"
    },
    {
     "data": {
      "image/png": "[encoded data removed]",
      "text/plain": [
       "<Figure size 1152x432 with 1 Axes>"
      ]
     },
     "metadata": {
      "needs_background": "light"
     },
     "output_type": "display_data"
    }
   ],
   "source": [
    "pd.pivot_table(cust_final,index=cust_final.Transaction_Date.dt.month,columns='Location',values='Invoice_amnt',aggfunc='sum').plot(kind='bar',figsize=(16,6))"
   ]
  },
  {
   "cell_type": "code",
   "execution_count": 45,
   "id": "351fb791",
   "metadata": {},
   "outputs": [
    {
     "data": {
      "text/plain": [
       "<AxesSubplot:ylabel='Transaction_Date'>"
      ]
     },
     "execution_count": 45,
     "metadata": {},
     "output_type": "execute_result"
    },
    {
     "data": {
      "image/png": "[encoded data removed]",
      "text/plain": [
       "<Figure size 1152x432 with 1 Axes>"
      ]
     },
     "metadata": {
      "needs_background": "light"
     },
     "output_type": "display_data"
    }
   ],
   "source": [
    "pd.pivot_table(cust_final,index=cust_final.Transaction_Date.dt.month,columns='Product_Category',values='Invoice_amnt',aggfunc='sum').plot(kind='barh',stacked=True,figsize=(16,6))"
   ]
  },
  {
   "cell_type": "markdown",
   "id": "7f993390",
   "metadata": {},
   "source": [
    "**--How number order varies and sales with different days**"
   ]
  },
  {
   "cell_type": "code",
   "execution_count": 46,
   "id": "8580c29a",
   "metadata": {},
   "outputs": [
    {
     "data": {
      "text/plain": [
       "<AxesSubplot:ylabel='Transaction_Date'>"
      ]
     },
     "execution_count": 46,
     "metadata": {},
     "output_type": "execute_result"
    },
    {
     "data": {
      "image/png": "[encoded data removed]",
      "text/plain": [
       "<Figure size 1152x432 with 1 Axes>"
      ]
     },
     "metadata": {
      "needs_background": "light"
     },
     "output_type": "display_data"
    }
   ],
   "source": [
    "pd.pivot_table(cust_final,index=cust_final.Transaction_Date.dt.weekday,values='Quantity',aggfunc='sum').plot(kind='barh',figsize=(16,6))"
   ]
  },
  {
   "cell_type": "code",
   "execution_count": 47,
   "id": "0af3e947",
   "metadata": {},
   "outputs": [
    {
     "data": {
      "text/plain": [
       "<AxesSubplot:ylabel='Transaction_Date'>"
      ]
     },
     "execution_count": 47,
     "metadata": {},
     "output_type": "execute_result"
    },
    {
     "data": {
      "image/png": "[encoded data removed]",
      "text/plain": [
       "<Figure size 1152x432 with 1 Axes>"
      ]
     },
     "metadata": {
      "needs_background": "light"
     },
     "output_type": "display_data"
    }
   ],
   "source": [
    "pd.pivot_table(cust_final,index=cust_final.Transaction_Date.dt.weekday,values='Invoice_amnt',aggfunc='sum').plot(kind='barh',figsize=(16,6))"
   ]
  },
  {
   "cell_type": "markdown",
   "id": "486a789a",
   "metadata": {},
   "source": [
    "**--Calculate the Revenue, Marketing spend, percentage of marketing spend out of revenue, Tax, percentage of delivery charges by month**"
   ]
  },
  {
   "cell_type": "markdown",
   "id": "b38c2d85",
   "metadata": {},
   "source": [
    "$Mktg Spends$"
   ]
  },
  {
   "cell_type": "code",
   "execution_count": 48,
   "id": "c161755a",
   "metadata": {},
   "outputs": [],
   "source": [
    "cust_final['total_mktg_spend'] = (cust_final.Offline_Spend + cust_final.Online_Spend)"
   ]
  },
  {
   "cell_type": "code",
   "execution_count": 49,
   "id": "40a0b384",
   "metadata": {},
   "outputs": [
    {
     "data": {
      "text/plain": [
       "<AxesSubplot:xlabel='year_month'>"
      ]
     },
     "execution_count": 49,
     "metadata": {},
     "output_type": "execute_result"
    },
    {
     "data": {
      "image/png": "[encoded data removed]",
      "text/plain": [
       "<Figure size 1080x432 with 1 Axes>"
      ]
     },
     "metadata": {
      "needs_background": "light"
     },
     "output_type": "display_data"
    }
   ],
   "source": [
    "cust_final.groupby('year_month')['total_mktg_spend'].sum().plot(kind='bar',figsize=(15,6))"
   ]
  },
  {
   "cell_type": "markdown",
   "id": "4fd3b484",
   "metadata": {},
   "source": [
    "$Delivery Charges$"
   ]
  },
  {
   "cell_type": "code",
   "execution_count": 50,
   "id": "962b5207",
   "metadata": {},
   "outputs": [],
   "source": [
    "devlivery_month = cust_final.groupby('year_month')['total_mktg_spend'].sum()/(cust_final.Delivery_Charges.sum())"
   ]
  },
  {
   "cell_type": "code",
   "execution_count": 51,
   "id": "b56fea1f",
   "metadata": {},
   "outputs": [
    {
     "data": {
      "text/plain": [
       "<AxesSubplot:ylabel='total_mktg_spend'>"
      ]
     },
     "execution_count": 51,
     "metadata": {},
     "output_type": "execute_result"
    },
    {
     "data": {
      "image/png": "[encoded data removed]",
      "text/plain": [
       "<Figure size 864x432 with 1 Axes>"
      ]
     },
     "metadata": {},
     "output_type": "display_data"
    }
   ],
   "source": [
    "devlivery_month.plot(kind='pie',figsize=(12,6))"
   ]
  },
  {
   "cell_type": "markdown",
   "id": "10fd23b8",
   "metadata": {},
   "source": [
    "**--How marketing spend is impacting on revenue?**"
   ]
  },
  {
   "cell_type": "code",
   "execution_count": 52,
   "id": "1ee9e9a1",
   "metadata": {},
   "outputs": [],
   "source": [
    "impact = cust_final.loc[:,['year_month','Invoice_amnt','total_mktg_spend']]"
   ]
  },
  {
   "cell_type": "code",
   "execution_count": 53,
   "id": "0664d7fd",
   "metadata": {},
   "outputs": [
    {
     "data": {
      "text/plain": [
       "<AxesSubplot:ylabel='year_month'>"
      ]
     },
     "execution_count": 53,
     "metadata": {},
     "output_type": "execute_result"
    },
    {
     "data": {
      "image/png": "[encoded data removed]",
      "text/plain": [
       "<Figure size 432x288 with 1 Axes>"
      ]
     },
     "metadata": {
      "needs_background": "light"
     },
     "output_type": "display_data"
    }
   ],
   "source": [
    "pd.pivot_table(impact,index='year_month',values=['Invoice_amnt','total_mktg_spend'],aggfunc='sum').plot(kind='barh')"
   ]
  },
  {
   "cell_type": "markdown",
   "id": "77211528",
   "metadata": {},
   "source": [
    "**--Which product was appeared in the transactions?**"
   ]
  },
  {
   "cell_type": "code",
   "execution_count": 54,
   "id": "9b247a6f",
   "metadata": {},
   "outputs": [
    {
     "data": {
      "text/plain": [
       "Product_Category\n",
       "Nest-USA    2680485.05\n",
       "Apparel      803892.02\n",
       "Nest         538287.80\n",
       "Name: Invoice_amnt, dtype: float64"
      ]
     },
     "execution_count": 54,
     "metadata": {},
     "output_type": "execute_result"
    }
   ],
   "source": [
    "cust_final.groupby('Product_Category').Invoice_amnt.sum().sort_values(ascending=False).head(3)"
   ]
  },
  {
   "cell_type": "markdown",
   "id": "ab96cb28",
   "metadata": {},
   "source": [
    "**--Which product was purchased mostly based on the quantity**"
   ]
  },
  {
   "cell_type": "code",
   "execution_count": 55,
   "id": "87d2c889",
   "metadata": {},
   "outputs": [
    {
     "data": {
      "text/plain": [
       "Product_Category\n",
       "Office       88383\n",
       "Apparel      32438\n",
       "Drinkware    30501\n",
       "Name: Quantity, dtype: int64"
      ]
     },
     "execution_count": 55,
     "metadata": {},
     "output_type": "execute_result"
    }
   ],
   "source": [
    "cust_final.groupby('Product_Category').Quantity.sum().sort_values(ascending=False).head(3)"
   ]
  },
  {
   "cell_type": "markdown",
   "id": "46225b38",
   "metadata": {},
   "source": [
    "### Segmentation"
   ]
  },
  {
   "cell_type": "markdown",
   "id": "f9ad026d",
   "metadata": {},
   "source": [
    "**--Heuristic (Value based, RFM) – Divide the customers into Premium, Gold, Silver**"
   ]
  },
  {
   "cell_type": "markdown",
   "id": "0ce654ec",
   "metadata": {},
   "source": [
    "$Value Based$"
   ]
  },
  {
   "cell_type": "code",
   "execution_count": 56,
   "id": "58b6ec47",
   "metadata": {},
   "outputs": [],
   "source": [
    "vb = cust_final.copy()"
   ]
  },
  {
   "cell_type": "code",
   "execution_count": 57,
   "id": "39fa8fbb",
   "metadata": {},
   "outputs": [],
   "source": [
    "vb['decile'] = pd.qcut(vb.Invoice_amnt,3,labels=False)"
   ]
  },
  {
   "cell_type": "code",
   "execution_count": 58,
   "id": "0db7e388",
   "metadata": {},
   "outputs": [],
   "source": [
    "vb.decile = np.where(vb.decile==0,'Silver',\n",
    "            np.where(vb.decile==1,'Gold',\n",
    "            np.where(vb.decile==2,'Premium','Premium')))"
   ]
  },
  {
   "cell_type": "code",
   "execution_count": 59,
   "id": "8cfc945d",
   "metadata": {},
   "outputs": [
    {
     "data": {
      "text/html": [
       "<div>\n",
       "<style scoped>\n",
       "    .dataframe tbody tr th:only-of-type {\n",
       "        vertical-align: middle;\n",
       "    }\n",
       "\n",
       "    .dataframe tbody tr th {\n",
       "        vertical-align: top;\n",
       "    }\n",
       "\n",
       "    .dataframe thead th {\n",
       "        text-align: right;\n",
       "    }\n",
       "</style>\n",
       "<table border=\"1\" class=\"dataframe\">\n",
       "  <thead>\n",
       "    <tr style=\"text-align: right;\">\n",
       "      <th></th>\n",
       "      <th>CustomerID</th>\n",
       "      <th>Transaction_ID</th>\n",
       "      <th>Transaction_Date</th>\n",
       "      <th>Product_SKU</th>\n",
       "      <th>Product_Description</th>\n",
       "      <th>Product_Category</th>\n",
       "      <th>Quantity</th>\n",
       "      <th>Avg_Price</th>\n",
       "      <th>Delivery_Charges</th>\n",
       "      <th>Coupon_Status</th>\n",
       "      <th>...</th>\n",
       "      <th>Coupon_Code</th>\n",
       "      <th>Discount_pct</th>\n",
       "      <th>Date</th>\n",
       "      <th>Offline_Spend</th>\n",
       "      <th>Online_Spend</th>\n",
       "      <th>Invoice_amnt</th>\n",
       "      <th>year_month</th>\n",
       "      <th>Sales_amt</th>\n",
       "      <th>total_mktg_spend</th>\n",
       "      <th>decile</th>\n",
       "    </tr>\n",
       "  </thead>\n",
       "  <tbody>\n",
       "    <tr>\n",
       "      <th>0</th>\n",
       "      <td>17850</td>\n",
       "      <td>16679</td>\n",
       "      <td>2019-01-01</td>\n",
       "      <td>GGOENEBJ079499</td>\n",
       "      <td>Nest Learning Thermostat 3rd Gen-USA - Stainle...</td>\n",
       "      <td>Nest-USA</td>\n",
       "      <td>1</td>\n",
       "      <td>153.71</td>\n",
       "      <td>6.5</td>\n",
       "      <td>Used</td>\n",
       "      <td>...</td>\n",
       "      <td>ELEC10</td>\n",
       "      <td>10.0</td>\n",
       "      <td>2019-01-01</td>\n",
       "      <td>4500</td>\n",
       "      <td>2424.5</td>\n",
       "      <td>162.21</td>\n",
       "      <td>2019-01</td>\n",
       "      <td>138.339</td>\n",
       "      <td>6924.5</td>\n",
       "      <td>Premium</td>\n",
       "    </tr>\n",
       "    <tr>\n",
       "      <th>1</th>\n",
       "      <td>17850</td>\n",
       "      <td>16680</td>\n",
       "      <td>2019-01-01</td>\n",
       "      <td>GGOENEBJ079499</td>\n",
       "      <td>Nest Learning Thermostat 3rd Gen-USA - Stainle...</td>\n",
       "      <td>Nest-USA</td>\n",
       "      <td>1</td>\n",
       "      <td>153.71</td>\n",
       "      <td>6.5</td>\n",
       "      <td>Used</td>\n",
       "      <td>...</td>\n",
       "      <td>ELEC10</td>\n",
       "      <td>10.0</td>\n",
       "      <td>2019-01-01</td>\n",
       "      <td>4500</td>\n",
       "      <td>2424.5</td>\n",
       "      <td>162.21</td>\n",
       "      <td>2019-01</td>\n",
       "      <td>138.339</td>\n",
       "      <td>6924.5</td>\n",
       "      <td>Premium</td>\n",
       "    </tr>\n",
       "    <tr>\n",
       "      <th>2</th>\n",
       "      <td>17850</td>\n",
       "      <td>16681</td>\n",
       "      <td>2019-01-01</td>\n",
       "      <td>GGOEGFKQ020399</td>\n",
       "      <td>Google Laptop and Cell Phone Stickers</td>\n",
       "      <td>Office</td>\n",
       "      <td>1</td>\n",
       "      <td>2.05</td>\n",
       "      <td>6.5</td>\n",
       "      <td>Used</td>\n",
       "      <td>...</td>\n",
       "      <td>OFF10</td>\n",
       "      <td>10.0</td>\n",
       "      <td>2019-01-01</td>\n",
       "      <td>4500</td>\n",
       "      <td>2424.5</td>\n",
       "      <td>10.55</td>\n",
       "      <td>2019-01</td>\n",
       "      <td>1.845</td>\n",
       "      <td>6924.5</td>\n",
       "      <td>Silver</td>\n",
       "    </tr>\n",
       "    <tr>\n",
       "      <th>3</th>\n",
       "      <td>17850</td>\n",
       "      <td>16682</td>\n",
       "      <td>2019-01-01</td>\n",
       "      <td>GGOEGAAB010516</td>\n",
       "      <td>Google Men's 100% Cotton Short Sleeve Hero Tee...</td>\n",
       "      <td>Apparel</td>\n",
       "      <td>5</td>\n",
       "      <td>17.53</td>\n",
       "      <td>6.5</td>\n",
       "      <td>Not Used</td>\n",
       "      <td>...</td>\n",
       "      <td>SALE10</td>\n",
       "      <td>10.0</td>\n",
       "      <td>2019-01-01</td>\n",
       "      <td>4500</td>\n",
       "      <td>2424.5</td>\n",
       "      <td>96.23</td>\n",
       "      <td>2019-01</td>\n",
       "      <td>78.885</td>\n",
       "      <td>6924.5</td>\n",
       "      <td>Gold</td>\n",
       "    </tr>\n",
       "    <tr>\n",
       "      <th>4</th>\n",
       "      <td>17850</td>\n",
       "      <td>16682</td>\n",
       "      <td>2019-01-01</td>\n",
       "      <td>GGOEGBJL013999</td>\n",
       "      <td>Google Canvas Tote Natural/Navy</td>\n",
       "      <td>Bags</td>\n",
       "      <td>1</td>\n",
       "      <td>16.50</td>\n",
       "      <td>6.5</td>\n",
       "      <td>Used</td>\n",
       "      <td>...</td>\n",
       "      <td>AIO10</td>\n",
       "      <td>10.0</td>\n",
       "      <td>2019-01-01</td>\n",
       "      <td>4500</td>\n",
       "      <td>2424.5</td>\n",
       "      <td>25.08</td>\n",
       "      <td>2019-01</td>\n",
       "      <td>14.850</td>\n",
       "      <td>6924.5</td>\n",
       "      <td>Gold</td>\n",
       "    </tr>\n",
       "    <tr>\n",
       "      <th>5</th>\n",
       "      <td>17850</td>\n",
       "      <td>16682</td>\n",
       "      <td>2019-01-01</td>\n",
       "      <td>GGOEGBMJ013399</td>\n",
       "      <td>Sport Bag</td>\n",
       "      <td>Bags</td>\n",
       "      <td>15</td>\n",
       "      <td>5.15</td>\n",
       "      <td>6.5</td>\n",
       "      <td>Used</td>\n",
       "      <td>...</td>\n",
       "      <td>AIO10</td>\n",
       "      <td>10.0</td>\n",
       "      <td>2019-01-01</td>\n",
       "      <td>4500</td>\n",
       "      <td>2424.5</td>\n",
       "      <td>85.83</td>\n",
       "      <td>2019-01</td>\n",
       "      <td>69.525</td>\n",
       "      <td>6924.5</td>\n",
       "      <td>Gold</td>\n",
       "    </tr>\n",
       "    <tr>\n",
       "      <th>6</th>\n",
       "      <td>17850</td>\n",
       "      <td>16682</td>\n",
       "      <td>2019-01-01</td>\n",
       "      <td>GGOEGDHC018299</td>\n",
       "      <td>Google 22 oz Water Bottle</td>\n",
       "      <td>Drinkware</td>\n",
       "      <td>15</td>\n",
       "      <td>3.08</td>\n",
       "      <td>6.5</td>\n",
       "      <td>Not Used</td>\n",
       "      <td>...</td>\n",
       "      <td>EXTRA10</td>\n",
       "      <td>10.0</td>\n",
       "      <td>2019-01-01</td>\n",
       "      <td>4500</td>\n",
       "      <td>2424.5</td>\n",
       "      <td>54.78</td>\n",
       "      <td>2019-01</td>\n",
       "      <td>41.580</td>\n",
       "      <td>6924.5</td>\n",
       "      <td>Gold</td>\n",
       "    </tr>\n",
       "    <tr>\n",
       "      <th>7</th>\n",
       "      <td>17850</td>\n",
       "      <td>16682</td>\n",
       "      <td>2019-01-01</td>\n",
       "      <td>GGOEGDHG014499</td>\n",
       "      <td>Google Infuser-Top Water Bottle</td>\n",
       "      <td>Drinkware</td>\n",
       "      <td>15</td>\n",
       "      <td>10.31</td>\n",
       "      <td>6.5</td>\n",
       "      <td>Clicked</td>\n",
       "      <td>...</td>\n",
       "      <td>EXTRA10</td>\n",
       "      <td>10.0</td>\n",
       "      <td>2019-01-01</td>\n",
       "      <td>4500</td>\n",
       "      <td>2424.5</td>\n",
       "      <td>163.23</td>\n",
       "      <td>2019-01</td>\n",
       "      <td>139.185</td>\n",
       "      <td>6924.5</td>\n",
       "      <td>Premium</td>\n",
       "    </tr>\n",
       "    <tr>\n",
       "      <th>8</th>\n",
       "      <td>17850</td>\n",
       "      <td>16682</td>\n",
       "      <td>2019-01-01</td>\n",
       "      <td>GGOEGDWC020199</td>\n",
       "      <td>Engraved Ceramic Google Mug</td>\n",
       "      <td>Drinkware</td>\n",
       "      <td>5</td>\n",
       "      <td>9.27</td>\n",
       "      <td>6.5</td>\n",
       "      <td>Used</td>\n",
       "      <td>...</td>\n",
       "      <td>EXTRA10</td>\n",
       "      <td>10.0</td>\n",
       "      <td>2019-01-01</td>\n",
       "      <td>4500</td>\n",
       "      <td>2424.5</td>\n",
       "      <td>54.93</td>\n",
       "      <td>2019-01</td>\n",
       "      <td>41.715</td>\n",
       "      <td>6924.5</td>\n",
       "      <td>Gold</td>\n",
       "    </tr>\n",
       "    <tr>\n",
       "      <th>9</th>\n",
       "      <td>13047</td>\n",
       "      <td>16682</td>\n",
       "      <td>2019-01-01</td>\n",
       "      <td>GGOEGGOA017399</td>\n",
       "      <td>Maze Pen</td>\n",
       "      <td>Office</td>\n",
       "      <td>52</td>\n",
       "      <td>0.98</td>\n",
       "      <td>6.5</td>\n",
       "      <td>Used</td>\n",
       "      <td>...</td>\n",
       "      <td>OFF10</td>\n",
       "      <td>10.0</td>\n",
       "      <td>2019-01-01</td>\n",
       "      <td>4500</td>\n",
       "      <td>2424.5</td>\n",
       "      <td>59.46</td>\n",
       "      <td>2019-01</td>\n",
       "      <td>45.864</td>\n",
       "      <td>6924.5</td>\n",
       "      <td>Gold</td>\n",
       "    </tr>\n",
       "  </tbody>\n",
       "</table>\n",
       "<p>10 rows × 25 columns</p>\n",
       "</div>"
      ],
      "text/plain": [
       "   CustomerID  Transaction_ID Transaction_Date     Product_SKU  \\\n",
       "0       17850           16679       2019-01-01  GGOENEBJ079499   \n",
       "1       17850           16680       2019-01-01  GGOENEBJ079499   \n",
       "2       17850           16681       2019-01-01  GGOEGFKQ020399   \n",
       "3       17850           16682       2019-01-01  GGOEGAAB010516   \n",
       "4       17850           16682       2019-01-01  GGOEGBJL013999   \n",
       "5       17850           16682       2019-01-01  GGOEGBMJ013399   \n",
       "6       17850           16682       2019-01-01  GGOEGDHC018299   \n",
       "7       17850           16682       2019-01-01  GGOEGDHG014499   \n",
       "8       17850           16682       2019-01-01  GGOEGDWC020199   \n",
       "9       13047           16682       2019-01-01  GGOEGGOA017399   \n",
       "\n",
       "                                 Product_Description Product_Category  \\\n",
       "0  Nest Learning Thermostat 3rd Gen-USA - Stainle...         Nest-USA   \n",
       "1  Nest Learning Thermostat 3rd Gen-USA - Stainle...         Nest-USA   \n",
       "2              Google Laptop and Cell Phone Stickers           Office   \n",
       "3  Google Men's 100% Cotton Short Sleeve Hero Tee...          Apparel   \n",
       "4                    Google Canvas Tote Natural/Navy             Bags   \n",
       "5                                          Sport Bag             Bags   \n",
       "6                          Google 22 oz Water Bottle        Drinkware   \n",
       "7                    Google Infuser-Top Water Bottle        Drinkware   \n",
       "8                        Engraved Ceramic Google Mug        Drinkware   \n",
       "9                                           Maze Pen           Office   \n",
       "\n",
       "   Quantity  Avg_Price  Delivery_Charges Coupon_Status  ...  Coupon_Code  \\\n",
       "0         1     153.71               6.5          Used  ...       ELEC10   \n",
       "1         1     153.71               6.5          Used  ...       ELEC10   \n",
       "2         1       2.05               6.5          Used  ...        OFF10   \n",
       "3         5      17.53               6.5      Not Used  ...       SALE10   \n",
       "4         1      16.50               6.5          Used  ...        AIO10   \n",
       "5        15       5.15               6.5          Used  ...        AIO10   \n",
       "6        15       3.08               6.5      Not Used  ...      EXTRA10   \n",
       "7        15      10.31               6.5       Clicked  ...      EXTRA10   \n",
       "8         5       9.27               6.5          Used  ...      EXTRA10   \n",
       "9        52       0.98               6.5          Used  ...        OFF10   \n",
       "\n",
       "  Discount_pct       Date  Offline_Spend  Online_Spend Invoice_amnt  \\\n",
       "0         10.0 2019-01-01           4500        2424.5       162.21   \n",
       "1         10.0 2019-01-01           4500        2424.5       162.21   \n",
       "2         10.0 2019-01-01           4500        2424.5        10.55   \n",
       "3         10.0 2019-01-01           4500        2424.5        96.23   \n",
       "4         10.0 2019-01-01           4500        2424.5        25.08   \n",
       "5         10.0 2019-01-01           4500        2424.5        85.83   \n",
       "6         10.0 2019-01-01           4500        2424.5        54.78   \n",
       "7         10.0 2019-01-01           4500        2424.5       163.23   \n",
       "8         10.0 2019-01-01           4500        2424.5        54.93   \n",
       "9         10.0 2019-01-01           4500        2424.5        59.46   \n",
       "\n",
       "   year_month Sales_amt  total_mktg_spend   decile  \n",
       "0     2019-01   138.339            6924.5  Premium  \n",
       "1     2019-01   138.339            6924.5  Premium  \n",
       "2     2019-01     1.845            6924.5   Silver  \n",
       "3     2019-01    78.885            6924.5     Gold  \n",
       "4     2019-01    14.850            6924.5     Gold  \n",
       "5     2019-01    69.525            6924.5     Gold  \n",
       "6     2019-01    41.580            6924.5     Gold  \n",
       "7     2019-01   139.185            6924.5  Premium  \n",
       "8     2019-01    41.715            6924.5     Gold  \n",
       "9     2019-01    45.864            6924.5     Gold  \n",
       "\n",
       "[10 rows x 25 columns]"
      ]
     },
     "execution_count": 59,
     "metadata": {},
     "output_type": "execute_result"
    }
   ],
   "source": [
    "vb.head(10)"
   ]
  },
  {
   "cell_type": "markdown",
   "id": "99b2c8c4",
   "metadata": {},
   "source": [
    "$RFM$"
   ]
  },
  {
   "cell_type": "code",
   "execution_count": 60,
   "id": "e780b8a0",
   "metadata": {},
   "outputs": [],
   "source": [
    "date = dt.datetime(2020, 2, 20)"
   ]
  },
  {
   "cell_type": "code",
   "execution_count": 61,
   "id": "6b9e9970",
   "metadata": {},
   "outputs": [],
   "source": [
    "rfm_df = cust_final.copy()"
   ]
  },
  {
   "cell_type": "code",
   "execution_count": 62,
   "id": "33e19a18",
   "metadata": {},
   "outputs": [
    {
     "data": {
      "text/html": [
       "<div>\n",
       "<style scoped>\n",
       "    .dataframe tbody tr th:only-of-type {\n",
       "        vertical-align: middle;\n",
       "    }\n",
       "\n",
       "    .dataframe tbody tr th {\n",
       "        vertical-align: top;\n",
       "    }\n",
       "\n",
       "    .dataframe thead th {\n",
       "        text-align: right;\n",
       "    }\n",
       "</style>\n",
       "<table border=\"1\" class=\"dataframe\">\n",
       "  <thead>\n",
       "    <tr style=\"text-align: right;\">\n",
       "      <th></th>\n",
       "      <th>CustomerID</th>\n",
       "      <th>frequency</th>\n",
       "      <th>monetary</th>\n",
       "    </tr>\n",
       "  </thead>\n",
       "  <tbody>\n",
       "    <tr>\n",
       "      <th>0</th>\n",
       "      <td>12346</td>\n",
       "      <td>2</td>\n",
       "      <td>21.693</td>\n",
       "    </tr>\n",
       "    <tr>\n",
       "      <th>1</th>\n",
       "      <td>12347</td>\n",
       "      <td>60</td>\n",
       "      <td>9930.649</td>\n",
       "    </tr>\n",
       "    <tr>\n",
       "      <th>2</th>\n",
       "      <td>12348</td>\n",
       "      <td>23</td>\n",
       "      <td>1142.502</td>\n",
       "    </tr>\n",
       "    <tr>\n",
       "      <th>3</th>\n",
       "      <td>12350</td>\n",
       "      <td>17</td>\n",
       "      <td>952.049</td>\n",
       "    </tr>\n",
       "    <tr>\n",
       "      <th>4</th>\n",
       "      <td>12356</td>\n",
       "      <td>36</td>\n",
       "      <td>1009.729</td>\n",
       "    </tr>\n",
       "    <tr>\n",
       "      <th>...</th>\n",
       "      <td>...</td>\n",
       "      <td>...</td>\n",
       "      <td>...</td>\n",
       "    </tr>\n",
       "    <tr>\n",
       "      <th>1463</th>\n",
       "      <td>18259</td>\n",
       "      <td>7</td>\n",
       "      <td>474.075</td>\n",
       "    </tr>\n",
       "    <tr>\n",
       "      <th>1464</th>\n",
       "      <td>18260</td>\n",
       "      <td>40</td>\n",
       "      <td>1753.041</td>\n",
       "    </tr>\n",
       "    <tr>\n",
       "      <th>1465</th>\n",
       "      <td>18269</td>\n",
       "      <td>8</td>\n",
       "      <td>88.466</td>\n",
       "    </tr>\n",
       "    <tr>\n",
       "      <th>1466</th>\n",
       "      <td>18277</td>\n",
       "      <td>1</td>\n",
       "      <td>268.200</td>\n",
       "    </tr>\n",
       "    <tr>\n",
       "      <th>1467</th>\n",
       "      <td>18283</td>\n",
       "      <td>102</td>\n",
       "      <td>5713.533</td>\n",
       "    </tr>\n",
       "  </tbody>\n",
       "</table>\n",
       "<p>1468 rows × 3 columns</p>\n",
       "</div>"
      ],
      "text/plain": [
       "      CustomerID  frequency  monetary\n",
       "0          12346          2    21.693\n",
       "1          12347         60  9930.649\n",
       "2          12348         23  1142.502\n",
       "3          12350         17   952.049\n",
       "4          12356         36  1009.729\n",
       "...          ...        ...       ...\n",
       "1463       18259          7   474.075\n",
       "1464       18260         40  1753.041\n",
       "1465       18269          8    88.466\n",
       "1466       18277          1   268.200\n",
       "1467       18283        102  5713.533\n",
       "\n",
       "[1468 rows x 3 columns]"
      ]
     },
     "execution_count": 62,
     "metadata": {},
     "output_type": "execute_result"
    }
   ],
   "source": [
    "rfm = rfm_df.groupby('CustomerID').agg({'Transaction_ID':'count',\n",
    "                                                'Sales_amt':'sum'}).reset_index().rename(columns={'Transaction_ID': 'frequency', 'Sales_amt': 'monetary'})\n",
    "rfm"
   ]
  },
  {
   "cell_type": "code",
   "execution_count": 63,
   "id": "8551f187",
   "metadata": {},
   "outputs": [],
   "source": [
    "rfm_recency = rfm_df.loc[:,['CustomerID','Transaction_Date']]\n",
    "rfm_recency = rfm_recency.drop_duplicates(subset='CustomerID', keep='last')"
   ]
  },
  {
   "cell_type": "code",
   "execution_count": 64,
   "id": "f409724c",
   "metadata": {},
   "outputs": [],
   "source": [
    "rfm_recency['recency'] = (date - rfm_recency.Transaction_Date).dt.days"
   ]
  },
  {
   "cell_type": "code",
   "execution_count": 65,
   "id": "b00bfa01",
   "metadata": {},
   "outputs": [],
   "source": [
    "rfm_df = pd.merge(rfm_recency, rfm, how= 'right', on= 'CustomerID')"
   ]
  },
  {
   "cell_type": "code",
   "execution_count": 66,
   "id": "1b91d1a4",
   "metadata": {},
   "outputs": [
    {
     "data": {
      "text/html": [
       "<div>\n",
       "<style scoped>\n",
       "    .dataframe tbody tr th:only-of-type {\n",
       "        vertical-align: middle;\n",
       "    }\n",
       "\n",
       "    .dataframe tbody tr th {\n",
       "        vertical-align: top;\n",
       "    }\n",
       "\n",
       "    .dataframe thead th {\n",
       "        text-align: right;\n",
       "    }\n",
       "</style>\n",
       "<table border=\"1\" class=\"dataframe\">\n",
       "  <thead>\n",
       "    <tr style=\"text-align: right;\">\n",
       "      <th></th>\n",
       "      <th>CustomerID</th>\n",
       "      <th>recency</th>\n",
       "      <th>frequency</th>\n",
       "      <th>monetary</th>\n",
       "    </tr>\n",
       "  </thead>\n",
       "  <tbody>\n",
       "    <tr>\n",
       "      <th>0</th>\n",
       "      <td>12346</td>\n",
       "      <td>158</td>\n",
       "      <td>2</td>\n",
       "      <td>21.693</td>\n",
       "    </tr>\n",
       "    <tr>\n",
       "      <th>1</th>\n",
       "      <td>12347</td>\n",
       "      <td>110</td>\n",
       "      <td>60</td>\n",
       "      <td>9930.649</td>\n",
       "    </tr>\n",
       "    <tr>\n",
       "      <th>2</th>\n",
       "      <td>12348</td>\n",
       "      <td>124</td>\n",
       "      <td>23</td>\n",
       "      <td>1142.502</td>\n",
       "    </tr>\n",
       "    <tr>\n",
       "      <th>3</th>\n",
       "      <td>12350</td>\n",
       "      <td>68</td>\n",
       "      <td>17</td>\n",
       "      <td>952.049</td>\n",
       "    </tr>\n",
       "    <tr>\n",
       "      <th>4</th>\n",
       "      <td>12356</td>\n",
       "      <td>158</td>\n",
       "      <td>36</td>\n",
       "      <td>1009.729</td>\n",
       "    </tr>\n",
       "  </tbody>\n",
       "</table>\n",
       "</div>"
      ],
      "text/plain": [
       "   CustomerID  recency  frequency  monetary\n",
       "0       12346      158          2    21.693\n",
       "1       12347      110         60  9930.649\n",
       "2       12348      124         23  1142.502\n",
       "3       12350       68         17   952.049\n",
       "4       12356      158         36  1009.729"
      ]
     },
     "execution_count": 66,
     "metadata": {},
     "output_type": "execute_result"
    }
   ],
   "source": [
    "rfm_df.drop(columns='Transaction_Date', inplace=True)\n",
    "rfm_df.head()"
   ]
  },
  {
   "cell_type": "code",
   "execution_count": 68,
   "id": "46b6678e",
   "metadata": {},
   "outputs": [
    {
     "data": {
      "text/html": [
       "<div>\n",
       "<style scoped>\n",
       "    .dataframe tbody tr th:only-of-type {\n",
       "        vertical-align: middle;\n",
       "    }\n",
       "\n",
       "    .dataframe tbody tr th {\n",
       "        vertical-align: top;\n",
       "    }\n",
       "\n",
       "    .dataframe thead th {\n",
       "        text-align: right;\n",
       "    }\n",
       "</style>\n",
       "<table border=\"1\" class=\"dataframe\">\n",
       "  <thead>\n",
       "    <tr style=\"text-align: right;\">\n",
       "      <th></th>\n",
       "      <th>frequency</th>\n",
       "      <th>monetary</th>\n",
       "      <th>recency</th>\n",
       "    </tr>\n",
       "  </thead>\n",
       "  <tbody>\n",
       "    <tr>\n",
       "      <th>0.25</th>\n",
       "      <td>10.0</td>\n",
       "      <td>509.48475</td>\n",
       "      <td>106.0</td>\n",
       "    </tr>\n",
       "    <tr>\n",
       "      <th>0.50</th>\n",
       "      <td>21.0</td>\n",
       "      <td>1406.88100</td>\n",
       "      <td>182.0</td>\n",
       "    </tr>\n",
       "    <tr>\n",
       "      <th>0.75</th>\n",
       "      <td>46.0</td>\n",
       "      <td>3142.38125</td>\n",
       "      <td>271.0</td>\n",
       "    </tr>\n",
       "  </tbody>\n",
       "</table>\n",
       "</div>"
      ],
      "text/plain": [
       "      frequency    monetary  recency\n",
       "0.25       10.0   509.48475    106.0\n",
       "0.50       21.0  1406.88100    182.0\n",
       "0.75       46.0  3142.38125    271.0"
      ]
     },
     "execution_count": 68,
     "metadata": {},
     "output_type": "execute_result"
    }
   ],
   "source": [
    "quantiles = rfm_df[['frequency','monetary','recency' ]].quantile(q=[0.25,0.5,0.75])\n",
    "quantiles"
   ]
  },
  {
   "cell_type": "code",
   "execution_count": 69,
   "id": "84fa1dd8",
   "metadata": {},
   "outputs": [],
   "source": [
    "#We create two classes for the RFM segmentation since, being high recency is bad, while high frequency and monetary value is good.\n",
    "# Arguments (x = value, p = recency, monetary_value, frequency, k = quartiles dict)\n",
    "def RClass(x,p,d):\n",
    "    if x <= d[p][0.25]:\n",
    "        return 1\n",
    "    elif x <= d[p][0.50]:\n",
    "        return 2\n",
    "    elif x <= d[p][0.75]: \n",
    "        return 3\n",
    "    else:\n",
    "        return 4\n",
    "    \n",
    "# Arguments (x = value, p = recency, monetary_value, frequency, k = quartiles dict)\n",
    "def FMClass(x,p,d):\n",
    "    if x <= d[p][0.25]:\n",
    "        return 4\n",
    "    elif x <= d[p][0.50]:\n",
    "        return 3\n",
    "    elif x <= d[p][0.75]: \n",
    "        return 2\n",
    "    else:\n",
    "        return 1"
   ]
  },
  {
   "cell_type": "code",
   "execution_count": 70,
   "id": "a0b523a0",
   "metadata": {},
   "outputs": [],
   "source": [
    "rfm_df['R_Quartile'] = rfm_df['recency'].apply(RClass, args=('recency',quantiles,))\n",
    "rfm_df['F_Quartile'] = rfm_df['frequency'].apply(FMClass, args=('frequency',quantiles,))\n",
    "rfm_df['M_Quartile'] = rfm_df['monetary'].apply(FMClass, args=('monetary',quantiles,))"
   ]
  },
  {
   "cell_type": "code",
   "execution_count": 71,
   "id": "3a7799b8",
   "metadata": {},
   "outputs": [
    {
     "data": {
      "text/html": [
       "<div>\n",
       "<style scoped>\n",
       "    .dataframe tbody tr th:only-of-type {\n",
       "        vertical-align: middle;\n",
       "    }\n",
       "\n",
       "    .dataframe tbody tr th {\n",
       "        vertical-align: top;\n",
       "    }\n",
       "\n",
       "    .dataframe thead th {\n",
       "        text-align: right;\n",
       "    }\n",
       "</style>\n",
       "<table border=\"1\" class=\"dataframe\">\n",
       "  <thead>\n",
       "    <tr style=\"text-align: right;\">\n",
       "      <th></th>\n",
       "      <th>CustomerID</th>\n",
       "      <th>recency</th>\n",
       "      <th>frequency</th>\n",
       "      <th>monetary</th>\n",
       "      <th>R_Quartile</th>\n",
       "      <th>F_Quartile</th>\n",
       "      <th>M_Quartile</th>\n",
       "    </tr>\n",
       "  </thead>\n",
       "  <tbody>\n",
       "    <tr>\n",
       "      <th>0</th>\n",
       "      <td>12346</td>\n",
       "      <td>158</td>\n",
       "      <td>2</td>\n",
       "      <td>21.693</td>\n",
       "      <td>2</td>\n",
       "      <td>4</td>\n",
       "      <td>4</td>\n",
       "    </tr>\n",
       "    <tr>\n",
       "      <th>1</th>\n",
       "      <td>12347</td>\n",
       "      <td>110</td>\n",
       "      <td>60</td>\n",
       "      <td>9930.649</td>\n",
       "      <td>2</td>\n",
       "      <td>1</td>\n",
       "      <td>1</td>\n",
       "    </tr>\n",
       "    <tr>\n",
       "      <th>2</th>\n",
       "      <td>12348</td>\n",
       "      <td>124</td>\n",
       "      <td>23</td>\n",
       "      <td>1142.502</td>\n",
       "      <td>2</td>\n",
       "      <td>2</td>\n",
       "      <td>3</td>\n",
       "    </tr>\n",
       "    <tr>\n",
       "      <th>3</th>\n",
       "      <td>12350</td>\n",
       "      <td>68</td>\n",
       "      <td>17</td>\n",
       "      <td>952.049</td>\n",
       "      <td>1</td>\n",
       "      <td>3</td>\n",
       "      <td>3</td>\n",
       "    </tr>\n",
       "    <tr>\n",
       "      <th>4</th>\n",
       "      <td>12356</td>\n",
       "      <td>158</td>\n",
       "      <td>36</td>\n",
       "      <td>1009.729</td>\n",
       "      <td>2</td>\n",
       "      <td>2</td>\n",
       "      <td>3</td>\n",
       "    </tr>\n",
       "  </tbody>\n",
       "</table>\n",
       "</div>"
      ],
      "text/plain": [
       "   CustomerID  recency  frequency  monetary  R_Quartile  F_Quartile  \\\n",
       "0       12346      158          2    21.693           2           4   \n",
       "1       12347      110         60  9930.649           2           1   \n",
       "2       12348      124         23  1142.502           2           2   \n",
       "3       12350       68         17   952.049           1           3   \n",
       "4       12356      158         36  1009.729           2           2   \n",
       "\n",
       "   M_Quartile  \n",
       "0           4  \n",
       "1           1  \n",
       "2           3  \n",
       "3           3  \n",
       "4           3  "
      ]
     },
     "execution_count": 71,
     "metadata": {},
     "output_type": "execute_result"
    }
   ],
   "source": [
    "rfm_df.head()"
   ]
  },
  {
   "cell_type": "code",
   "execution_count": 72,
   "id": "97dd7ab0",
   "metadata": {},
   "outputs": [
    {
     "name": "stderr",
     "output_type": "stream",
     "text": [
      "C:\\Users\\Nithin\\AppData\\Local\\Temp/ipykernel_11728/2246897217.py:2: SettingWithCopyWarning: \n",
      "A value is trying to be set on a copy of a slice from a DataFrame\n",
      "\n",
      "See the caveats in the documentation: https://pandas.pydata.org/pandas-docs/stable/user_guide/indexing.html#returning-a-view-versus-a-copy\n",
      "  rfm_df1.R_rfm[rfm_df['R_Quartile']==4] = \"3_Churn\"\n",
      "C:\\Users\\Nithin\\AppData\\Local\\Temp/ipykernel_11728/2246897217.py:3: SettingWithCopyWarning: \n",
      "A value is trying to be set on a copy of a slice from a DataFrame\n",
      "\n",
      "See the caveats in the documentation: https://pandas.pydata.org/pandas-docs/stable/user_guide/indexing.html#returning-a-view-versus-a-copy\n",
      "  rfm_df1.R_rfm[rfm_df['R_Quartile']==2] = \"2_At_Risk\"\n",
      "C:\\Users\\Nithin\\AppData\\Local\\Temp/ipykernel_11728/2246897217.py:4: SettingWithCopyWarning: \n",
      "A value is trying to be set on a copy of a slice from a DataFrame\n",
      "\n",
      "See the caveats in the documentation: https://pandas.pydata.org/pandas-docs/stable/user_guide/indexing.html#returning-a-view-versus-a-copy\n",
      "  rfm_df1.R_rfm[rfm_df['R_Quartile']==3] = \"2_At_Risk\"\n",
      "C:\\Users\\Nithin\\AppData\\Local\\Temp/ipykernel_11728/2246897217.py:5: SettingWithCopyWarning: \n",
      "A value is trying to be set on a copy of a slice from a DataFrame\n",
      "\n",
      "See the caveats in the documentation: https://pandas.pydata.org/pandas-docs/stable/user_guide/indexing.html#returning-a-view-versus-a-copy\n",
      "  rfm_df1.R_rfm[rfm_df['R_Quartile']==1] = \"1_Active\"\n",
      "C:\\Users\\Nithin\\AppData\\Local\\Temp/ipykernel_11728/2246897217.py:7: SettingWithCopyWarning: \n",
      "A value is trying to be set on a copy of a slice from a DataFrame\n",
      "\n",
      "See the caveats in the documentation: https://pandas.pydata.org/pandas-docs/stable/user_guide/indexing.html#returning-a-view-versus-a-copy\n",
      "  rfm_df1.FM_rfm[(rfm_df['F_Quartile']==3) & (rfm_df['M_Quartile']==1)] = \"2_Gold\"\n",
      "C:\\Users\\Nithin\\AppData\\Local\\Temp/ipykernel_11728/2246897217.py:8: SettingWithCopyWarning: \n",
      "A value is trying to be set on a copy of a slice from a DataFrame\n",
      "\n",
      "See the caveats in the documentation: https://pandas.pydata.org/pandas-docs/stable/user_guide/indexing.html#returning-a-view-versus-a-copy\n",
      "  rfm_df1.FM_rfm[(rfm_df['F_Quartile']==4) & (rfm_df['M_Quartile']==1)] = \"2_Gold\"\n",
      "C:\\Users\\Nithin\\AppData\\Local\\Temp/ipykernel_11728/2246897217.py:9: SettingWithCopyWarning: \n",
      "A value is trying to be set on a copy of a slice from a DataFrame\n",
      "\n",
      "See the caveats in the documentation: https://pandas.pydata.org/pandas-docs/stable/user_guide/indexing.html#returning-a-view-versus-a-copy\n",
      "  rfm_df1.FM_rfm[(rfm_df['F_Quartile']==2) & (rfm_df['M_Quartile']==2)] = \"2_Gold\"\n",
      "C:\\Users\\Nithin\\AppData\\Local\\Temp/ipykernel_11728/2246897217.py:10: SettingWithCopyWarning: \n",
      "A value is trying to be set on a copy of a slice from a DataFrame\n",
      "\n",
      "See the caveats in the documentation: https://pandas.pydata.org/pandas-docs/stable/user_guide/indexing.html#returning-a-view-versus-a-copy\n",
      "  rfm_df1.FM_rfm[(rfm_df['F_Quartile']==2) & (rfm_df['M_Quartile']==1)] = \"2_Gold\"\n",
      "C:\\Users\\Nithin\\AppData\\Local\\Temp/ipykernel_11728/2246897217.py:11: SettingWithCopyWarning: \n",
      "A value is trying to be set on a copy of a slice from a DataFrame\n",
      "\n",
      "See the caveats in the documentation: https://pandas.pydata.org/pandas-docs/stable/user_guide/indexing.html#returning-a-view-versus-a-copy\n",
      "  rfm_df1.FM_rfm[(rfm_df['F_Quartile']==3) & (rfm_df['M_Quartile']==2)] = \"2_Gold\"\n",
      "C:\\Users\\Nithin\\AppData\\Local\\Temp/ipykernel_11728/2246897217.py:12: SettingWithCopyWarning: \n",
      "A value is trying to be set on a copy of a slice from a DataFrame\n",
      "\n",
      "See the caveats in the documentation: https://pandas.pydata.org/pandas-docs/stable/user_guide/indexing.html#returning-a-view-versus-a-copy\n",
      "  rfm_df1.FM_rfm[(rfm_df['F_Quartile']==4) & (rfm_df['M_Quartile']==2)] = \"1_Silver\"\n",
      "C:\\Users\\Nithin\\AppData\\Local\\Temp/ipykernel_11728/2246897217.py:13: SettingWithCopyWarning: \n",
      "A value is trying to be set on a copy of a slice from a DataFrame\n",
      "\n",
      "See the caveats in the documentation: https://pandas.pydata.org/pandas-docs/stable/user_guide/indexing.html#returning-a-view-versus-a-copy\n",
      "  rfm_df1.FM_rfm[(rfm_df['F_Quartile']==1) & (rfm_df['M_Quartile']==3)] = \"2_Gold\"\n",
      "C:\\Users\\Nithin\\AppData\\Local\\Temp/ipykernel_11728/2246897217.py:14: SettingWithCopyWarning: \n",
      "A value is trying to be set on a copy of a slice from a DataFrame\n",
      "\n",
      "See the caveats in the documentation: https://pandas.pydata.org/pandas-docs/stable/user_guide/indexing.html#returning-a-view-versus-a-copy\n",
      "  rfm_df1.FM_rfm[(rfm_df['F_Quartile']==2) & (rfm_df['M_Quartile']==3)] = \"2_Gold\"\n",
      "C:\\Users\\Nithin\\AppData\\Local\\Temp/ipykernel_11728/2246897217.py:15: SettingWithCopyWarning: \n",
      "A value is trying to be set on a copy of a slice from a DataFrame\n",
      "\n",
      "See the caveats in the documentation: https://pandas.pydata.org/pandas-docs/stable/user_guide/indexing.html#returning-a-view-versus-a-copy\n",
      "  rfm_df1.FM_rfm[(rfm_df['F_Quartile']==3) & (rfm_df['M_Quartile']==3)] = \"1_Silver\"\n",
      "C:\\Users\\Nithin\\AppData\\Local\\Temp/ipykernel_11728/2246897217.py:16: SettingWithCopyWarning: \n",
      "A value is trying to be set on a copy of a slice from a DataFrame\n",
      "\n",
      "See the caveats in the documentation: https://pandas.pydata.org/pandas-docs/stable/user_guide/indexing.html#returning-a-view-versus-a-copy\n",
      "  rfm_df1.FM_rfm[(rfm_df['F_Quartile']==4) & (rfm_df['M_Quartile']==3)] = \"1_Silver\"\n",
      "C:\\Users\\Nithin\\AppData\\Local\\Temp/ipykernel_11728/2246897217.py:17: SettingWithCopyWarning: \n",
      "A value is trying to be set on a copy of a slice from a DataFrame\n",
      "\n",
      "See the caveats in the documentation: https://pandas.pydata.org/pandas-docs/stable/user_guide/indexing.html#returning-a-view-versus-a-copy\n",
      "  rfm_df1.FM_rfm[(rfm_df['F_Quartile']==1) & (rfm_df['M_Quartile']==4)] = \"2_Gold\"\n",
      "C:\\Users\\Nithin\\AppData\\Local\\Temp/ipykernel_11728/2246897217.py:18: SettingWithCopyWarning: \n",
      "A value is trying to be set on a copy of a slice from a DataFrame\n",
      "\n",
      "See the caveats in the documentation: https://pandas.pydata.org/pandas-docs/stable/user_guide/indexing.html#returning-a-view-versus-a-copy\n",
      "  rfm_df1.FM_rfm[(rfm_df['F_Quartile']==1) & (rfm_df['M_Quartile']==2)] = \"2_Gold\"\n",
      "C:\\Users\\Nithin\\AppData\\Local\\Temp/ipykernel_11728/2246897217.py:19: SettingWithCopyWarning: \n",
      "A value is trying to be set on a copy of a slice from a DataFrame\n",
      "\n",
      "See the caveats in the documentation: https://pandas.pydata.org/pandas-docs/stable/user_guide/indexing.html#returning-a-view-versus-a-copy\n",
      "  rfm_df1.FM_rfm[(rfm_df['F_Quartile']==2) & (rfm_df['M_Quartile']==4)] = \"1_Silver\"\n",
      "C:\\Users\\Nithin\\AppData\\Local\\Temp/ipykernel_11728/2246897217.py:20: SettingWithCopyWarning: \n",
      "A value is trying to be set on a copy of a slice from a DataFrame\n",
      "\n",
      "See the caveats in the documentation: https://pandas.pydata.org/pandas-docs/stable/user_guide/indexing.html#returning-a-view-versus-a-copy\n",
      "  rfm_df1.FM_rfm[(rfm_df['F_Quartile']==3) & (rfm_df['M_Quartile']==4)] = \"1_Silver\"\n",
      "C:\\Users\\Nithin\\AppData\\Local\\Temp/ipykernel_11728/2246897217.py:21: SettingWithCopyWarning: \n",
      "A value is trying to be set on a copy of a slice from a DataFrame\n",
      "\n",
      "See the caveats in the documentation: https://pandas.pydata.org/pandas-docs/stable/user_guide/indexing.html#returning-a-view-versus-a-copy\n",
      "  rfm_df1.FM_rfm[(rfm_df['F_Quartile']==4) & (rfm_df['M_Quartile']==4)] = \"0_Standard\"\n"
     ]
    }
   ],
   "source": [
    "rfm_df1=rfm_df.assign(R_rfm=np.nan, FM_rfm =np.nan)\n",
    "rfm_df1.R_rfm[rfm_df['R_Quartile']==4] = \"3_Churn\"\n",
    "rfm_df1.R_rfm[rfm_df['R_Quartile']==2] = \"2_At_Risk\"\n",
    "rfm_df1.R_rfm[rfm_df['R_Quartile']==3] = \"2_At_Risk\"\n",
    "rfm_df1.R_rfm[rfm_df['R_Quartile']==1] = \"1_Active\"\n",
    "\n",
    "rfm_df1.FM_rfm[(rfm_df['F_Quartile']==3) & (rfm_df['M_Quartile']==1)] = \"2_Gold\"\n",
    "rfm_df1.FM_rfm[(rfm_df['F_Quartile']==4) & (rfm_df['M_Quartile']==1)] = \"2_Gold\"\n",
    "rfm_df1.FM_rfm[(rfm_df['F_Quartile']==2) & (rfm_df['M_Quartile']==2)] = \"2_Gold\"\n",
    "rfm_df1.FM_rfm[(rfm_df['F_Quartile']==2) & (rfm_df['M_Quartile']==1)] = \"2_Gold\"\n",
    "rfm_df1.FM_rfm[(rfm_df['F_Quartile']==3) & (rfm_df['M_Quartile']==2)] = \"2_Gold\"\n",
    "rfm_df1.FM_rfm[(rfm_df['F_Quartile']==4) & (rfm_df['M_Quartile']==2)] = \"1_Silver\"\n",
    "rfm_df1.FM_rfm[(rfm_df['F_Quartile']==1) & (rfm_df['M_Quartile']==3)] = \"2_Gold\"\n",
    "rfm_df1.FM_rfm[(rfm_df['F_Quartile']==2) & (rfm_df['M_Quartile']==3)] = \"2_Gold\"\n",
    "rfm_df1.FM_rfm[(rfm_df['F_Quartile']==3) & (rfm_df['M_Quartile']==3)] = \"1_Silver\"\n",
    "rfm_df1.FM_rfm[(rfm_df['F_Quartile']==4) & (rfm_df['M_Quartile']==3)] = \"1_Silver\"\n",
    "rfm_df1.FM_rfm[(rfm_df['F_Quartile']==1) & (rfm_df['M_Quartile']==4)] = \"2_Gold\"\n",
    "rfm_df1.FM_rfm[(rfm_df['F_Quartile']==1) & (rfm_df['M_Quartile']==2)] = \"2_Gold\"\n",
    "rfm_df1.FM_rfm[(rfm_df['F_Quartile']==2) & (rfm_df['M_Quartile']==4)] = \"1_Silver\"\n",
    "rfm_df1.FM_rfm[(rfm_df['F_Quartile']==3) & (rfm_df['M_Quartile']==4)] = \"1_Silver\"\n",
    "rfm_df1.FM_rfm[(rfm_df['F_Quartile']==4) & (rfm_df['M_Quartile']==4)] = \"0_Standard\"\n",
    "\n",
    "rfm_df1.FM_rfm.fillna(\"4_Premium\", inplace=True)"
   ]
  },
  {
   "cell_type": "code",
   "execution_count": 73,
   "id": "1310a2bb",
   "metadata": {},
   "outputs": [],
   "source": [
    "cols = ['monetary','recency','frequency']"
   ]
  },
  {
   "cell_type": "code",
   "execution_count": 74,
   "id": "301384b5",
   "metadata": {},
   "outputs": [
    {
     "data": {
      "text/html": [
       "<div>\n",
       "<style scoped>\n",
       "    .dataframe tbody tr th:only-of-type {\n",
       "        vertical-align: middle;\n",
       "    }\n",
       "\n",
       "    .dataframe tbody tr th {\n",
       "        vertical-align: top;\n",
       "    }\n",
       "\n",
       "    .dataframe thead th {\n",
       "        text-align: right;\n",
       "    }\n",
       "</style>\n",
       "<table border=\"1\" class=\"dataframe\">\n",
       "  <thead>\n",
       "    <tr style=\"text-align: right;\">\n",
       "      <th></th>\n",
       "      <th>CustomerID</th>\n",
       "      <th>recency</th>\n",
       "      <th>frequency</th>\n",
       "      <th>monetary</th>\n",
       "      <th>R_Quartile</th>\n",
       "      <th>F_Quartile</th>\n",
       "      <th>M_Quartile</th>\n",
       "      <th>R_rfm</th>\n",
       "      <th>FM_rfm</th>\n",
       "    </tr>\n",
       "  </thead>\n",
       "  <tbody>\n",
       "    <tr>\n",
       "      <th>0</th>\n",
       "      <td>12346</td>\n",
       "      <td>158</td>\n",
       "      <td>2</td>\n",
       "      <td>21.693</td>\n",
       "      <td>2</td>\n",
       "      <td>4</td>\n",
       "      <td>4</td>\n",
       "      <td>2_At_Risk</td>\n",
       "      <td>0_Standard</td>\n",
       "    </tr>\n",
       "    <tr>\n",
       "      <th>1</th>\n",
       "      <td>12347</td>\n",
       "      <td>110</td>\n",
       "      <td>60</td>\n",
       "      <td>9930.649</td>\n",
       "      <td>2</td>\n",
       "      <td>1</td>\n",
       "      <td>1</td>\n",
       "      <td>2_At_Risk</td>\n",
       "      <td>4_Premium</td>\n",
       "    </tr>\n",
       "    <tr>\n",
       "      <th>2</th>\n",
       "      <td>12348</td>\n",
       "      <td>124</td>\n",
       "      <td>23</td>\n",
       "      <td>1142.502</td>\n",
       "      <td>2</td>\n",
       "      <td>2</td>\n",
       "      <td>3</td>\n",
       "      <td>2_At_Risk</td>\n",
       "      <td>2_Gold</td>\n",
       "    </tr>\n",
       "    <tr>\n",
       "      <th>3</th>\n",
       "      <td>12350</td>\n",
       "      <td>68</td>\n",
       "      <td>17</td>\n",
       "      <td>952.049</td>\n",
       "      <td>1</td>\n",
       "      <td>3</td>\n",
       "      <td>3</td>\n",
       "      <td>1_Active</td>\n",
       "      <td>1_Silver</td>\n",
       "    </tr>\n",
       "    <tr>\n",
       "      <th>4</th>\n",
       "      <td>12356</td>\n",
       "      <td>158</td>\n",
       "      <td>36</td>\n",
       "      <td>1009.729</td>\n",
       "      <td>2</td>\n",
       "      <td>2</td>\n",
       "      <td>3</td>\n",
       "      <td>2_At_Risk</td>\n",
       "      <td>2_Gold</td>\n",
       "    </tr>\n",
       "    <tr>\n",
       "      <th>...</th>\n",
       "      <td>...</td>\n",
       "      <td>...</td>\n",
       "      <td>...</td>\n",
       "      <td>...</td>\n",
       "      <td>...</td>\n",
       "      <td>...</td>\n",
       "      <td>...</td>\n",
       "      <td>...</td>\n",
       "      <td>...</td>\n",
       "    </tr>\n",
       "    <tr>\n",
       "      <th>1463</th>\n",
       "      <td>18259</td>\n",
       "      <td>321</td>\n",
       "      <td>7</td>\n",
       "      <td>474.075</td>\n",
       "      <td>4</td>\n",
       "      <td>4</td>\n",
       "      <td>4</td>\n",
       "      <td>3_Churn</td>\n",
       "      <td>0_Standard</td>\n",
       "    </tr>\n",
       "    <tr>\n",
       "      <th>1464</th>\n",
       "      <td>18260</td>\n",
       "      <td>138</td>\n",
       "      <td>40</td>\n",
       "      <td>1753.041</td>\n",
       "      <td>2</td>\n",
       "      <td>2</td>\n",
       "      <td>2</td>\n",
       "      <td>2_At_Risk</td>\n",
       "      <td>2_Gold</td>\n",
       "    </tr>\n",
       "    <tr>\n",
       "      <th>1465</th>\n",
       "      <td>18269</td>\n",
       "      <td>245</td>\n",
       "      <td>8</td>\n",
       "      <td>88.466</td>\n",
       "      <td>3</td>\n",
       "      <td>4</td>\n",
       "      <td>4</td>\n",
       "      <td>2_At_Risk</td>\n",
       "      <td>0_Standard</td>\n",
       "    </tr>\n",
       "    <tr>\n",
       "      <th>1466</th>\n",
       "      <td>18277</td>\n",
       "      <td>120</td>\n",
       "      <td>1</td>\n",
       "      <td>268.200</td>\n",
       "      <td>2</td>\n",
       "      <td>4</td>\n",
       "      <td>4</td>\n",
       "      <td>2_At_Risk</td>\n",
       "      <td>0_Standard</td>\n",
       "    </tr>\n",
       "    <tr>\n",
       "      <th>1467</th>\n",
       "      <td>18283</td>\n",
       "      <td>133</td>\n",
       "      <td>102</td>\n",
       "      <td>5713.533</td>\n",
       "      <td>2</td>\n",
       "      <td>1</td>\n",
       "      <td>1</td>\n",
       "      <td>2_At_Risk</td>\n",
       "      <td>4_Premium</td>\n",
       "    </tr>\n",
       "  </tbody>\n",
       "</table>\n",
       "<p>1468 rows × 9 columns</p>\n",
       "</div>"
      ],
      "text/plain": [
       "      CustomerID  recency  frequency  monetary  R_Quartile  F_Quartile  \\\n",
       "0          12346      158          2    21.693           2           4   \n",
       "1          12347      110         60  9930.649           2           1   \n",
       "2          12348      124         23  1142.502           2           2   \n",
       "3          12350       68         17   952.049           1           3   \n",
       "4          12356      158         36  1009.729           2           2   \n",
       "...          ...      ...        ...       ...         ...         ...   \n",
       "1463       18259      321          7   474.075           4           4   \n",
       "1464       18260      138         40  1753.041           2           2   \n",
       "1465       18269      245          8    88.466           3           4   \n",
       "1466       18277      120          1   268.200           2           4   \n",
       "1467       18283      133        102  5713.533           2           1   \n",
       "\n",
       "      M_Quartile      R_rfm      FM_rfm  \n",
       "0              4  2_At_Risk  0_Standard  \n",
       "1              1  2_At_Risk   4_Premium  \n",
       "2              3  2_At_Risk      2_Gold  \n",
       "3              3   1_Active    1_Silver  \n",
       "4              3  2_At_Risk      2_Gold  \n",
       "...          ...        ...         ...  \n",
       "1463           4    3_Churn  0_Standard  \n",
       "1464           2  2_At_Risk      2_Gold  \n",
       "1465           4  2_At_Risk  0_Standard  \n",
       "1466           4  2_At_Risk  0_Standard  \n",
       "1467           1  2_At_Risk   4_Premium  \n",
       "\n",
       "[1468 rows x 9 columns]"
      ]
     },
     "execution_count": 74,
     "metadata": {},
     "output_type": "execute_result"
    }
   ],
   "source": [
    "rfm_df1"
   ]
  },
  {
   "cell_type": "code",
   "execution_count": 75,
   "id": "c6d8202f",
   "metadata": {},
   "outputs": [
    {
     "data": {
      "text/html": [
       "<div>\n",
       "<style scoped>\n",
       "    .dataframe tbody tr th:only-of-type {\n",
       "        vertical-align: middle;\n",
       "    }\n",
       "\n",
       "    .dataframe tbody tr th {\n",
       "        vertical-align: top;\n",
       "    }\n",
       "\n",
       "    .dataframe thead tr th {\n",
       "        text-align: left;\n",
       "    }\n",
       "</style>\n",
       "<table border=\"1\" class=\"dataframe\">\n",
       "  <thead>\n",
       "    <tr>\n",
       "      <th>R_rfm</th>\n",
       "      <th colspan=\"4\" halign=\"left\">1_Active</th>\n",
       "      <th colspan=\"4\" halign=\"left\">2_At_Risk</th>\n",
       "      <th colspan=\"4\" halign=\"left\">3_Churn</th>\n",
       "    </tr>\n",
       "    <tr>\n",
       "      <th>FM_rfm</th>\n",
       "      <th>0_Standard</th>\n",
       "      <th>1_Silver</th>\n",
       "      <th>2_Gold</th>\n",
       "      <th>4_Premium</th>\n",
       "      <th>0_Standard</th>\n",
       "      <th>1_Silver</th>\n",
       "      <th>2_Gold</th>\n",
       "      <th>4_Premium</th>\n",
       "      <th>0_Standard</th>\n",
       "      <th>1_Silver</th>\n",
       "      <th>2_Gold</th>\n",
       "      <th>4_Premium</th>\n",
       "    </tr>\n",
       "  </thead>\n",
       "  <tbody>\n",
       "    <tr>\n",
       "      <th>monetary</th>\n",
       "      <td>242.059257</td>\n",
       "      <td>826.715143</td>\n",
       "      <td>2393.159021</td>\n",
       "      <td>9088.011212</td>\n",
       "      <td>172.849157</td>\n",
       "      <td>760.850944</td>\n",
       "      <td>2190.131802</td>\n",
       "      <td>6561.446391</td>\n",
       "      <td>168.305390</td>\n",
       "      <td>812.445667</td>\n",
       "      <td>2162.754414</td>\n",
       "      <td>6379.922956</td>\n",
       "    </tr>\n",
       "    <tr>\n",
       "      <th>recency</th>\n",
       "      <td>72.457143</td>\n",
       "      <td>74.528571</td>\n",
       "      <td>78.020548</td>\n",
       "      <td>77.016949</td>\n",
       "      <td>191.444444</td>\n",
       "      <td>187.635897</td>\n",
       "      <td>181.988095</td>\n",
       "      <td>169.360902</td>\n",
       "      <td>339.047619</td>\n",
       "      <td>339.419048</td>\n",
       "      <td>334.837838</td>\n",
       "      <td>350.777778</td>\n",
       "    </tr>\n",
       "    <tr>\n",
       "      <th>frequency</th>\n",
       "      <td>4.371429</td>\n",
       "      <td>12.928571</td>\n",
       "      <td>30.041096</td>\n",
       "      <td>115.491525</td>\n",
       "      <td>4.601307</td>\n",
       "      <td>13.415385</td>\n",
       "      <td>34.793651</td>\n",
       "      <td>97.466165</td>\n",
       "      <td>3.552381</td>\n",
       "      <td>12.819048</td>\n",
       "      <td>31.387387</td>\n",
       "      <td>79.955556</td>\n",
       "    </tr>\n",
       "  </tbody>\n",
       "</table>\n",
       "</div>"
      ],
      "text/plain": [
       "R_rfm        1_Active                                         2_At_Risk  \\\n",
       "FM_rfm     0_Standard    1_Silver       2_Gold    4_Premium  0_Standard   \n",
       "monetary   242.059257  826.715143  2393.159021  9088.011212  172.849157   \n",
       "recency     72.457143   74.528571    78.020548    77.016949  191.444444   \n",
       "frequency    4.371429   12.928571    30.041096   115.491525    4.601307   \n",
       "\n",
       "R_rfm                                               3_Churn              \\\n",
       "FM_rfm       1_Silver       2_Gold    4_Premium  0_Standard    1_Silver   \n",
       "monetary   760.850944  2190.131802  6561.446391  168.305390  812.445667   \n",
       "recency    187.635897   181.988095   169.360902  339.047619  339.419048   \n",
       "frequency   13.415385    34.793651    97.466165    3.552381   12.819048   \n",
       "\n",
       "R_rfm                                \n",
       "FM_rfm          2_Gold    4_Premium  \n",
       "monetary   2162.754414  6379.922956  \n",
       "recency     334.837838   350.777778  \n",
       "frequency    31.387387    79.955556  "
      ]
     },
     "execution_count": 75,
     "metadata": {},
     "output_type": "execute_result"
    }
   ],
   "source": [
    "rfm_df1.groupby(['R_rfm', 'FM_rfm']).apply(lambda x: x[cols].mean()).T"
   ]
  },
  {
   "cell_type": "markdown",
   "id": "dd993389",
   "metadata": {},
   "source": [
    "$K Means$"
   ]
  },
  {
   "cell_type": "code",
   "execution_count": 76,
   "id": "0233493b",
   "metadata": {},
   "outputs": [
    {
     "data": {
      "text/html": [
       "<div>\n",
       "<style scoped>\n",
       "    .dataframe tbody tr th:only-of-type {\n",
       "        vertical-align: middle;\n",
       "    }\n",
       "\n",
       "    .dataframe tbody tr th {\n",
       "        vertical-align: top;\n",
       "    }\n",
       "\n",
       "    .dataframe thead th {\n",
       "        text-align: right;\n",
       "    }\n",
       "</style>\n",
       "<table border=\"1\" class=\"dataframe\">\n",
       "  <thead>\n",
       "    <tr style=\"text-align: right;\">\n",
       "      <th></th>\n",
       "      <th>recency</th>\n",
       "      <th>frequency</th>\n",
       "      <th>monetary</th>\n",
       "    </tr>\n",
       "  </thead>\n",
       "  <tbody>\n",
       "    <tr>\n",
       "      <th>0</th>\n",
       "      <td>158</td>\n",
       "      <td>2</td>\n",
       "      <td>21.693</td>\n",
       "    </tr>\n",
       "    <tr>\n",
       "      <th>1</th>\n",
       "      <td>110</td>\n",
       "      <td>60</td>\n",
       "      <td>9930.649</td>\n",
       "    </tr>\n",
       "    <tr>\n",
       "      <th>2</th>\n",
       "      <td>124</td>\n",
       "      <td>23</td>\n",
       "      <td>1142.502</td>\n",
       "    </tr>\n",
       "    <tr>\n",
       "      <th>3</th>\n",
       "      <td>68</td>\n",
       "      <td>17</td>\n",
       "      <td>952.049</td>\n",
       "    </tr>\n",
       "    <tr>\n",
       "      <th>4</th>\n",
       "      <td>158</td>\n",
       "      <td>36</td>\n",
       "      <td>1009.729</td>\n",
       "    </tr>\n",
       "  </tbody>\n",
       "</table>\n",
       "</div>"
      ],
      "text/plain": [
       "   recency  frequency  monetary\n",
       "0      158          2    21.693\n",
       "1      110         60  9930.649\n",
       "2      124         23  1142.502\n",
       "3       68         17   952.049\n",
       "4      158         36  1009.729"
      ]
     },
     "execution_count": 76,
     "metadata": {},
     "output_type": "execute_result"
    }
   ],
   "source": [
    "rfm_df2 = rfm_df.loc[:,['recency','frequency','monetary']]\n",
    "rfm_df2.head() "
   ]
  },
  {
   "cell_type": "markdown",
   "id": "ce312349",
   "metadata": {},
   "source": [
    "**--Scaling Data**"
   ]
  },
  {
   "cell_type": "code",
   "execution_count": 322,
   "id": "f361e467",
   "metadata": {},
   "outputs": [
    {
     "data": {
      "text/html": [
       "<div>\n",
       "<style scoped>\n",
       "    .dataframe tbody tr th:only-of-type {\n",
       "        vertical-align: middle;\n",
       "    }\n",
       "\n",
       "    .dataframe tbody tr th {\n",
       "        vertical-align: top;\n",
       "    }\n",
       "\n",
       "    .dataframe thead th {\n",
       "        text-align: right;\n",
       "    }\n",
       "</style>\n",
       "<table border=\"1\" class=\"dataframe\">\n",
       "  <thead>\n",
       "    <tr style=\"text-align: right;\">\n",
       "      <th></th>\n",
       "      <th>recency</th>\n",
       "      <th>frequency</th>\n",
       "      <th>monetary</th>\n",
       "    </tr>\n",
       "  </thead>\n",
       "  <tbody>\n",
       "    <tr>\n",
       "      <th>0</th>\n",
       "      <td>-0.365961</td>\n",
       "      <td>-0.669410</td>\n",
       "      <td>-0.614642</td>\n",
       "    </tr>\n",
       "    <tr>\n",
       "      <th>1</th>\n",
       "      <td>-0.837001</td>\n",
       "      <td>0.470788</td>\n",
       "      <td>1.811083</td>\n",
       "    </tr>\n",
       "    <tr>\n",
       "      <th>2</th>\n",
       "      <td>-0.699614</td>\n",
       "      <td>-0.256579</td>\n",
       "      <td>-0.340266</td>\n",
       "    </tr>\n",
       "    <tr>\n",
       "      <th>3</th>\n",
       "      <td>-1.249160</td>\n",
       "      <td>-0.374531</td>\n",
       "      <td>-0.386889</td>\n",
       "    </tr>\n",
       "    <tr>\n",
       "      <th>4</th>\n",
       "      <td>-0.365961</td>\n",
       "      <td>-0.001018</td>\n",
       "      <td>-0.372769</td>\n",
       "    </tr>\n",
       "  </tbody>\n",
       "</table>\n",
       "</div>"
      ],
      "text/plain": [
       "    recency  frequency  monetary\n",
       "0 -0.365961  -0.669410 -0.614642\n",
       "1 -0.837001   0.470788  1.811083\n",
       "2 -0.699614  -0.256579 -0.340266\n",
       "3 -1.249160  -0.374531 -0.386889\n",
       "4 -0.365961  -0.001018 -0.372769"
      ]
     },
     "execution_count": 322,
     "metadata": {},
     "output_type": "execute_result"
    }
   ],
   "source": [
    "sc = StandardScaler()\n",
    "sc = pd.DataFrame(sc.fit_transform(rfm_df2),columns=rfm_df2.columns)\n",
    "sc.head(5)"
   ]
  },
  {
   "cell_type": "markdown",
   "id": "49621f46",
   "metadata": {},
   "source": [
    "**--Model**"
   ]
  },
  {
   "cell_type": "code",
   "execution_count": 77,
   "id": "4e7c5355",
   "metadata": {},
   "outputs": [
    {
     "name": "stderr",
     "output_type": "stream",
     "text": [
      "C:\\Users\\Nithin\\anaconda3\\lib\\site-packages\\sklearn\\cluster\\_kmeans.py:870: FutureWarning: The default value of `n_init` will change from 10 to 'auto' in 1.4. Set the value of `n_init` explicitly to suppress the warning\n",
      "  warnings.warn(\n",
      "C:\\Users\\Nithin\\anaconda3\\lib\\site-packages\\sklearn\\cluster\\_kmeans.py:1382: UserWarning: KMeans is known to have a memory leak on Windows with MKL, when there are less chunks than available threads. You can avoid it by setting the environment variable OMP_NUM_THREADS=6.\n",
      "  warnings.warn(\n"
     ]
    }
   ],
   "source": [
    "km = KMeans(n_clusters=4,random_state=1234)\n",
    "km = km.fit(rfm_df2)"
   ]
  },
  {
   "cell_type": "code",
   "execution_count": 78,
   "id": "47e06475",
   "metadata": {},
   "outputs": [
    {
     "data": {
      "text/plain": [
       "0    1142\n",
       "1       5\n",
       "2     289\n",
       "3      32\n",
       "dtype: int64"
      ]
     },
     "execution_count": 78,
     "metadata": {},
     "output_type": "execute_result"
    }
   ],
   "source": [
    "pd.Series(km.labels_).value_counts().sort_index()"
   ]
  },
  {
   "cell_type": "markdown",
   "id": "0af3f497",
   "metadata": {},
   "source": [
    "**--Evaluation**"
   ]
  },
  {
   "cell_type": "markdown",
   "id": "ad5ac2f3",
   "metadata": {},
   "source": [
    "$Silhouette score$"
   ]
  },
  {
   "cell_type": "code",
   "execution_count": 325,
   "id": "845015f1",
   "metadata": {},
   "outputs": [
    {
     "data": {
      "text/plain": [
       "0.6836688054269123"
      ]
     },
     "execution_count": 325,
     "metadata": {},
     "output_type": "execute_result"
    }
   ],
   "source": [
    "silhouette_score(rfm_df2,km.labels_)"
   ]
  },
  {
   "cell_type": "code",
   "execution_count": 79,
   "id": "3c9012b0",
   "metadata": {},
   "outputs": [
    {
     "name": "stderr",
     "output_type": "stream",
     "text": [
      "C:\\Users\\Nithin\\anaconda3\\lib\\site-packages\\sklearn\\cluster\\_kmeans.py:870: FutureWarning: The default value of `n_init` will change from 10 to 'auto' in 1.4. Set the value of `n_init` explicitly to suppress the warning\n",
      "  warnings.warn(\n",
      "C:\\Users\\Nithin\\anaconda3\\lib\\site-packages\\sklearn\\cluster\\_kmeans.py:1382: UserWarning: KMeans is known to have a memory leak on Windows with MKL, when there are less chunks than available threads. You can avoid it by setting the environment variable OMP_NUM_THREADS=6.\n",
      "  warnings.warn(\n",
      "C:\\Users\\Nithin\\anaconda3\\lib\\site-packages\\sklearn\\cluster\\_kmeans.py:870: FutureWarning: The default value of `n_init` will change from 10 to 'auto' in 1.4. Set the value of `n_init` explicitly to suppress the warning\n",
      "  warnings.warn(\n",
      "C:\\Users\\Nithin\\anaconda3\\lib\\site-packages\\sklearn\\cluster\\_kmeans.py:1382: UserWarning: KMeans is known to have a memory leak on Windows with MKL, when there are less chunks than available threads. You can avoid it by setting the environment variable OMP_NUM_THREADS=6.\n",
      "  warnings.warn(\n",
      "C:\\Users\\Nithin\\anaconda3\\lib\\site-packages\\sklearn\\cluster\\_kmeans.py:870: FutureWarning: The default value of `n_init` will change from 10 to 'auto' in 1.4. Set the value of `n_init` explicitly to suppress the warning\n",
      "  warnings.warn(\n",
      "C:\\Users\\Nithin\\anaconda3\\lib\\site-packages\\sklearn\\cluster\\_kmeans.py:1382: UserWarning: KMeans is known to have a memory leak on Windows with MKL, when there are less chunks than available threads. You can avoid it by setting the environment variable OMP_NUM_THREADS=6.\n",
      "  warnings.warn(\n",
      "C:\\Users\\Nithin\\anaconda3\\lib\\site-packages\\sklearn\\cluster\\_kmeans.py:870: FutureWarning: The default value of `n_init` will change from 10 to 'auto' in 1.4. Set the value of `n_init` explicitly to suppress the warning\n",
      "  warnings.warn(\n",
      "C:\\Users\\Nithin\\anaconda3\\lib\\site-packages\\sklearn\\cluster\\_kmeans.py:1382: UserWarning: KMeans is known to have a memory leak on Windows with MKL, when there are less chunks than available threads. You can avoid it by setting the environment variable OMP_NUM_THREADS=6.\n",
      "  warnings.warn(\n",
      "C:\\Users\\Nithin\\anaconda3\\lib\\site-packages\\sklearn\\cluster\\_kmeans.py:870: FutureWarning: The default value of `n_init` will change from 10 to 'auto' in 1.4. Set the value of `n_init` explicitly to suppress the warning\n",
      "  warnings.warn(\n",
      "C:\\Users\\Nithin\\anaconda3\\lib\\site-packages\\sklearn\\cluster\\_kmeans.py:1382: UserWarning: KMeans is known to have a memory leak on Windows with MKL, when there are less chunks than available threads. You can avoid it by setting the environment variable OMP_NUM_THREADS=6.\n",
      "  warnings.warn(\n",
      "C:\\Users\\Nithin\\anaconda3\\lib\\site-packages\\sklearn\\cluster\\_kmeans.py:870: FutureWarning: The default value of `n_init` will change from 10 to 'auto' in 1.4. Set the value of `n_init` explicitly to suppress the warning\n",
      "  warnings.warn(\n",
      "C:\\Users\\Nithin\\anaconda3\\lib\\site-packages\\sklearn\\cluster\\_kmeans.py:1382: UserWarning: KMeans is known to have a memory leak on Windows with MKL, when there are less chunks than available threads. You can avoid it by setting the environment variable OMP_NUM_THREADS=6.\n",
      "  warnings.warn(\n",
      "C:\\Users\\Nithin\\anaconda3\\lib\\site-packages\\sklearn\\cluster\\_kmeans.py:870: FutureWarning: The default value of `n_init` will change from 10 to 'auto' in 1.4. Set the value of `n_init` explicitly to suppress the warning\n",
      "  warnings.warn(\n",
      "C:\\Users\\Nithin\\anaconda3\\lib\\site-packages\\sklearn\\cluster\\_kmeans.py:1382: UserWarning: KMeans is known to have a memory leak on Windows with MKL, when there are less chunks than available threads. You can avoid it by setting the environment variable OMP_NUM_THREADS=6.\n",
      "  warnings.warn(\n",
      "C:\\Users\\Nithin\\anaconda3\\lib\\site-packages\\sklearn\\cluster\\_kmeans.py:870: FutureWarning: The default value of `n_init` will change from 10 to 'auto' in 1.4. Set the value of `n_init` explicitly to suppress the warning\n",
      "  warnings.warn(\n",
      "C:\\Users\\Nithin\\anaconda3\\lib\\site-packages\\sklearn\\cluster\\_kmeans.py:1382: UserWarning: KMeans is known to have a memory leak on Windows with MKL, when there are less chunks than available threads. You can avoid it by setting the environment variable OMP_NUM_THREADS=6.\n",
      "  warnings.warn(\n",
      "C:\\Users\\Nithin\\anaconda3\\lib\\site-packages\\sklearn\\cluster\\_kmeans.py:870: FutureWarning: The default value of `n_init` will change from 10 to 'auto' in 1.4. Set the value of `n_init` explicitly to suppress the warning\n",
      "  warnings.warn(\n",
      "C:\\Users\\Nithin\\anaconda3\\lib\\site-packages\\sklearn\\cluster\\_kmeans.py:1382: UserWarning: KMeans is known to have a memory leak on Windows with MKL, when there are less chunks than available threads. You can avoid it by setting the environment variable OMP_NUM_THREADS=6.\n",
      "  warnings.warn(\n",
      "C:\\Users\\Nithin\\anaconda3\\lib\\site-packages\\sklearn\\cluster\\_kmeans.py:870: FutureWarning: The default value of `n_init` will change from 10 to 'auto' in 1.4. Set the value of `n_init` explicitly to suppress the warning\n",
      "  warnings.warn(\n",
      "C:\\Users\\Nithin\\anaconda3\\lib\\site-packages\\sklearn\\cluster\\_kmeans.py:1382: UserWarning: KMeans is known to have a memory leak on Windows with MKL, when there are less chunks than available threads. You can avoid it by setting the environment variable OMP_NUM_THREADS=6.\n",
      "  warnings.warn(\n",
      "C:\\Users\\Nithin\\anaconda3\\lib\\site-packages\\sklearn\\cluster\\_kmeans.py:870: FutureWarning: The default value of `n_init` will change from 10 to 'auto' in 1.4. Set the value of `n_init` explicitly to suppress the warning\n",
      "  warnings.warn(\n",
      "C:\\Users\\Nithin\\anaconda3\\lib\\site-packages\\sklearn\\cluster\\_kmeans.py:1382: UserWarning: KMeans is known to have a memory leak on Windows with MKL, when there are less chunks than available threads. You can avoid it by setting the environment variable OMP_NUM_THREADS=6.\n",
      "  warnings.warn(\n",
      "C:\\Users\\Nithin\\anaconda3\\lib\\site-packages\\sklearn\\cluster\\_kmeans.py:870: FutureWarning: The default value of `n_init` will change from 10 to 'auto' in 1.4. Set the value of `n_init` explicitly to suppress the warning\n",
      "  warnings.warn(\n",
      "C:\\Users\\Nithin\\anaconda3\\lib\\site-packages\\sklearn\\cluster\\_kmeans.py:1382: UserWarning: KMeans is known to have a memory leak on Windows with MKL, when there are less chunks than available threads. You can avoid it by setting the environment variable OMP_NUM_THREADS=6.\n",
      "  warnings.warn(\n",
      "C:\\Users\\Nithin\\anaconda3\\lib\\site-packages\\sklearn\\cluster\\_kmeans.py:870: FutureWarning: The default value of `n_init` will change from 10 to 'auto' in 1.4. Set the value of `n_init` explicitly to suppress the warning\n",
      "  warnings.warn(\n",
      "C:\\Users\\Nithin\\anaconda3\\lib\\site-packages\\sklearn\\cluster\\_kmeans.py:1382: UserWarning: KMeans is known to have a memory leak on Windows with MKL, when there are less chunks than available threads. You can avoid it by setting the environment variable OMP_NUM_THREADS=6.\n",
      "  warnings.warn(\n",
      "C:\\Users\\Nithin\\anaconda3\\lib\\site-packages\\sklearn\\cluster\\_kmeans.py:870: FutureWarning: The default value of `n_init` will change from 10 to 'auto' in 1.4. Set the value of `n_init` explicitly to suppress the warning\n",
      "  warnings.warn(\n",
      "C:\\Users\\Nithin\\anaconda3\\lib\\site-packages\\sklearn\\cluster\\_kmeans.py:1382: UserWarning: KMeans is known to have a memory leak on Windows with MKL, when there are less chunks than available threads. You can avoid it by setting the environment variable OMP_NUM_THREADS=6.\n",
      "  warnings.warn(\n",
      "C:\\Users\\Nithin\\anaconda3\\lib\\site-packages\\sklearn\\cluster\\_kmeans.py:870: FutureWarning: The default value of `n_init` will change from 10 to 'auto' in 1.4. Set the value of `n_init` explicitly to suppress the warning\n",
      "  warnings.warn(\n",
      "C:\\Users\\Nithin\\anaconda3\\lib\\site-packages\\sklearn\\cluster\\_kmeans.py:1382: UserWarning: KMeans is known to have a memory leak on Windows with MKL, when there are less chunks than available threads. You can avoid it by setting the environment variable OMP_NUM_THREADS=6.\n",
      "  warnings.warn(\n",
      "C:\\Users\\Nithin\\anaconda3\\lib\\site-packages\\sklearn\\cluster\\_kmeans.py:870: FutureWarning: The default value of `n_init` will change from 10 to 'auto' in 1.4. Set the value of `n_init` explicitly to suppress the warning\n",
      "  warnings.warn(\n",
      "C:\\Users\\Nithin\\anaconda3\\lib\\site-packages\\sklearn\\cluster\\_kmeans.py:1382: UserWarning: KMeans is known to have a memory leak on Windows with MKL, when there are less chunks than available threads. You can avoid it by setting the environment variable OMP_NUM_THREADS=6.\n",
      "  warnings.warn(\n",
      "C:\\Users\\Nithin\\anaconda3\\lib\\site-packages\\sklearn\\cluster\\_kmeans.py:870: FutureWarning: The default value of `n_init` will change from 10 to 'auto' in 1.4. Set the value of `n_init` explicitly to suppress the warning\n",
      "  warnings.warn(\n",
      "C:\\Users\\Nithin\\anaconda3\\lib\\site-packages\\sklearn\\cluster\\_kmeans.py:1382: UserWarning: KMeans is known to have a memory leak on Windows with MKL, when there are less chunks than available threads. You can avoid it by setting the environment variable OMP_NUM_THREADS=6.\n",
      "  warnings.warn(\n",
      "C:\\Users\\Nithin\\anaconda3\\lib\\site-packages\\sklearn\\cluster\\_kmeans.py:870: FutureWarning: The default value of `n_init` will change from 10 to 'auto' in 1.4. Set the value of `n_init` explicitly to suppress the warning\n",
      "  warnings.warn(\n",
      "C:\\Users\\Nithin\\anaconda3\\lib\\site-packages\\sklearn\\cluster\\_kmeans.py:1382: UserWarning: KMeans is known to have a memory leak on Windows with MKL, when there are less chunks than available threads. You can avoid it by setting the environment variable OMP_NUM_THREADS=6.\n",
      "  warnings.warn(\n",
      "C:\\Users\\Nithin\\anaconda3\\lib\\site-packages\\sklearn\\cluster\\_kmeans.py:870: FutureWarning: The default value of `n_init` will change from 10 to 'auto' in 1.4. Set the value of `n_init` explicitly to suppress the warning\n",
      "  warnings.warn(\n",
      "C:\\Users\\Nithin\\anaconda3\\lib\\site-packages\\sklearn\\cluster\\_kmeans.py:1382: UserWarning: KMeans is known to have a memory leak on Windows with MKL, when there are less chunks than available threads. You can avoid it by setting the environment variable OMP_NUM_THREADS=6.\n",
      "  warnings.warn(\n"
     ]
    }
   ],
   "source": [
    "#Loop of k = 2 to 20\n",
    "k_range = range(2,21)\n",
    "silhouette_scores = []\n",
    "\n",
    "for k in k_range:\n",
    "    km = KMeans(n_clusters=k, random_state=123)\n",
    "    km.fit(rfm_df2)\n",
    "    silhouette_scores.append(silhouette_score(rfm_df2, km.labels_))"
   ]
  },
  {
   "cell_type": "code",
   "execution_count": 80,
   "id": "8e30f527",
   "metadata": {},
   "outputs": [
    {
     "data": {
      "image/png": "[encoded data removed]",
      "text/plain": [
       "<Figure size 432x288 with 1 Axes>"
      ]
     },
     "metadata": {
      "needs_background": "light"
     },
     "output_type": "display_data"
    }
   ],
   "source": [
    "plt.plot(k_range,silhouette_scores)\n",
    "plt.xlabel('no_of_clusters')\n",
    "plt.ylabel('silhoutte_score')\n",
    "plt.grid(True)"
   ]
  },
  {
   "cell_type": "markdown",
   "id": "a57400a2",
   "metadata": {},
   "source": [
    "$WCSS Score$"
   ]
  },
  {
   "cell_type": "code",
   "execution_count": 329,
   "id": "f52d8e52",
   "metadata": {},
   "outputs": [
    {
     "name": "stderr",
     "output_type": "stream",
     "text": [
      "C:\\Users\\Nithin\\anaconda3\\lib\\site-packages\\sklearn\\cluster\\_kmeans.py:870: FutureWarning: The default value of `n_init` will change from 10 to 'auto' in 1.4. Set the value of `n_init` explicitly to suppress the warning\n",
      "  warnings.warn(\n",
      "C:\\Users\\Nithin\\anaconda3\\lib\\site-packages\\sklearn\\cluster\\_kmeans.py:1382: UserWarning: KMeans is known to have a memory leak on Windows with MKL, when there are less chunks than available threads. You can avoid it by setting the environment variable OMP_NUM_THREADS=6.\n",
      "  warnings.warn(\n",
      "C:\\Users\\Nithin\\anaconda3\\lib\\site-packages\\sklearn\\cluster\\_kmeans.py:870: FutureWarning: The default value of `n_init` will change from 10 to 'auto' in 1.4. Set the value of `n_init` explicitly to suppress the warning\n",
      "  warnings.warn(\n",
      "C:\\Users\\Nithin\\anaconda3\\lib\\site-packages\\sklearn\\cluster\\_kmeans.py:1382: UserWarning: KMeans is known to have a memory leak on Windows with MKL, when there are less chunks than available threads. You can avoid it by setting the environment variable OMP_NUM_THREADS=6.\n",
      "  warnings.warn(\n",
      "C:\\Users\\Nithin\\anaconda3\\lib\\site-packages\\sklearn\\cluster\\_kmeans.py:870: FutureWarning: The default value of `n_init` will change from 10 to 'auto' in 1.4. Set the value of `n_init` explicitly to suppress the warning\n",
      "  warnings.warn(\n",
      "C:\\Users\\Nithin\\anaconda3\\lib\\site-packages\\sklearn\\cluster\\_kmeans.py:1382: UserWarning: KMeans is known to have a memory leak on Windows with MKL, when there are less chunks than available threads. You can avoid it by setting the environment variable OMP_NUM_THREADS=6.\n",
      "  warnings.warn(\n",
      "C:\\Users\\Nithin\\anaconda3\\lib\\site-packages\\sklearn\\cluster\\_kmeans.py:870: FutureWarning: The default value of `n_init` will change from 10 to 'auto' in 1.4. Set the value of `n_init` explicitly to suppress the warning\n",
      "  warnings.warn(\n",
      "C:\\Users\\Nithin\\anaconda3\\lib\\site-packages\\sklearn\\cluster\\_kmeans.py:1382: UserWarning: KMeans is known to have a memory leak on Windows with MKL, when there are less chunks than available threads. You can avoid it by setting the environment variable OMP_NUM_THREADS=6.\n",
      "  warnings.warn(\n",
      "C:\\Users\\Nithin\\anaconda3\\lib\\site-packages\\sklearn\\cluster\\_kmeans.py:870: FutureWarning: The default value of `n_init` will change from 10 to 'auto' in 1.4. Set the value of `n_init` explicitly to suppress the warning\n",
      "  warnings.warn(\n",
      "C:\\Users\\Nithin\\anaconda3\\lib\\site-packages\\sklearn\\cluster\\_kmeans.py:1382: UserWarning: KMeans is known to have a memory leak on Windows with MKL, when there are less chunks than available threads. You can avoid it by setting the environment variable OMP_NUM_THREADS=6.\n",
      "  warnings.warn(\n",
      "C:\\Users\\Nithin\\anaconda3\\lib\\site-packages\\sklearn\\cluster\\_kmeans.py:870: FutureWarning: The default value of `n_init` will change from 10 to 'auto' in 1.4. Set the value of `n_init` explicitly to suppress the warning\n",
      "  warnings.warn(\n",
      "C:\\Users\\Nithin\\anaconda3\\lib\\site-packages\\sklearn\\cluster\\_kmeans.py:1382: UserWarning: KMeans is known to have a memory leak on Windows with MKL, when there are less chunks than available threads. You can avoid it by setting the environment variable OMP_NUM_THREADS=6.\n",
      "  warnings.warn(\n",
      "C:\\Users\\Nithin\\anaconda3\\lib\\site-packages\\sklearn\\cluster\\_kmeans.py:870: FutureWarning: The default value of `n_init` will change from 10 to 'auto' in 1.4. Set the value of `n_init` explicitly to suppress the warning\n",
      "  warnings.warn(\n",
      "C:\\Users\\Nithin\\anaconda3\\lib\\site-packages\\sklearn\\cluster\\_kmeans.py:1382: UserWarning: KMeans is known to have a memory leak on Windows with MKL, when there are less chunks than available threads. You can avoid it by setting the environment variable OMP_NUM_THREADS=6.\n",
      "  warnings.warn(\n",
      "C:\\Users\\Nithin\\anaconda3\\lib\\site-packages\\sklearn\\cluster\\_kmeans.py:870: FutureWarning: The default value of `n_init` will change from 10 to 'auto' in 1.4. Set the value of `n_init` explicitly to suppress the warning\n",
      "  warnings.warn(\n",
      "C:\\Users\\Nithin\\anaconda3\\lib\\site-packages\\sklearn\\cluster\\_kmeans.py:1382: UserWarning: KMeans is known to have a memory leak on Windows with MKL, when there are less chunks than available threads. You can avoid it by setting the environment variable OMP_NUM_THREADS=6.\n",
      "  warnings.warn(\n",
      "C:\\Users\\Nithin\\anaconda3\\lib\\site-packages\\sklearn\\cluster\\_kmeans.py:870: FutureWarning: The default value of `n_init` will change from 10 to 'auto' in 1.4. Set the value of `n_init` explicitly to suppress the warning\n",
      "  warnings.warn(\n",
      "C:\\Users\\Nithin\\anaconda3\\lib\\site-packages\\sklearn\\cluster\\_kmeans.py:1382: UserWarning: KMeans is known to have a memory leak on Windows with MKL, when there are less chunks than available threads. You can avoid it by setting the environment variable OMP_NUM_THREADS=6.\n",
      "  warnings.warn(\n",
      "C:\\Users\\Nithin\\anaconda3\\lib\\site-packages\\sklearn\\cluster\\_kmeans.py:870: FutureWarning: The default value of `n_init` will change from 10 to 'auto' in 1.4. Set the value of `n_init` explicitly to suppress the warning\n",
      "  warnings.warn(\n",
      "C:\\Users\\Nithin\\anaconda3\\lib\\site-packages\\sklearn\\cluster\\_kmeans.py:1382: UserWarning: KMeans is known to have a memory leak on Windows with MKL, when there are less chunks than available threads. You can avoid it by setting the environment variable OMP_NUM_THREADS=6.\n",
      "  warnings.warn(\n",
      "C:\\Users\\Nithin\\anaconda3\\lib\\site-packages\\sklearn\\cluster\\_kmeans.py:870: FutureWarning: The default value of `n_init` will change from 10 to 'auto' in 1.4. Set the value of `n_init` explicitly to suppress the warning\n",
      "  warnings.warn(\n",
      "C:\\Users\\Nithin\\anaconda3\\lib\\site-packages\\sklearn\\cluster\\_kmeans.py:1382: UserWarning: KMeans is known to have a memory leak on Windows with MKL, when there are less chunks than available threads. You can avoid it by setting the environment variable OMP_NUM_THREADS=6.\n",
      "  warnings.warn(\n",
      "C:\\Users\\Nithin\\anaconda3\\lib\\site-packages\\sklearn\\cluster\\_kmeans.py:870: FutureWarning: The default value of `n_init` will change from 10 to 'auto' in 1.4. Set the value of `n_init` explicitly to suppress the warning\n",
      "  warnings.warn(\n",
      "C:\\Users\\Nithin\\anaconda3\\lib\\site-packages\\sklearn\\cluster\\_kmeans.py:1382: UserWarning: KMeans is known to have a memory leak on Windows with MKL, when there are less chunks than available threads. You can avoid it by setting the environment variable OMP_NUM_THREADS=6.\n",
      "  warnings.warn(\n",
      "C:\\Users\\Nithin\\anaconda3\\lib\\site-packages\\sklearn\\cluster\\_kmeans.py:870: FutureWarning: The default value of `n_init` will change from 10 to 'auto' in 1.4. Set the value of `n_init` explicitly to suppress the warning\n",
      "  warnings.warn(\n",
      "C:\\Users\\Nithin\\anaconda3\\lib\\site-packages\\sklearn\\cluster\\_kmeans.py:1382: UserWarning: KMeans is known to have a memory leak on Windows with MKL, when there are less chunks than available threads. You can avoid it by setting the environment variable OMP_NUM_THREADS=6.\n",
      "  warnings.warn(\n",
      "C:\\Users\\Nithin\\anaconda3\\lib\\site-packages\\sklearn\\cluster\\_kmeans.py:870: FutureWarning: The default value of `n_init` will change from 10 to 'auto' in 1.4. Set the value of `n_init` explicitly to suppress the warning\n",
      "  warnings.warn(\n",
      "C:\\Users\\Nithin\\anaconda3\\lib\\site-packages\\sklearn\\cluster\\_kmeans.py:1382: UserWarning: KMeans is known to have a memory leak on Windows with MKL, when there are less chunks than available threads. You can avoid it by setting the environment variable OMP_NUM_THREADS=6.\n",
      "  warnings.warn(\n",
      "C:\\Users\\Nithin\\anaconda3\\lib\\site-packages\\sklearn\\cluster\\_kmeans.py:870: FutureWarning: The default value of `n_init` will change from 10 to 'auto' in 1.4. Set the value of `n_init` explicitly to suppress the warning\n",
      "  warnings.warn(\n",
      "C:\\Users\\Nithin\\anaconda3\\lib\\site-packages\\sklearn\\cluster\\_kmeans.py:1382: UserWarning: KMeans is known to have a memory leak on Windows with MKL, when there are less chunks than available threads. You can avoid it by setting the environment variable OMP_NUM_THREADS=6.\n",
      "  warnings.warn(\n",
      "C:\\Users\\Nithin\\anaconda3\\lib\\site-packages\\sklearn\\cluster\\_kmeans.py:870: FutureWarning: The default value of `n_init` will change from 10 to 'auto' in 1.4. Set the value of `n_init` explicitly to suppress the warning\n",
      "  warnings.warn(\n",
      "C:\\Users\\Nithin\\anaconda3\\lib\\site-packages\\sklearn\\cluster\\_kmeans.py:1382: UserWarning: KMeans is known to have a memory leak on Windows with MKL, when there are less chunks than available threads. You can avoid it by setting the environment variable OMP_NUM_THREADS=6.\n",
      "  warnings.warn(\n",
      "C:\\Users\\Nithin\\anaconda3\\lib\\site-packages\\sklearn\\cluster\\_kmeans.py:870: FutureWarning: The default value of `n_init` will change from 10 to 'auto' in 1.4. Set the value of `n_init` explicitly to suppress the warning\n",
      "  warnings.warn(\n",
      "C:\\Users\\Nithin\\anaconda3\\lib\\site-packages\\sklearn\\cluster\\_kmeans.py:1382: UserWarning: KMeans is known to have a memory leak on Windows with MKL, when there are less chunks than available threads. You can avoid it by setting the environment variable OMP_NUM_THREADS=6.\n",
      "  warnings.warn(\n",
      "C:\\Users\\Nithin\\anaconda3\\lib\\site-packages\\sklearn\\cluster\\_kmeans.py:870: FutureWarning: The default value of `n_init` will change from 10 to 'auto' in 1.4. Set the value of `n_init` explicitly to suppress the warning\n",
      "  warnings.warn(\n",
      "C:\\Users\\Nithin\\anaconda3\\lib\\site-packages\\sklearn\\cluster\\_kmeans.py:1382: UserWarning: KMeans is known to have a memory leak on Windows with MKL, when there are less chunks than available threads. You can avoid it by setting the environment variable OMP_NUM_THREADS=6.\n",
      "  warnings.warn(\n",
      "C:\\Users\\Nithin\\anaconda3\\lib\\site-packages\\sklearn\\cluster\\_kmeans.py:870: FutureWarning: The default value of `n_init` will change from 10 to 'auto' in 1.4. Set the value of `n_init` explicitly to suppress the warning\n",
      "  warnings.warn(\n",
      "C:\\Users\\Nithin\\anaconda3\\lib\\site-packages\\sklearn\\cluster\\_kmeans.py:1382: UserWarning: KMeans is known to have a memory leak on Windows with MKL, when there are less chunks than available threads. You can avoid it by setting the environment variable OMP_NUM_THREADS=6.\n",
      "  warnings.warn(\n"
     ]
    }
   ],
   "source": [
    "k_range = range(2,21)\n",
    "wcss_scores = []\n",
    "\n",
    "for k in k_range:\n",
    "    km = KMeans(n_clusters=k, random_state=1234)\n",
    "    km.fit(rfm_df2)\n",
    "    wcss_scores.append(km.inertia_)"
   ]
  },
  {
   "cell_type": "code",
   "execution_count": 330,
   "id": "1dc94aab",
   "metadata": {},
   "outputs": [
    {
     "data": {
      "image/png": "[encoded data removed]",
      "text/plain": [
       "<Figure size 432x288 with 1 Axes>"
      ]
     },
     "metadata": {
      "needs_background": "light"
     },
     "output_type": "display_data"
    }
   ],
   "source": [
    "plt.plot(k_range,wcss_scores)\n",
    "plt.xlabel('No. of Clusters')\n",
    "plt.ylabel('WCSS Scores')\n",
    "plt.grid(True)"
   ]
  },
  {
   "cell_type": "code",
   "execution_count": 81,
   "id": "90f3c5fb",
   "metadata": {},
   "outputs": [
    {
     "name": "stderr",
     "output_type": "stream",
     "text": [
      "C:\\Users\\Nithin\\anaconda3\\lib\\site-packages\\sklearn\\cluster\\_kmeans.py:870: FutureWarning: The default value of `n_init` will change from 10 to 'auto' in 1.4. Set the value of `n_init` explicitly to suppress the warning\n",
      "  warnings.warn(\n",
      "C:\\Users\\Nithin\\anaconda3\\lib\\site-packages\\sklearn\\cluster\\_kmeans.py:1382: UserWarning: KMeans is known to have a memory leak on Windows with MKL, when there are less chunks than available threads. You can avoid it by setting the environment variable OMP_NUM_THREADS=6.\n",
      "  warnings.warn(\n",
      "C:\\Users\\Nithin\\anaconda3\\lib\\site-packages\\sklearn\\cluster\\_kmeans.py:870: FutureWarning: The default value of `n_init` will change from 10 to 'auto' in 1.4. Set the value of `n_init` explicitly to suppress the warning\n",
      "  warnings.warn(\n",
      "C:\\Users\\Nithin\\anaconda3\\lib\\site-packages\\sklearn\\cluster\\_kmeans.py:1382: UserWarning: KMeans is known to have a memory leak on Windows with MKL, when there are less chunks than available threads. You can avoid it by setting the environment variable OMP_NUM_THREADS=6.\n",
      "  warnings.warn(\n",
      "C:\\Users\\Nithin\\anaconda3\\lib\\site-packages\\sklearn\\cluster\\_kmeans.py:870: FutureWarning: The default value of `n_init` will change from 10 to 'auto' in 1.4. Set the value of `n_init` explicitly to suppress the warning\n",
      "  warnings.warn(\n",
      "C:\\Users\\Nithin\\anaconda3\\lib\\site-packages\\sklearn\\cluster\\_kmeans.py:1382: UserWarning: KMeans is known to have a memory leak on Windows with MKL, when there are less chunks than available threads. You can avoid it by setting the environment variable OMP_NUM_THREADS=6.\n",
      "  warnings.warn(\n",
      "C:\\Users\\Nithin\\anaconda3\\lib\\site-packages\\sklearn\\cluster\\_kmeans.py:870: FutureWarning: The default value of `n_init` will change from 10 to 'auto' in 1.4. Set the value of `n_init` explicitly to suppress the warning\n",
      "  warnings.warn(\n",
      "C:\\Users\\Nithin\\anaconda3\\lib\\site-packages\\sklearn\\cluster\\_kmeans.py:1382: UserWarning: KMeans is known to have a memory leak on Windows with MKL, when there are less chunks than available threads. You can avoid it by setting the environment variable OMP_NUM_THREADS=6.\n",
      "  warnings.warn(\n",
      "C:\\Users\\Nithin\\anaconda3\\lib\\site-packages\\sklearn\\cluster\\_kmeans.py:870: FutureWarning: The default value of `n_init` will change from 10 to 'auto' in 1.4. Set the value of `n_init` explicitly to suppress the warning\n",
      "  warnings.warn(\n",
      "C:\\Users\\Nithin\\anaconda3\\lib\\site-packages\\sklearn\\cluster\\_kmeans.py:1382: UserWarning: KMeans is known to have a memory leak on Windows with MKL, when there are less chunks than available threads. You can avoid it by setting the environment variable OMP_NUM_THREADS=6.\n",
      "  warnings.warn(\n",
      "C:\\Users\\Nithin\\anaconda3\\lib\\site-packages\\sklearn\\cluster\\_kmeans.py:870: FutureWarning: The default value of `n_init` will change from 10 to 'auto' in 1.4. Set the value of `n_init` explicitly to suppress the warning\n",
      "  warnings.warn(\n",
      "C:\\Users\\Nithin\\anaconda3\\lib\\site-packages\\sklearn\\cluster\\_kmeans.py:1382: UserWarning: KMeans is known to have a memory leak on Windows with MKL, when there are less chunks than available threads. You can avoid it by setting the environment variable OMP_NUM_THREADS=6.\n",
      "  warnings.warn(\n"
     ]
    }
   ],
   "source": [
    "# We have decided k value between 3 to 8\n",
    "\n",
    "km_3 = KMeans(n_clusters=3, random_state=123).fit(rfm_df2)\n",
    "km_4 = KMeans(n_clusters=4, random_state=123).fit(rfm_df2)\n",
    "km_5 = KMeans(n_clusters=5, random_state=123).fit(rfm_df2)\n",
    "km_6 = KMeans(n_clusters=6, random_state=123).fit(rfm_df2)\n",
    "km_7 = KMeans(n_clusters=7, random_state=123).fit(rfm_df2)\n",
    "km_8 = KMeans(n_clusters=8, random_state=123).fit(rfm_df2)"
   ]
  },
  {
   "cell_type": "code",
   "execution_count": 84,
   "id": "8295c8d6",
   "metadata": {},
   "outputs": [
    {
     "data": {
      "text/plain": [
       "0    1236\n",
       "1     226\n",
       "2       6\n",
       "dtype: int64"
      ]
     },
     "execution_count": 84,
     "metadata": {},
     "output_type": "execute_result"
    }
   ],
   "source": [
    "pd.Series(km_3.labels_).value_counts().sort_index()"
   ]
  },
  {
   "cell_type": "code",
   "execution_count": 85,
   "id": "ef8dc4a5",
   "metadata": {},
   "outputs": [
    {
     "data": {
      "text/plain": [
       "0     289\n",
       "1    1142\n",
       "2      32\n",
       "3       5\n",
       "dtype: int64"
      ]
     },
     "execution_count": 85,
     "metadata": {},
     "output_type": "execute_result"
    }
   ],
   "source": [
    "\n",
    "pd.Series(km_4.labels_).value_counts().sort_index()"
   ]
  },
  {
   "cell_type": "code",
   "execution_count": 86,
   "id": "eb27cef3",
   "metadata": {},
   "outputs": [
    {
     "data": {
      "text/plain": [
       "0    932\n",
       "1    129\n",
       "2      5\n",
       "3     27\n",
       "4    375\n",
       "dtype: int64"
      ]
     },
     "execution_count": 86,
     "metadata": {},
     "output_type": "execute_result"
    }
   ],
   "source": [
    "pd.Series(km_5.labels_).value_counts().sort_index()"
   ]
  },
  {
   "cell_type": "code",
   "execution_count": 87,
   "id": "75737697",
   "metadata": {},
   "outputs": [
    {
     "data": {
      "text/plain": [
       "0    929\n",
       "1      2\n",
       "2     31\n",
       "3    131\n",
       "4      4\n",
       "5    371\n",
       "dtype: int64"
      ]
     },
     "execution_count": 87,
     "metadata": {},
     "output_type": "execute_result"
    }
   ],
   "source": [
    "pd.Series(km_6.labels_).value_counts().sort_index()"
   ]
  },
  {
   "cell_type": "code",
   "execution_count": 88,
   "id": "212ff9f2",
   "metadata": {},
   "outputs": [
    {
     "data": {
      "text/plain": [
       "0    412\n",
       "1     26\n",
       "2      4\n",
       "3     92\n",
       "4    731\n",
       "5      2\n",
       "6    201\n",
       "dtype: int64"
      ]
     },
     "execution_count": 88,
     "metadata": {},
     "output_type": "execute_result"
    }
   ],
   "source": [
    "pd.Series(km_7.labels_).value_counts().sort_index()"
   ]
  },
  {
   "cell_type": "code",
   "execution_count": 89,
   "id": "cbc243cf",
   "metadata": {},
   "outputs": [
    {
     "data": {
      "text/plain": [
       "0    752\n",
       "1     88\n",
       "2      4\n",
       "3    399\n",
       "4     10\n",
       "5      2\n",
       "6    192\n",
       "7     21\n",
       "dtype: int64"
      ]
     },
     "execution_count": 89,
     "metadata": {},
     "output_type": "execute_result"
    }
   ],
   "source": [
    "\n",
    "pd.Series(km_8.labels_).value_counts().sort_index()"
   ]
  },
  {
   "cell_type": "code",
   "execution_count": 95,
   "id": "e758134d",
   "metadata": {},
   "outputs": [],
   "source": [
    "rfm_df2['Cluster_3'] = km_3.labels_\n",
    "rfm_df2['Cluster_4'] = km_4.labels_\n",
    "rfm_df2['Cluster_5'] = km_5.labels_\n",
    "rfm_df2['Cluster_6'] = km_6.labels_\n",
    "rfm_df2['Cluster_7'] = km_7.labels_\n",
    "rfm_df2['Cluster_8'] = km_8.labels_"
   ]
  },
  {
   "cell_type": "code",
   "execution_count": 90,
   "id": "04094584",
   "metadata": {},
   "outputs": [
    {
     "name": "stdout",
     "output_type": "stream",
     "text": [
      "km_3 = 0.7171422387181583\n",
      "km_4 = 0.6836688054269123\n",
      "km_5 = 0.6238517331561874\n",
      "km_6 = 0.623587270955373\n",
      "km_7 = 0.5867963077724244\n",
      "km_8 = 0.589188084004382\n"
     ]
    }
   ],
   "source": [
    "print('km_3 =',silhouette_score(rfm_df2, km_3.labels_))\n",
    "print('km_4 =',silhouette_score(rfm_df2, km_4.labels_))\n",
    "print('km_5 =',silhouette_score(rfm_df2, km_5.labels_))\n",
    "print('km_6 =',silhouette_score(rfm_df2, km_6.labels_))\n",
    "print('km_7 =',silhouette_score(rfm_df2, km_7.labels_))\n",
    "print('km_8 =',silhouette_score(rfm_df2, km_8.labels_))"
   ]
  },
  {
   "cell_type": "code",
   "execution_count": 97,
   "id": "693826c6",
   "metadata": {},
   "outputs": [],
   "source": [
    "predect_rfm = pd.DataFrame(rfm_df2.Cluster_7 ).rename(columns={'Cluster_7':'Pred_rfm'})\n",
    "rfm_kmeans = pd.concat([rfm_df, predect_rfm], axis=1)"
   ]
  },
  {
   "cell_type": "code",
   "execution_count": 98,
   "id": "57ee64ed",
   "metadata": {},
   "outputs": [
    {
     "data": {
      "text/html": [
       "<div>\n",
       "<style scoped>\n",
       "    .dataframe tbody tr th:only-of-type {\n",
       "        vertical-align: middle;\n",
       "    }\n",
       "\n",
       "    .dataframe tbody tr th {\n",
       "        vertical-align: top;\n",
       "    }\n",
       "\n",
       "    .dataframe thead th {\n",
       "        text-align: right;\n",
       "    }\n",
       "</style>\n",
       "<table border=\"1\" class=\"dataframe\">\n",
       "  <thead>\n",
       "    <tr style=\"text-align: right;\">\n",
       "      <th></th>\n",
       "      <th>CustomerID</th>\n",
       "      <th>recency</th>\n",
       "      <th>frequency</th>\n",
       "      <th>monetary</th>\n",
       "      <th>Pred_rfm</th>\n",
       "    </tr>\n",
       "  </thead>\n",
       "  <tbody>\n",
       "    <tr>\n",
       "      <th>0</th>\n",
       "      <td>12346</td>\n",
       "      <td>158</td>\n",
       "      <td>2</td>\n",
       "      <td>21.693</td>\n",
       "      <td>4</td>\n",
       "    </tr>\n",
       "    <tr>\n",
       "      <th>1</th>\n",
       "      <td>12347</td>\n",
       "      <td>110</td>\n",
       "      <td>60</td>\n",
       "      <td>9930.649</td>\n",
       "      <td>3</td>\n",
       "    </tr>\n",
       "    <tr>\n",
       "      <th>2</th>\n",
       "      <td>12348</td>\n",
       "      <td>124</td>\n",
       "      <td>23</td>\n",
       "      <td>1142.502</td>\n",
       "      <td>4</td>\n",
       "    </tr>\n",
       "    <tr>\n",
       "      <th>3</th>\n",
       "      <td>12350</td>\n",
       "      <td>68</td>\n",
       "      <td>17</td>\n",
       "      <td>952.049</td>\n",
       "      <td>4</td>\n",
       "    </tr>\n",
       "    <tr>\n",
       "      <th>4</th>\n",
       "      <td>12356</td>\n",
       "      <td>158</td>\n",
       "      <td>36</td>\n",
       "      <td>1009.729</td>\n",
       "      <td>4</td>\n",
       "    </tr>\n",
       "    <tr>\n",
       "      <th>...</th>\n",
       "      <td>...</td>\n",
       "      <td>...</td>\n",
       "      <td>...</td>\n",
       "      <td>...</td>\n",
       "      <td>...</td>\n",
       "    </tr>\n",
       "    <tr>\n",
       "      <th>1463</th>\n",
       "      <td>18259</td>\n",
       "      <td>321</td>\n",
       "      <td>7</td>\n",
       "      <td>474.075</td>\n",
       "      <td>4</td>\n",
       "    </tr>\n",
       "    <tr>\n",
       "      <th>1464</th>\n",
       "      <td>18260</td>\n",
       "      <td>138</td>\n",
       "      <td>40</td>\n",
       "      <td>1753.041</td>\n",
       "      <td>0</td>\n",
       "    </tr>\n",
       "    <tr>\n",
       "      <th>1465</th>\n",
       "      <td>18269</td>\n",
       "      <td>245</td>\n",
       "      <td>8</td>\n",
       "      <td>88.466</td>\n",
       "      <td>4</td>\n",
       "    </tr>\n",
       "    <tr>\n",
       "      <th>1466</th>\n",
       "      <td>18277</td>\n",
       "      <td>120</td>\n",
       "      <td>1</td>\n",
       "      <td>268.200</td>\n",
       "      <td>4</td>\n",
       "    </tr>\n",
       "    <tr>\n",
       "      <th>1467</th>\n",
       "      <td>18283</td>\n",
       "      <td>133</td>\n",
       "      <td>102</td>\n",
       "      <td>5713.533</td>\n",
       "      <td>6</td>\n",
       "    </tr>\n",
       "  </tbody>\n",
       "</table>\n",
       "<p>1468 rows × 5 columns</p>\n",
       "</div>"
      ],
      "text/plain": [
       "      CustomerID  recency  frequency  monetary  Pred_rfm\n",
       "0          12346      158          2    21.693         4\n",
       "1          12347      110         60  9930.649         3\n",
       "2          12348      124         23  1142.502         4\n",
       "3          12350       68         17   952.049         4\n",
       "4          12356      158         36  1009.729         4\n",
       "...          ...      ...        ...       ...       ...\n",
       "1463       18259      321          7   474.075         4\n",
       "1464       18260      138         40  1753.041         0\n",
       "1465       18269      245          8    88.466         4\n",
       "1466       18277      120          1   268.200         4\n",
       "1467       18283      133        102  5713.533         6\n",
       "\n",
       "[1468 rows x 5 columns]"
      ]
     },
     "execution_count": 98,
     "metadata": {},
     "output_type": "execute_result"
    }
   ],
   "source": [
    "rfm_kmeans.drop(columns = ['R_Quartile','F_Quartile','M_Quartile'], axis=1,inplace = True)\n",
    "rfm_kmeans"
   ]
  },
  {
   "cell_type": "markdown",
   "id": "9273dfde",
   "metadata": {},
   "source": [
    "### 4.\tPredicting Customer Lifetime Value (Low Value/Medium Value/High Value)"
   ]
  },
  {
   "cell_type": "code",
   "execution_count": 104,
   "id": "7751eb95",
   "metadata": {},
   "outputs": [],
   "source": [
    "df_cust = cust_final[['CustomerID','Transaction_Date']]"
   ]
  },
  {
   "cell_type": "code",
   "execution_count": 106,
   "id": "eee35369",
   "metadata": {},
   "outputs": [],
   "source": [
    "df_max = df_cust.groupby('CustomerID')['Transaction_Date'].max().reset_index()\n",
    "df_min = df_cust.groupby('CustomerID')['Transaction_Date'].min().reset_index()"
   ]
  },
  {
   "cell_type": "code",
   "execution_count": 109,
   "id": "26728791",
   "metadata": {},
   "outputs": [],
   "source": [
    "df = pd.merge(df_max,df_min,on='CustomerID',how='left',suffixes=('_max','_min'))"
   ]
  },
  {
   "cell_type": "code",
   "execution_count": 114,
   "id": "0ef70e93",
   "metadata": {},
   "outputs": [],
   "source": [
    "df['days'] = (df.Transaction_Date_max-df.Transaction_Date_min).dt.days"
   ]
  },
  {
   "cell_type": "code",
   "execution_count": 134,
   "id": "1be7d2e5",
   "metadata": {},
   "outputs": [
    {
     "data": {
      "text/plain": [
       "(-0.001, 0.5]     734\n",
       "(0.5, 121.0]      369\n",
       "(121.0, 358.0]    365\n",
       "Name: days, dtype: int64"
      ]
     },
     "execution_count": 134,
     "metadata": {},
     "output_type": "execute_result"
    }
   ],
   "source": [
    "pd.qcut(pd.Series(df.days),q=4,duplicates='drop').value_counts()"
   ]
  },
  {
   "cell_type": "code",
   "execution_count": 138,
   "id": "67da22dd",
   "metadata": {},
   "outputs": [],
   "source": [
    "df['cust_life'] = np.where(df.days<= 0.5,1,\n",
    "                    np.where(df.days<=121,2,3))"
   ]
  },
  {
   "cell_type": "code",
   "execution_count": 149,
   "id": "038b1387",
   "metadata": {},
   "outputs": [],
   "source": [
    "df_cust = pd.merge(df,rfm_df1,how='left' ,on='CustomerID')"
   ]
  },
  {
   "cell_type": "code",
   "execution_count": 152,
   "id": "63ecdae1",
   "metadata": {},
   "outputs": [],
   "source": [
    "df_cust.drop(columns=['Transaction_Date_max','Transaction_Date_min'],inplace=True)"
   ]
  },
  {
   "cell_type": "code",
   "execution_count": 155,
   "id": "ac30f457",
   "metadata": {},
   "outputs": [
    {
     "name": "stdout",
     "output_type": "stream",
     "text": [
      "<class 'pandas.core.frame.DataFrame'>\n",
      "Int64Index: 1468 entries, 0 to 1467\n",
      "Data columns (total 11 columns):\n",
      " #   Column      Non-Null Count  Dtype  \n",
      "---  ------      --------------  -----  \n",
      " 0   CustomerID  1468 non-null   int64  \n",
      " 1   days        1468 non-null   int64  \n",
      " 2   cust_life   1468 non-null   int32  \n",
      " 3   recency     1468 non-null   int64  \n",
      " 4   frequency   1468 non-null   int64  \n",
      " 5   monetary    1468 non-null   float64\n",
      " 6   R_Quartile  1468 non-null   int64  \n",
      " 7   F_Quartile  1468 non-null   int64  \n",
      " 8   M_Quartile  1468 non-null   int64  \n",
      " 9   R_rfm       1468 non-null   object \n",
      " 10  FM_rfm      1468 non-null   object \n",
      "dtypes: float64(1), int32(1), int64(7), object(2)\n",
      "memory usage: 131.9+ KB\n"
     ]
    }
   ],
   "source": [
    "df_cust.info()"
   ]
  },
  {
   "cell_type": "code",
   "execution_count": 156,
   "id": "4b7e55f7",
   "metadata": {},
   "outputs": [],
   "source": [
    "df_cust = pd.get_dummies(df_cust, columns=['R_rfm'], drop_first=True, prefix='R_rfm')\n",
    "df_cust = pd.get_dummies(df_cust, columns=['FM_rfm'], drop_first=True, prefix='FM_rfm')"
   ]
  },
  {
   "cell_type": "code",
   "execution_count": 158,
   "id": "cb1c51e5",
   "metadata": {},
   "outputs": [],
   "source": [
    "from imblearn.over_sampling import SMOTE"
   ]
  },
  {
   "cell_type": "code",
   "execution_count": 159,
   "id": "b23a2ecd",
   "metadata": {},
   "outputs": [],
   "source": [
    "x = df_cust[df_cust.columns.difference(['cust_life'])]\n",
    "y = df_cust.cust_life"
   ]
  },
  {
   "cell_type": "code",
   "execution_count": 160,
   "id": "7cd26352",
   "metadata": {},
   "outputs": [],
   "source": [
    "sm = SMOTE()\n",
    "resampled_X, resampled_y = sm.fit_resample(x, y)"
   ]
  },
  {
   "cell_type": "code",
   "execution_count": 161,
   "id": "f6cce42b",
   "metadata": {},
   "outputs": [],
   "source": [
    "df_cust1 = pd.concat([resampled_X, resampled_y], axis=1)"
   ]
  },
  {
   "cell_type": "code",
   "execution_count": 163,
   "id": "bcccff00",
   "metadata": {},
   "outputs": [
    {
     "data": {
      "text/html": [
       "<div>\n",
       "<style scoped>\n",
       "    .dataframe tbody tr th:only-of-type {\n",
       "        vertical-align: middle;\n",
       "    }\n",
       "\n",
       "    .dataframe tbody tr th {\n",
       "        vertical-align: top;\n",
       "    }\n",
       "\n",
       "    .dataframe thead th {\n",
       "        text-align: right;\n",
       "    }\n",
       "</style>\n",
       "<table border=\"1\" class=\"dataframe\">\n",
       "  <thead>\n",
       "    <tr style=\"text-align: right;\">\n",
       "      <th></th>\n",
       "      <th>CustomerID</th>\n",
       "      <th>FM_rfm_1_Silver</th>\n",
       "      <th>FM_rfm_2_Gold</th>\n",
       "      <th>FM_rfm_4_Premium</th>\n",
       "      <th>F_Quartile</th>\n",
       "      <th>M_Quartile</th>\n",
       "      <th>R_Quartile</th>\n",
       "      <th>R_rfm_2_At_Risk</th>\n",
       "      <th>R_rfm_3_Churn</th>\n",
       "      <th>days</th>\n",
       "      <th>frequency</th>\n",
       "      <th>monetary</th>\n",
       "      <th>recency</th>\n",
       "      <th>cust_life</th>\n",
       "    </tr>\n",
       "  </thead>\n",
       "  <tbody>\n",
       "    <tr>\n",
       "      <th>0</th>\n",
       "      <td>12346</td>\n",
       "      <td>0</td>\n",
       "      <td>0</td>\n",
       "      <td>0</td>\n",
       "      <td>4</td>\n",
       "      <td>4</td>\n",
       "      <td>2</td>\n",
       "      <td>1</td>\n",
       "      <td>0</td>\n",
       "      <td>0</td>\n",
       "      <td>2</td>\n",
       "      <td>21.693000</td>\n",
       "      <td>158</td>\n",
       "      <td>1</td>\n",
       "    </tr>\n",
       "    <tr>\n",
       "      <th>1</th>\n",
       "      <td>12347</td>\n",
       "      <td>0</td>\n",
       "      <td>0</td>\n",
       "      <td>1</td>\n",
       "      <td>1</td>\n",
       "      <td>1</td>\n",
       "      <td>2</td>\n",
       "      <td>1</td>\n",
       "      <td>0</td>\n",
       "      <td>223</td>\n",
       "      <td>60</td>\n",
       "      <td>9930.649000</td>\n",
       "      <td>110</td>\n",
       "      <td>3</td>\n",
       "    </tr>\n",
       "    <tr>\n",
       "      <th>2</th>\n",
       "      <td>12348</td>\n",
       "      <td>0</td>\n",
       "      <td>1</td>\n",
       "      <td>0</td>\n",
       "      <td>2</td>\n",
       "      <td>3</td>\n",
       "      <td>2</td>\n",
       "      <td>1</td>\n",
       "      <td>0</td>\n",
       "      <td>119</td>\n",
       "      <td>23</td>\n",
       "      <td>1142.502000</td>\n",
       "      <td>124</td>\n",
       "      <td>2</td>\n",
       "    </tr>\n",
       "    <tr>\n",
       "      <th>3</th>\n",
       "      <td>12350</td>\n",
       "      <td>1</td>\n",
       "      <td>0</td>\n",
       "      <td>0</td>\n",
       "      <td>3</td>\n",
       "      <td>3</td>\n",
       "      <td>1</td>\n",
       "      <td>0</td>\n",
       "      <td>0</td>\n",
       "      <td>0</td>\n",
       "      <td>17</td>\n",
       "      <td>952.049000</td>\n",
       "      <td>68</td>\n",
       "      <td>1</td>\n",
       "    </tr>\n",
       "    <tr>\n",
       "      <th>4</th>\n",
       "      <td>12356</td>\n",
       "      <td>0</td>\n",
       "      <td>1</td>\n",
       "      <td>0</td>\n",
       "      <td>2</td>\n",
       "      <td>3</td>\n",
       "      <td>2</td>\n",
       "      <td>1</td>\n",
       "      <td>0</td>\n",
       "      <td>0</td>\n",
       "      <td>36</td>\n",
       "      <td>1009.729000</td>\n",
       "      <td>158</td>\n",
       "      <td>1</td>\n",
       "    </tr>\n",
       "    <tr>\n",
       "      <th>...</th>\n",
       "      <td>...</td>\n",
       "      <td>...</td>\n",
       "      <td>...</td>\n",
       "      <td>...</td>\n",
       "      <td>...</td>\n",
       "      <td>...</td>\n",
       "      <td>...</td>\n",
       "      <td>...</td>\n",
       "      <td>...</td>\n",
       "      <td>...</td>\n",
       "      <td>...</td>\n",
       "      <td>...</td>\n",
       "      <td>...</td>\n",
       "      <td>...</td>\n",
       "    </tr>\n",
       "    <tr>\n",
       "      <th>2197</th>\n",
       "      <td>12471</td>\n",
       "      <td>0</td>\n",
       "      <td>0</td>\n",
       "      <td>0</td>\n",
       "      <td>2</td>\n",
       "      <td>3</td>\n",
       "      <td>2</td>\n",
       "      <td>1</td>\n",
       "      <td>0</td>\n",
       "      <td>154</td>\n",
       "      <td>28</td>\n",
       "      <td>1006.810463</td>\n",
       "      <td>201</td>\n",
       "      <td>3</td>\n",
       "    </tr>\n",
       "    <tr>\n",
       "      <th>2198</th>\n",
       "      <td>14403</td>\n",
       "      <td>0</td>\n",
       "      <td>0</td>\n",
       "      <td>0</td>\n",
       "      <td>2</td>\n",
       "      <td>3</td>\n",
       "      <td>1</td>\n",
       "      <td>0</td>\n",
       "      <td>0</td>\n",
       "      <td>179</td>\n",
       "      <td>21</td>\n",
       "      <td>1319.799569</td>\n",
       "      <td>89</td>\n",
       "      <td>3</td>\n",
       "    </tr>\n",
       "    <tr>\n",
       "      <th>2199</th>\n",
       "      <td>13134</td>\n",
       "      <td>0</td>\n",
       "      <td>0</td>\n",
       "      <td>1</td>\n",
       "      <td>1</td>\n",
       "      <td>1</td>\n",
       "      <td>1</td>\n",
       "      <td>0</td>\n",
       "      <td>0</td>\n",
       "      <td>261</td>\n",
       "      <td>125</td>\n",
       "      <td>16418.967214</td>\n",
       "      <td>72</td>\n",
       "      <td>3</td>\n",
       "    </tr>\n",
       "    <tr>\n",
       "      <th>2200</th>\n",
       "      <td>14232</td>\n",
       "      <td>0</td>\n",
       "      <td>0</td>\n",
       "      <td>0</td>\n",
       "      <td>2</td>\n",
       "      <td>3</td>\n",
       "      <td>1</td>\n",
       "      <td>0</td>\n",
       "      <td>0</td>\n",
       "      <td>252</td>\n",
       "      <td>21</td>\n",
       "      <td>654.925714</td>\n",
       "      <td>73</td>\n",
       "      <td>3</td>\n",
       "    </tr>\n",
       "    <tr>\n",
       "      <th>2201</th>\n",
       "      <td>17063</td>\n",
       "      <td>0</td>\n",
       "      <td>0</td>\n",
       "      <td>1</td>\n",
       "      <td>1</td>\n",
       "      <td>1</td>\n",
       "      <td>1</td>\n",
       "      <td>0</td>\n",
       "      <td>0</td>\n",
       "      <td>276</td>\n",
       "      <td>70</td>\n",
       "      <td>4466.555090</td>\n",
       "      <td>91</td>\n",
       "      <td>3</td>\n",
       "    </tr>\n",
       "  </tbody>\n",
       "</table>\n",
       "<p>2202 rows × 14 columns</p>\n",
       "</div>"
      ],
      "text/plain": [
       "      CustomerID  FM_rfm_1_Silver  FM_rfm_2_Gold  FM_rfm_4_Premium  \\\n",
       "0          12346                0              0                 0   \n",
       "1          12347                0              0                 1   \n",
       "2          12348                0              1                 0   \n",
       "3          12350                1              0                 0   \n",
       "4          12356                0              1                 0   \n",
       "...          ...              ...            ...               ...   \n",
       "2197       12471                0              0                 0   \n",
       "2198       14403                0              0                 0   \n",
       "2199       13134                0              0                 1   \n",
       "2200       14232                0              0                 0   \n",
       "2201       17063                0              0                 1   \n",
       "\n",
       "      F_Quartile  M_Quartile  R_Quartile  R_rfm_2_At_Risk  R_rfm_3_Churn  \\\n",
       "0              4           4           2                1              0   \n",
       "1              1           1           2                1              0   \n",
       "2              2           3           2                1              0   \n",
       "3              3           3           1                0              0   \n",
       "4              2           3           2                1              0   \n",
       "...          ...         ...         ...              ...            ...   \n",
       "2197           2           3           2                1              0   \n",
       "2198           2           3           1                0              0   \n",
       "2199           1           1           1                0              0   \n",
       "2200           2           3           1                0              0   \n",
       "2201           1           1           1                0              0   \n",
       "\n",
       "      days  frequency      monetary  recency  cust_life  \n",
       "0        0          2     21.693000      158          1  \n",
       "1      223         60   9930.649000      110          3  \n",
       "2      119         23   1142.502000      124          2  \n",
       "3        0         17    952.049000       68          1  \n",
       "4        0         36   1009.729000      158          1  \n",
       "...    ...        ...           ...      ...        ...  \n",
       "2197   154         28   1006.810463      201          3  \n",
       "2198   179         21   1319.799569       89          3  \n",
       "2199   261        125  16418.967214       72          3  \n",
       "2200   252         21    654.925714       73          3  \n",
       "2201   276         70   4466.555090       91          3  \n",
       "\n",
       "[2202 rows x 14 columns]"
      ]
     },
     "execution_count": 163,
     "metadata": {},
     "output_type": "execute_result"
    }
   ],
   "source": [
    "df_cust1.cust_life"
   ]
  },
  {
   "cell_type": "markdown",
   "id": "eddcc0cc",
   "metadata": {},
   "source": [
    "**--Select K Best**"
   ]
  },
  {
   "cell_type": "code",
   "execution_count": 164,
   "id": "477bff68",
   "metadata": {},
   "outputs": [
    {
     "name": "stderr",
     "output_type": "stream",
     "text": [
      "C:\\Users\\Nithin\\anaconda3\\lib\\site-packages\\sklearn\\utils\\validation.py:1141: DataConversionWarning: A column-vector y was passed when a 1d array was expected. Please change the shape of y to (n_samples, ), for example using ravel().\n",
      "  y = column_or_1d(y, warn=True)\n"
     ]
    }
   ],
   "source": [
    "X = df_cust1[df_cust1.columns.difference(['cust_life'])]\n",
    "skb = SelectKBest(f_classif, k=10).fit(X, df_cust1[['cust_life']] )"
   ]
  },
  {
   "cell_type": "code",
   "execution_count": 165,
   "id": "c49ee243",
   "metadata": {},
   "outputs": [],
   "source": [
    "feat = list(X.columns[skb.get_support()])"
   ]
  },
  {
   "cell_type": "markdown",
   "id": "8321df39",
   "metadata": {},
   "source": [
    "**--VIF**"
   ]
  },
  {
   "cell_type": "code",
   "execution_count": 168,
   "id": "2467bc25",
   "metadata": {},
   "outputs": [],
   "source": [
    "feature=feat.copy()\n",
    "a=np.inf\n",
    "while a>=5:\n",
    "    vif=[variance_inflation_factor(df_cust1[feature].values,i) for i in range(df_cust1[feature].shape[1])]\n",
    "    vif=pd.Series(vif,name='VIF')\n",
    "    fet=pd.Series(df_cust1[feature].columns,name='Feature')\n",
    "    vifdf=pd.concat([vif,fet],axis=1).sort_values(by=\"VIF\")\n",
    "    a=vifdf['VIF'].max()\n",
    "    if a<=5:\n",
    "        break\n",
    "    feature=list(vifdf[:-1][\"Feature\"])"
   ]
  },
  {
   "cell_type": "code",
   "execution_count": 173,
   "id": "6febdb44",
   "metadata": {},
   "outputs": [],
   "source": [
    "df_cust1_fn = df_cust1[feature]"
   ]
  },
  {
   "cell_type": "code",
   "execution_count": 175,
   "id": "1a4e8d98",
   "metadata": {},
   "outputs": [],
   "source": [
    "df_cust1_fn = pd.concat([df_cust1_fn,df_cust1.cust_life],axis = 1)"
   ]
  },
  {
   "cell_type": "markdown",
   "id": "b9c691b5",
   "metadata": {},
   "source": [
    "### Train Test Split"
   ]
  },
  {
   "cell_type": "code",
   "execution_count": 176,
   "id": "229b4ce2",
   "metadata": {},
   "outputs": [],
   "source": [
    "X = df_cust1_fn.drop('cust_life',axis=1)\n",
    "Y = df_cust1_fn.cust_life"
   ]
  },
  {
   "cell_type": "code",
   "execution_count": 177,
   "id": "14054e8b",
   "metadata": {},
   "outputs": [],
   "source": [
    "train_x,test_x,train_y,test_y = train_test_split(X,Y,test_size=0.3,random_state=123)"
   ]
  },
  {
   "cell_type": "code",
   "execution_count": 179,
   "id": "ff98fe70",
   "metadata": {},
   "outputs": [],
   "source": [
    "sc = StandardScaler()\n",
    "train_x_std = sc.fit_transform(train_x)\n",
    "train_x_std = pd.DataFrame(train_x_std,columns=train_x.columns)\n",
    "test_x_std = sc.transform(test_x)\n",
    "test_x_std = pd.DataFrame(test_x_std,columns=test_x.columns)"
   ]
  },
  {
   "cell_type": "markdown",
   "id": "3bed4b22",
   "metadata": {},
   "source": [
    "### Random Forest"
   ]
  },
  {
   "cell_type": "code",
   "execution_count": 188,
   "id": "561daf49",
   "metadata": {},
   "outputs": [],
   "source": [
    "params = {'n_estimators':[50,100] ,\n",
    "          'max_depth':[2,3,4], \n",
    "          'max_features':[4,5,6]}"
   ]
  },
  {
   "cell_type": "code",
   "execution_count": 189,
   "id": "2b72db6c",
   "metadata": {},
   "outputs": [
    {
     "data": {
      "text/html": [
       "<style>#sk-container-id-3 {color: black;background-color: white;}#sk-container-id-3 pre{padding: 0;}#sk-container-id-3 div.sk-toggleable {background-color: white;}#sk-container-id-3 label.sk-toggleable__label {cursor: pointer;display: block;width: 100%;margin-bottom: 0;padding: 0.3em;box-sizing: border-box;text-align: center;}#sk-container-id-3 label.sk-toggleable__label-arrow:before {content: \"▸\";float: left;margin-right: 0.25em;color: #696969;}#sk-container-id-3 label.sk-toggleable__label-arrow:hover:before {color: black;}#sk-container-id-3 div.sk-estimator:hover label.sk-toggleable__label-arrow:before {color: black;}#sk-container-id-3 div.sk-toggleable__content {max-height: 0;max-width: 0;overflow: hidden;text-align: left;background-color: #f0f8ff;}#sk-container-id-3 div.sk-toggleable__content pre {margin: 0.2em;color: black;border-radius: 0.25em;background-color: #f0f8ff;}#sk-container-id-3 input.sk-toggleable__control:checked~div.sk-toggleable__content {max-height: 200px;max-width: 100%;overflow: auto;}#sk-container-id-3 input.sk-toggleable__control:checked~label.sk-toggleable__label-arrow:before {content: \"▾\";}#sk-container-id-3 div.sk-estimator input.sk-toggleable__control:checked~label.sk-toggleable__label {background-color: #d4ebff;}#sk-container-id-3 div.sk-label input.sk-toggleable__control:checked~label.sk-toggleable__label {background-color: #d4ebff;}#sk-container-id-3 input.sk-hidden--visually {border: 0;clip: rect(1px 1px 1px 1px);clip: rect(1px, 1px, 1px, 1px);height: 1px;margin: -1px;overflow: hidden;padding: 0;position: absolute;width: 1px;}#sk-container-id-3 div.sk-estimator {font-family: monospace;background-color: #f0f8ff;border: 1px dotted black;border-radius: 0.25em;box-sizing: border-box;margin-bottom: 0.5em;}#sk-container-id-3 div.sk-estimator:hover {background-color: #d4ebff;}#sk-container-id-3 div.sk-parallel-item::after {content: \"\";width: 100%;border-bottom: 1px solid gray;flex-grow: 1;}#sk-container-id-3 div.sk-label:hover label.sk-toggleable__label {background-color: #d4ebff;}#sk-container-id-3 div.sk-serial::before {content: \"\";position: absolute;border-left: 1px solid gray;box-sizing: border-box;top: 0;bottom: 0;left: 50%;z-index: 0;}#sk-container-id-3 div.sk-serial {display: flex;flex-direction: column;align-items: center;background-color: white;padding-right: 0.2em;padding-left: 0.2em;position: relative;}#sk-container-id-3 div.sk-item {position: relative;z-index: 1;}#sk-container-id-3 div.sk-parallel {display: flex;align-items: stretch;justify-content: center;background-color: white;position: relative;}#sk-container-id-3 div.sk-item::before, #sk-container-id-3 div.sk-parallel-item::before {content: \"\";position: absolute;border-left: 1px solid gray;box-sizing: border-box;top: 0;bottom: 0;left: 50%;z-index: -1;}#sk-container-id-3 div.sk-parallel-item {display: flex;flex-direction: column;z-index: 1;position: relative;background-color: white;}#sk-container-id-3 div.sk-parallel-item:first-child::after {align-self: flex-end;width: 50%;}#sk-container-id-3 div.sk-parallel-item:last-child::after {align-self: flex-start;width: 50%;}#sk-container-id-3 div.sk-parallel-item:only-child::after {width: 0;}#sk-container-id-3 div.sk-dashed-wrapped {border: 1px dashed gray;margin: 0 0.4em 0.5em 0.4em;box-sizing: border-box;padding-bottom: 0.4em;background-color: white;}#sk-container-id-3 div.sk-label label {font-family: monospace;font-weight: bold;display: inline-block;line-height: 1.2em;}#sk-container-id-3 div.sk-label-container {text-align: center;}#sk-container-id-3 div.sk-container {/* jupyter's `normalize.less` sets `[hidden] { display: none; }` but bootstrap.min.css set `[hidden] { display: none !important; }` so we also need the `!important` here to be able to override the default hidden behavior on the sphinx rendered scikit-learn.org. See: https://github.com/scikit-learn/scikit-learn/issues/21755 */display: inline-block !important;position: relative;}#sk-container-id-3 div.sk-text-repr-fallback {display: none;}</style><div id=\"sk-container-id-3\" class=\"sk-top-container\"><div class=\"sk-text-repr-fallback\"><pre>GridSearchCV(cv=3, estimator=RandomForestClassifier(), n_jobs=1,\n",
       "             param_grid={&#x27;max_depth&#x27;: [2, 3, 4], &#x27;max_features&#x27;: [4, 5, 6],\n",
       "                         &#x27;n_estimators&#x27;: [50, 100]},\n",
       "             scoring=&#x27;neg_mean_absolute_percentage_error&#x27;)</pre><b>In a Jupyter environment, please rerun this cell to show the HTML representation or trust the notebook. <br />On GitHub, the HTML representation is unable to render, please try loading this page with nbviewer.org.</b></div><div class=\"sk-container\" hidden><div class=\"sk-item sk-dashed-wrapped\"><div class=\"sk-label-container\"><div class=\"sk-label sk-toggleable\"><input class=\"sk-toggleable__control sk-hidden--visually\" id=\"sk-estimator-id-5\" type=\"checkbox\" ><label for=\"sk-estimator-id-5\" class=\"sk-toggleable__label sk-toggleable__label-arrow\">GridSearchCV</label><div class=\"sk-toggleable__content\"><pre>GridSearchCV(cv=3, estimator=RandomForestClassifier(), n_jobs=1,\n",
       "             param_grid={&#x27;max_depth&#x27;: [2, 3, 4], &#x27;max_features&#x27;: [4, 5, 6],\n",
       "                         &#x27;n_estimators&#x27;: [50, 100]},\n",
       "             scoring=&#x27;neg_mean_absolute_percentage_error&#x27;)</pre></div></div></div><div class=\"sk-parallel\"><div class=\"sk-parallel-item\"><div class=\"sk-item\"><div class=\"sk-label-container\"><div class=\"sk-label sk-toggleable\"><input class=\"sk-toggleable__control sk-hidden--visually\" id=\"sk-estimator-id-6\" type=\"checkbox\" ><label for=\"sk-estimator-id-6\" class=\"sk-toggleable__label sk-toggleable__label-arrow\">estimator: RandomForestClassifier</label><div class=\"sk-toggleable__content\"><pre>RandomForestClassifier()</pre></div></div></div><div class=\"sk-serial\"><div class=\"sk-item\"><div class=\"sk-estimator sk-toggleable\"><input class=\"sk-toggleable__control sk-hidden--visually\" id=\"sk-estimator-id-7\" type=\"checkbox\" ><label for=\"sk-estimator-id-7\" class=\"sk-toggleable__label sk-toggleable__label-arrow\">RandomForestClassifier</label><div class=\"sk-toggleable__content\"><pre>RandomForestClassifier()</pre></div></div></div></div></div></div></div></div></div></div>"
      ],
      "text/plain": [
       "GridSearchCV(cv=3, estimator=RandomForestClassifier(), n_jobs=1,\n",
       "             param_grid={'max_depth': [2, 3, 4], 'max_features': [4, 5, 6],\n",
       "                         'n_estimators': [50, 100]},\n",
       "             scoring='neg_mean_absolute_percentage_error')"
      ]
     },
     "execution_count": 189,
     "metadata": {},
     "output_type": "execute_result"
    }
   ],
   "source": [
    "grd = GridSearchCV(RandomForestClassifier(),param_grid=params,n_jobs=1,cv=3,\n",
    "                   scoring='neg_mean_absolute_percentage_error')\n",
    "grd.fit(train_x_std,train_y)"
   ]
  },
  {
   "cell_type": "code",
   "execution_count": 190,
   "id": "3118301f",
   "metadata": {},
   "outputs": [
    {
     "data": {
      "text/plain": [
       "{'max_depth': 2, 'max_features': 4, 'n_estimators': 50}"
      ]
     },
     "execution_count": 190,
     "metadata": {},
     "output_type": "execute_result"
    }
   ],
   "source": [
    "grd.best_params_"
   ]
  },
  {
   "cell_type": "code",
   "execution_count": 191,
   "id": "9c4965ef",
   "metadata": {},
   "outputs": [
    {
     "data": {
      "text/html": [
       "<style>#sk-container-id-4 {color: black;background-color: white;}#sk-container-id-4 pre{padding: 0;}#sk-container-id-4 div.sk-toggleable {background-color: white;}#sk-container-id-4 label.sk-toggleable__label {cursor: pointer;display: block;width: 100%;margin-bottom: 0;padding: 0.3em;box-sizing: border-box;text-align: center;}#sk-container-id-4 label.sk-toggleable__label-arrow:before {content: \"▸\";float: left;margin-right: 0.25em;color: #696969;}#sk-container-id-4 label.sk-toggleable__label-arrow:hover:before {color: black;}#sk-container-id-4 div.sk-estimator:hover label.sk-toggleable__label-arrow:before {color: black;}#sk-container-id-4 div.sk-toggleable__content {max-height: 0;max-width: 0;overflow: hidden;text-align: left;background-color: #f0f8ff;}#sk-container-id-4 div.sk-toggleable__content pre {margin: 0.2em;color: black;border-radius: 0.25em;background-color: #f0f8ff;}#sk-container-id-4 input.sk-toggleable__control:checked~div.sk-toggleable__content {max-height: 200px;max-width: 100%;overflow: auto;}#sk-container-id-4 input.sk-toggleable__control:checked~label.sk-toggleable__label-arrow:before {content: \"▾\";}#sk-container-id-4 div.sk-estimator input.sk-toggleable__control:checked~label.sk-toggleable__label {background-color: #d4ebff;}#sk-container-id-4 div.sk-label input.sk-toggleable__control:checked~label.sk-toggleable__label {background-color: #d4ebff;}#sk-container-id-4 input.sk-hidden--visually {border: 0;clip: rect(1px 1px 1px 1px);clip: rect(1px, 1px, 1px, 1px);height: 1px;margin: -1px;overflow: hidden;padding: 0;position: absolute;width: 1px;}#sk-container-id-4 div.sk-estimator {font-family: monospace;background-color: #f0f8ff;border: 1px dotted black;border-radius: 0.25em;box-sizing: border-box;margin-bottom: 0.5em;}#sk-container-id-4 div.sk-estimator:hover {background-color: #d4ebff;}#sk-container-id-4 div.sk-parallel-item::after {content: \"\";width: 100%;border-bottom: 1px solid gray;flex-grow: 1;}#sk-container-id-4 div.sk-label:hover label.sk-toggleable__label {background-color: #d4ebff;}#sk-container-id-4 div.sk-serial::before {content: \"\";position: absolute;border-left: 1px solid gray;box-sizing: border-box;top: 0;bottom: 0;left: 50%;z-index: 0;}#sk-container-id-4 div.sk-serial {display: flex;flex-direction: column;align-items: center;background-color: white;padding-right: 0.2em;padding-left: 0.2em;position: relative;}#sk-container-id-4 div.sk-item {position: relative;z-index: 1;}#sk-container-id-4 div.sk-parallel {display: flex;align-items: stretch;justify-content: center;background-color: white;position: relative;}#sk-container-id-4 div.sk-item::before, #sk-container-id-4 div.sk-parallel-item::before {content: \"\";position: absolute;border-left: 1px solid gray;box-sizing: border-box;top: 0;bottom: 0;left: 50%;z-index: -1;}#sk-container-id-4 div.sk-parallel-item {display: flex;flex-direction: column;z-index: 1;position: relative;background-color: white;}#sk-container-id-4 div.sk-parallel-item:first-child::after {align-self: flex-end;width: 50%;}#sk-container-id-4 div.sk-parallel-item:last-child::after {align-self: flex-start;width: 50%;}#sk-container-id-4 div.sk-parallel-item:only-child::after {width: 0;}#sk-container-id-4 div.sk-dashed-wrapped {border: 1px dashed gray;margin: 0 0.4em 0.5em 0.4em;box-sizing: border-box;padding-bottom: 0.4em;background-color: white;}#sk-container-id-4 div.sk-label label {font-family: monospace;font-weight: bold;display: inline-block;line-height: 1.2em;}#sk-container-id-4 div.sk-label-container {text-align: center;}#sk-container-id-4 div.sk-container {/* jupyter's `normalize.less` sets `[hidden] { display: none; }` but bootstrap.min.css set `[hidden] { display: none !important; }` so we also need the `!important` here to be able to override the default hidden behavior on the sphinx rendered scikit-learn.org. See: https://github.com/scikit-learn/scikit-learn/issues/21755 */display: inline-block !important;position: relative;}#sk-container-id-4 div.sk-text-repr-fallback {display: none;}</style><div id=\"sk-container-id-4\" class=\"sk-top-container\"><div class=\"sk-text-repr-fallback\"><pre>RandomForestClassifier(max_depth=2, max_features=4, n_estimators=50, n_jobs=1)</pre><b>In a Jupyter environment, please rerun this cell to show the HTML representation or trust the notebook. <br />On GitHub, the HTML representation is unable to render, please try loading this page with nbviewer.org.</b></div><div class=\"sk-container\" hidden><div class=\"sk-item\"><div class=\"sk-estimator sk-toggleable\"><input class=\"sk-toggleable__control sk-hidden--visually\" id=\"sk-estimator-id-8\" type=\"checkbox\" checked><label for=\"sk-estimator-id-8\" class=\"sk-toggleable__label sk-toggleable__label-arrow\">RandomForestClassifier</label><div class=\"sk-toggleable__content\"><pre>RandomForestClassifier(max_depth=2, max_features=4, n_estimators=50, n_jobs=1)</pre></div></div></div></div></div>"
      ],
      "text/plain": [
       "RandomForestClassifier(max_depth=2, max_features=4, n_estimators=50, n_jobs=1)"
      ]
     },
     "execution_count": 191,
     "metadata": {},
     "output_type": "execute_result"
    }
   ],
   "source": [
    "M_rf = RandomForestClassifier(n_estimators=50,n_jobs=1,max_depth=2,max_features=4)\n",
    "M_rf.fit(train_x_std,train_y)"
   ]
  },
  {
   "cell_type": "code",
   "execution_count": 192,
   "id": "a4dced58",
   "metadata": {},
   "outputs": [],
   "source": [
    "train_pred = M_rf.predict(train_x_std)\n",
    "test_pred = M_rf.predict(test_x_std)"
   ]
  },
  {
   "cell_type": "markdown",
   "id": "0638872f",
   "metadata": {},
   "source": [
    "**--Evaluation**"
   ]
  },
  {
   "cell_type": "code",
   "execution_count": 193,
   "id": "a5dd414f",
   "metadata": {},
   "outputs": [
    {
     "name": "stdout",
     "output_type": "stream",
     "text": [
      "MAE: 0.0\n",
      "MSE: 0.0\n",
      "RMSE: 0.0\n",
      "Class_Report:               precision    recall  f1-score   support\n",
      "\n",
      "           1       1.00      1.00      1.00       514\n",
      "           2       1.00      1.00      1.00       522\n",
      "           3       1.00      1.00      1.00       505\n",
      "\n",
      "    accuracy                           1.00      1541\n",
      "   macro avg       1.00      1.00      1.00      1541\n",
      "weighted avg       1.00      1.00      1.00      1541\n",
      "\n"
     ]
    }
   ],
   "source": [
    "#Evaluation --> Train\n",
    "print('MAE:', metrics.mean_absolute_error(train_y, train_pred))\n",
    "print('MSE:', metrics.mean_squared_error(train_y, train_pred))\n",
    "print('RMSE:', np.sqrt(metrics.mean_squared_error(train_y, train_pred)))\n",
    "print('Class_Report:',metrics.classification_report(train_y,train_pred))"
   ]
  },
  {
   "cell_type": "code",
   "execution_count": 194,
   "id": "4c3c22ba",
   "metadata": {},
   "outputs": [
    {
     "name": "stdout",
     "output_type": "stream",
     "text": [
      "MAE: 0.0\n",
      "MSE: 0.0\n",
      "RMSE: 0.0\n",
      "Class_Report:               precision    recall  f1-score   support\n",
      "\n",
      "           1       1.00      1.00      1.00       220\n",
      "           2       1.00      1.00      1.00       212\n",
      "           3       1.00      1.00      1.00       229\n",
      "\n",
      "    accuracy                           1.00       661\n",
      "   macro avg       1.00      1.00      1.00       661\n",
      "weighted avg       1.00      1.00      1.00       661\n",
      "\n"
     ]
    }
   ],
   "source": [
    "#Evaluation --> Test\n",
    "print('MAE:', metrics.mean_absolute_error(test_y, test_pred))\n",
    "print('MSE:', metrics.mean_squared_error(test_y, test_pred))\n",
    "print('RMSE:', np.sqrt(metrics.mean_squared_error(test_y, test_pred)))\n",
    "print('Class_Report:',metrics.classification_report(test_y,test_pred))"
   ]
  },
  {
   "cell_type": "markdown",
   "id": "e92affba",
   "metadata": {},
   "source": [
    "### 5.Cross-Selling (Which products are selling together)"
   ]
  },
  {
   "cell_type": "code",
   "execution_count": null,
   "id": "22df6cf6",
   "metadata": {},
   "outputs": [],
   "source": [
    "#pip install mlxtend"
   ]
  },
  {
   "cell_type": "code",
   "execution_count": 197,
   "id": "9ff7f785",
   "metadata": {},
   "outputs": [],
   "source": [
    "from mlxtend.frequent_patterns import apriori\n",
    "from mlxtend.frequent_patterns import association_rules"
   ]
  },
  {
   "cell_type": "code",
   "execution_count": 199,
   "id": "7ae683b9",
   "metadata": {},
   "outputs": [
    {
     "data": {
      "text/plain": [
       "Nest Learning Thermostat 3rd Gen-USA - Stainless Steel         3511\n",
       "Nest Cam Outdoor Security Camera - USA                         3328\n",
       "Nest Cam Indoor Security Camera - USA                          3230\n",
       "Google Sunglasses                                              1523\n",
       "Nest Protect Smoke + CO White Battery Alarm-USA                1361\n",
       "                                                               ... \n",
       "Google Tee Red                                                    2\n",
       "Google Women's Colorblock Tee White                               1\n",
       "Compact Journal with Recycled Pages                               1\n",
       "Android Women's Short Sleeve Tri-blend Badge Tee Light Blue       1\n",
       "Google Large Standard Journal Grey                                1\n",
       "Name: Product_Description, Length: 404, dtype: int64"
      ]
     },
     "execution_count": 199,
     "metadata": {},
     "output_type": "execute_result"
    }
   ],
   "source": [
    "Online_Sales.Product_Description.value_counts()"
   ]
  },
  {
   "cell_type": "code",
   "execution_count": 201,
   "id": "dfe8c55c",
   "metadata": {},
   "outputs": [],
   "source": [
    "Online_Sales.Product_Description = Online_Sales.Product_Description.str.strip()"
   ]
  },
  {
   "cell_type": "code",
   "execution_count": 206,
   "id": "1b452a6a",
   "metadata": {},
   "outputs": [],
   "source": [
    "basket = Online_Sales.groupby(['CustomerID', 'Product_Description'])['Quantity'].sum().unstack().reset_index().fillna(0).set_index('CustomerID')"
   ]
  },
  {
   "cell_type": "code",
   "execution_count": 205,
   "id": "97e57058",
   "metadata": {},
   "outputs": [],
   "source": [
    "def encode_units(x):\n",
    "    if x <= 0:\n",
    "        return 0\n",
    "    if x >= 1:\n",
    "        return 1 "
   ]
  },
  {
   "cell_type": "code",
   "execution_count": 209,
   "id": "3efc7f85",
   "metadata": {},
   "outputs": [],
   "source": [
    "basket_set = basket.applymap(encode_units)"
   ]
  },
  {
   "cell_type": "code",
   "execution_count": 212,
   "id": "a81cd1a9",
   "metadata": {},
   "outputs": [
    {
     "name": "stderr",
     "output_type": "stream",
     "text": [
      "C:\\Users\\Nithin\\anaconda3\\lib\\site-packages\\mlxtend\\frequent_patterns\\fpcommon.py:111: DeprecationWarning: DataFrames with non-bool types result in worse computationalperformance and their support might be discontinued in the future.Please use a DataFrame with bool type\n",
      "  warnings.warn(\n"
     ]
    }
   ],
   "source": [
    "freq = apriori(basket_set, min_support=0.2, use_colnames=True)"
   ]
  },
  {
   "cell_type": "code",
   "execution_count": 213,
   "id": "5105ac80",
   "metadata": {},
   "outputs": [
    {
     "data": {
      "text/html": [
       "<div>\n",
       "<style scoped>\n",
       "    .dataframe tbody tr th:only-of-type {\n",
       "        vertical-align: middle;\n",
       "    }\n",
       "\n",
       "    .dataframe tbody tr th {\n",
       "        vertical-align: top;\n",
       "    }\n",
       "\n",
       "    .dataframe thead th {\n",
       "        text-align: right;\n",
       "    }\n",
       "</style>\n",
       "<table border=\"1\" class=\"dataframe\">\n",
       "  <thead>\n",
       "    <tr style=\"text-align: right;\">\n",
       "      <th></th>\n",
       "      <th>support</th>\n",
       "      <th>itemsets</th>\n",
       "    </tr>\n",
       "  </thead>\n",
       "  <tbody>\n",
       "    <tr>\n",
       "      <th>8</th>\n",
       "      <td>0.649183</td>\n",
       "      <td>(Nest Cam Indoor Security Camera - USA)</td>\n",
       "    </tr>\n",
       "    <tr>\n",
       "      <th>10</th>\n",
       "      <td>0.648501</td>\n",
       "      <td>(Nest Learning Thermostat 3rd Gen-USA - Stainl...</td>\n",
       "    </tr>\n",
       "    <tr>\n",
       "      <th>9</th>\n",
       "      <td>0.647139</td>\n",
       "      <td>(Nest Cam Outdoor Security Camera - USA)</td>\n",
       "    </tr>\n",
       "    <tr>\n",
       "      <th>33</th>\n",
       "      <td>0.539510</td>\n",
       "      <td>(Nest Cam Indoor Security Camera - USA, Nest C...</td>\n",
       "    </tr>\n",
       "    <tr>\n",
       "      <th>34</th>\n",
       "      <td>0.525204</td>\n",
       "      <td>(Nest Cam Indoor Security Camera - USA, Nest L...</td>\n",
       "    </tr>\n",
       "    <tr>\n",
       "      <th>...</th>\n",
       "      <td>...</td>\n",
       "      <td>...</td>\n",
       "    </tr>\n",
       "    <tr>\n",
       "      <th>4</th>\n",
       "      <td>0.202997</td>\n",
       "      <td>(Google Men's Vintage Badge Tee Black)</td>\n",
       "    </tr>\n",
       "    <tr>\n",
       "      <th>30</th>\n",
       "      <td>0.202316</td>\n",
       "      <td>(Google Twill Cap, Nest Cam Indoor Security Ca...</td>\n",
       "    </tr>\n",
       "    <tr>\n",
       "      <th>74</th>\n",
       "      <td>0.201635</td>\n",
       "      <td>(Nest Cam Indoor Security Camera - USA, Google...</td>\n",
       "    </tr>\n",
       "    <tr>\n",
       "      <th>31</th>\n",
       "      <td>0.201635</td>\n",
       "      <td>(Google Twill Cap, Nest Cam Outdoor Security C...</td>\n",
       "    </tr>\n",
       "    <tr>\n",
       "      <th>45</th>\n",
       "      <td>0.201635</td>\n",
       "      <td>(Nest Thermostat E - USA, Nest Learning Thermo...</td>\n",
       "    </tr>\n",
       "  </tbody>\n",
       "</table>\n",
       "<p>84 rows × 2 columns</p>\n",
       "</div>"
      ],
      "text/plain": [
       "     support                                           itemsets\n",
       "8   0.649183            (Nest Cam Indoor Security Camera - USA)\n",
       "10  0.648501  (Nest Learning Thermostat 3rd Gen-USA - Stainl...\n",
       "9   0.647139           (Nest Cam Outdoor Security Camera - USA)\n",
       "33  0.539510  (Nest Cam Indoor Security Camera - USA, Nest C...\n",
       "34  0.525204  (Nest Cam Indoor Security Camera - USA, Nest L...\n",
       "..       ...                                                ...\n",
       "4   0.202997             (Google Men's Vintage Badge Tee Black)\n",
       "30  0.202316  (Google Twill Cap, Nest Cam Indoor Security Ca...\n",
       "74  0.201635  (Nest Cam Indoor Security Camera - USA, Google...\n",
       "31  0.201635  (Google Twill Cap, Nest Cam Outdoor Security C...\n",
       "45  0.201635  (Nest Thermostat E - USA, Nest Learning Thermo...\n",
       "\n",
       "[84 rows x 2 columns]"
      ]
     },
     "execution_count": 213,
     "metadata": {},
     "output_type": "execute_result"
    }
   ],
   "source": [
    "freq.sort_values(by='support', ascending=False)"
   ]
  },
  {
   "cell_type": "code",
   "execution_count": 219,
   "id": "683247ee",
   "metadata": {},
   "outputs": [],
   "source": [
    "rules = association_rules(freq, metric=\"lift\", min_threshold=1)"
   ]
  },
  {
   "cell_type": "code",
   "execution_count": 220,
   "id": "d80d451c",
   "metadata": {},
   "outputs": [
    {
     "data": {
      "text/html": [
       "<div>\n",
       "<style scoped>\n",
       "    .dataframe tbody tr th:only-of-type {\n",
       "        vertical-align: middle;\n",
       "    }\n",
       "\n",
       "    .dataframe tbody tr th {\n",
       "        vertical-align: top;\n",
       "    }\n",
       "\n",
       "    .dataframe thead th {\n",
       "        text-align: right;\n",
       "    }\n",
       "</style>\n",
       "<table border=\"1\" class=\"dataframe\">\n",
       "  <thead>\n",
       "    <tr style=\"text-align: right;\">\n",
       "      <th></th>\n",
       "      <th>antecedents</th>\n",
       "      <th>consequents</th>\n",
       "      <th>antecedent support</th>\n",
       "      <th>consequent support</th>\n",
       "      <th>support</th>\n",
       "      <th>confidence</th>\n",
       "      <th>lift</th>\n",
       "      <th>leverage</th>\n",
       "      <th>conviction</th>\n",
       "    </tr>\n",
       "  </thead>\n",
       "  <tbody>\n",
       "    <tr>\n",
       "      <th>84</th>\n",
       "      <td>(Nest Cam Outdoor Security Camera - USA, Googl...</td>\n",
       "      <td>(Nest Cam Indoor Security Camera - USA)</td>\n",
       "      <td>0.279973</td>\n",
       "      <td>0.649183</td>\n",
       "      <td>0.254087</td>\n",
       "      <td>0.907543</td>\n",
       "      <td>1.397977</td>\n",
       "      <td>0.072334</td>\n",
       "      <td>3.794368</td>\n",
       "    </tr>\n",
       "    <tr>\n",
       "      <th>90</th>\n",
       "      <td>(Google Laptop and Cell Phone Stickers, Nest L...</td>\n",
       "      <td>(Nest Cam Indoor Security Camera - USA)</td>\n",
       "      <td>0.280654</td>\n",
       "      <td>0.649183</td>\n",
       "      <td>0.254768</td>\n",
       "      <td>0.907767</td>\n",
       "      <td>1.398323</td>\n",
       "      <td>0.072573</td>\n",
       "      <td>3.803600</td>\n",
       "    </tr>\n",
       "    <tr>\n",
       "      <th>100</th>\n",
       "      <td>(Google Sunglasses, Nest Cam Indoor Security C...</td>\n",
       "      <td>(Nest Cam Outdoor Security Camera - USA)</td>\n",
       "      <td>0.274523</td>\n",
       "      <td>0.647139</td>\n",
       "      <td>0.247956</td>\n",
       "      <td>0.903226</td>\n",
       "      <td>1.395722</td>\n",
       "      <td>0.070302</td>\n",
       "      <td>3.646231</td>\n",
       "    </tr>\n",
       "    <tr>\n",
       "      <th>101</th>\n",
       "      <td>(Google Sunglasses, Nest Cam Outdoor Security ...</td>\n",
       "      <td>(Nest Cam Indoor Security Camera - USA)</td>\n",
       "      <td>0.272480</td>\n",
       "      <td>0.649183</td>\n",
       "      <td>0.247956</td>\n",
       "      <td>0.910000</td>\n",
       "      <td>1.401763</td>\n",
       "      <td>0.071067</td>\n",
       "      <td>3.897972</td>\n",
       "    </tr>\n",
       "    <tr>\n",
       "      <th>112</th>\n",
       "      <td>(Google Sunglasses, Nest Cam Outdoor Security ...</td>\n",
       "      <td>(Nest Learning Thermostat 3rd Gen-USA - Stainl...</td>\n",
       "      <td>0.272480</td>\n",
       "      <td>0.648501</td>\n",
       "      <td>0.247275</td>\n",
       "      <td>0.907500</td>\n",
       "      <td>1.399380</td>\n",
       "      <td>0.070572</td>\n",
       "      <td>3.799985</td>\n",
       "    </tr>\n",
       "    <tr>\n",
       "      <th>126</th>\n",
       "      <td>(Nest Learning Thermostat 3rd Gen-USA - White,...</td>\n",
       "      <td>(Nest Cam Indoor Security Camera - USA)</td>\n",
       "      <td>0.309264</td>\n",
       "      <td>0.649183</td>\n",
       "      <td>0.279973</td>\n",
       "      <td>0.905286</td>\n",
       "      <td>1.394502</td>\n",
       "      <td>0.079204</td>\n",
       "      <td>3.703979</td>\n",
       "    </tr>\n",
       "    <tr>\n",
       "      <th>131</th>\n",
       "      <td>(Nest Cam Indoor Security Camera - USA, Nest P...</td>\n",
       "      <td>(Nest Cam Outdoor Security Camera - USA)</td>\n",
       "      <td>0.361035</td>\n",
       "      <td>0.647139</td>\n",
       "      <td>0.329700</td>\n",
       "      <td>0.913208</td>\n",
       "      <td>1.411146</td>\n",
       "      <td>0.096060</td>\n",
       "      <td>4.065573</td>\n",
       "    </tr>\n",
       "    <tr>\n",
       "      <th>138</th>\n",
       "      <td>(Nest Cam Outdoor Security Camera - USA, Nest ...</td>\n",
       "      <td>(Nest Cam Indoor Security Camera - USA)</td>\n",
       "      <td>0.327657</td>\n",
       "      <td>0.649183</td>\n",
       "      <td>0.305177</td>\n",
       "      <td>0.931393</td>\n",
       "      <td>1.434716</td>\n",
       "      <td>0.092468</td>\n",
       "      <td>5.113430</td>\n",
       "    </tr>\n",
       "    <tr>\n",
       "      <th>149</th>\n",
       "      <td>(Nest Cam Indoor Security Camera - USA, Nest P...</td>\n",
       "      <td>(Nest Learning Thermostat 3rd Gen-USA - Stainl...</td>\n",
       "      <td>0.361035</td>\n",
       "      <td>0.648501</td>\n",
       "      <td>0.326975</td>\n",
       "      <td>0.905660</td>\n",
       "      <td>1.396544</td>\n",
       "      <td>0.092844</td>\n",
       "      <td>3.725886</td>\n",
       "    </tr>\n",
       "    <tr>\n",
       "      <th>155</th>\n",
       "      <td>(Nest Cam Indoor Security Camera - USA, Nest P...</td>\n",
       "      <td>(Nest Learning Thermostat 3rd Gen-USA - Stainl...</td>\n",
       "      <td>0.339918</td>\n",
       "      <td>0.648501</td>\n",
       "      <td>0.309946</td>\n",
       "      <td>0.911824</td>\n",
       "      <td>1.406047</td>\n",
       "      <td>0.089508</td>\n",
       "      <td>3.986314</td>\n",
       "    </tr>\n",
       "    <tr>\n",
       "      <th>156</th>\n",
       "      <td>(Nest Protect Smoke + CO White Wired Alarm-USA...</td>\n",
       "      <td>(Nest Cam Indoor Security Camera - USA)</td>\n",
       "      <td>0.336512</td>\n",
       "      <td>0.649183</td>\n",
       "      <td>0.309946</td>\n",
       "      <td>0.921053</td>\n",
       "      <td>1.418788</td>\n",
       "      <td>0.091488</td>\n",
       "      <td>4.443688</td>\n",
       "    </tr>\n",
       "    <tr>\n",
       "      <th>162</th>\n",
       "      <td>(Nest Learning Thermostat 3rd Gen-USA - White,...</td>\n",
       "      <td>(Nest Cam Indoor Security Camera - USA)</td>\n",
       "      <td>0.235695</td>\n",
       "      <td>0.649183</td>\n",
       "      <td>0.212534</td>\n",
       "      <td>0.901734</td>\n",
       "      <td>1.389030</td>\n",
       "      <td>0.059525</td>\n",
       "      <td>3.570083</td>\n",
       "    </tr>\n",
       "    <tr>\n",
       "      <th>167</th>\n",
       "      <td>(Nest Protect Smoke + CO White Battery Alarm-U...</td>\n",
       "      <td>(Nest Cam Indoor Security Camera - USA)</td>\n",
       "      <td>0.247275</td>\n",
       "      <td>0.649183</td>\n",
       "      <td>0.230245</td>\n",
       "      <td>0.931129</td>\n",
       "      <td>1.434311</td>\n",
       "      <td>0.069718</td>\n",
       "      <td>5.093869</td>\n",
       "    </tr>\n",
       "    <tr>\n",
       "      <th>186</th>\n",
       "      <td>(Nest Cam Outdoor Security Camera - USA, Nest ...</td>\n",
       "      <td>(Nest Learning Thermostat 3rd Gen-USA - Stainl...</td>\n",
       "      <td>0.327657</td>\n",
       "      <td>0.648501</td>\n",
       "      <td>0.301771</td>\n",
       "      <td>0.920998</td>\n",
       "      <td>1.420194</td>\n",
       "      <td>0.089285</td>\n",
       "      <td>4.449233</td>\n",
       "    </tr>\n",
       "    <tr>\n",
       "      <th>191</th>\n",
       "      <td>(Nest Learning Thermostat 3rd Gen-USA - White,...</td>\n",
       "      <td>(Nest Cam Outdoor Security Camera - USA)</td>\n",
       "      <td>0.235695</td>\n",
       "      <td>0.647139</td>\n",
       "      <td>0.213215</td>\n",
       "      <td>0.904624</td>\n",
       "      <td>1.397883</td>\n",
       "      <td>0.060688</td>\n",
       "      <td>3.699694</td>\n",
       "    </tr>\n",
       "    <tr>\n",
       "      <th>197</th>\n",
       "      <td>(Nest Protect Smoke + CO White Battery Alarm-U...</td>\n",
       "      <td>(Nest Cam Outdoor Security Camera - USA)</td>\n",
       "      <td>0.247275</td>\n",
       "      <td>0.647139</td>\n",
       "      <td>0.222752</td>\n",
       "      <td>0.900826</td>\n",
       "      <td>1.392014</td>\n",
       "      <td>0.062731</td>\n",
       "      <td>3.558015</td>\n",
       "    </tr>\n",
       "    <tr>\n",
       "      <th>204</th>\n",
       "      <td>(Nest Learning Thermostat 3rd Gen-USA - White,...</td>\n",
       "      <td>(Nest Learning Thermostat 3rd Gen-USA - Stainl...</td>\n",
       "      <td>0.235695</td>\n",
       "      <td>0.648501</td>\n",
       "      <td>0.214578</td>\n",
       "      <td>0.910405</td>\n",
       "      <td>1.403859</td>\n",
       "      <td>0.061729</td>\n",
       "      <td>3.923178</td>\n",
       "    </tr>\n",
       "    <tr>\n",
       "      <th>209</th>\n",
       "      <td>(Nest Protect Smoke + CO White Battery Alarm-U...</td>\n",
       "      <td>(Nest Learning Thermostat 3rd Gen-USA - Stainl...</td>\n",
       "      <td>0.247275</td>\n",
       "      <td>0.648501</td>\n",
       "      <td>0.229564</td>\n",
       "      <td>0.928375</td>\n",
       "      <td>1.431569</td>\n",
       "      <td>0.069206</td>\n",
       "      <td>4.907462</td>\n",
       "    </tr>\n",
       "    <tr>\n",
       "      <th>214</th>\n",
       "      <td>(Nest Cam Indoor Security Camera - USA, Google...</td>\n",
       "      <td>(Nest Learning Thermostat 3rd Gen-USA - Stainl...</td>\n",
       "      <td>0.218665</td>\n",
       "      <td>0.648501</td>\n",
       "      <td>0.201635</td>\n",
       "      <td>0.922118</td>\n",
       "      <td>1.421922</td>\n",
       "      <td>0.059830</td>\n",
       "      <td>4.513243</td>\n",
       "    </tr>\n",
       "    <tr>\n",
       "      <th>215</th>\n",
       "      <td>(Nest Cam Indoor Security Camera - USA, Google...</td>\n",
       "      <td>(Nest Cam Outdoor Security Camera - USA)</td>\n",
       "      <td>0.220027</td>\n",
       "      <td>0.647139</td>\n",
       "      <td>0.201635</td>\n",
       "      <td>0.916409</td>\n",
       "      <td>1.416093</td>\n",
       "      <td>0.059247</td>\n",
       "      <td>4.221263</td>\n",
       "    </tr>\n",
       "    <tr>\n",
       "      <th>217</th>\n",
       "      <td>(Google 22 oz Water Bottle, Nest Cam Outdoor S...</td>\n",
       "      <td>(Nest Cam Indoor Security Camera - USA)</td>\n",
       "      <td>0.217302</td>\n",
       "      <td>0.649183</td>\n",
       "      <td>0.201635</td>\n",
       "      <td>0.927900</td>\n",
       "      <td>1.429336</td>\n",
       "      <td>0.060566</td>\n",
       "      <td>4.865685</td>\n",
       "    </tr>\n",
       "    <tr>\n",
       "      <th>228</th>\n",
       "      <td>(Nest Cam Outdoor Security Camera - USA, Nest ...</td>\n",
       "      <td>(Nest Learning Thermostat 3rd Gen-USA - Stainl...</td>\n",
       "      <td>0.254087</td>\n",
       "      <td>0.648501</td>\n",
       "      <td>0.232289</td>\n",
       "      <td>0.914209</td>\n",
       "      <td>1.409726</td>\n",
       "      <td>0.067513</td>\n",
       "      <td>4.097156</td>\n",
       "    </tr>\n",
       "    <tr>\n",
       "      <th>229</th>\n",
       "      <td>(Nest Cam Indoor Security Camera - USA, Google...</td>\n",
       "      <td>(Nest Cam Outdoor Security Camera - USA)</td>\n",
       "      <td>0.254768</td>\n",
       "      <td>0.647139</td>\n",
       "      <td>0.232289</td>\n",
       "      <td>0.911765</td>\n",
       "      <td>1.408916</td>\n",
       "      <td>0.067418</td>\n",
       "      <td>3.999092</td>\n",
       "    </tr>\n",
       "    <tr>\n",
       "      <th>231</th>\n",
       "      <td>(Nest Cam Outdoor Security Camera - USA, Googl...</td>\n",
       "      <td>(Nest Cam Indoor Security Camera - USA)</td>\n",
       "      <td>0.247275</td>\n",
       "      <td>0.649183</td>\n",
       "      <td>0.232289</td>\n",
       "      <td>0.939394</td>\n",
       "      <td>1.447041</td>\n",
       "      <td>0.071762</td>\n",
       "      <td>5.788488</td>\n",
       "    </tr>\n",
       "    <tr>\n",
       "      <th>242</th>\n",
       "      <td>(Google Sunglasses, Nest Cam Indoor Security C...</td>\n",
       "      <td>(Nest Learning Thermostat 3rd Gen-USA - Stainl...</td>\n",
       "      <td>0.247956</td>\n",
       "      <td>0.648501</td>\n",
       "      <td>0.228202</td>\n",
       "      <td>0.920330</td>\n",
       "      <td>1.419164</td>\n",
       "      <td>0.067402</td>\n",
       "      <td>4.411914</td>\n",
       "    </tr>\n",
       "    <tr>\n",
       "      <th>243</th>\n",
       "      <td>(Google Sunglasses, Nest Cam Indoor Security C...</td>\n",
       "      <td>(Nest Cam Outdoor Security Camera - USA)</td>\n",
       "      <td>0.245913</td>\n",
       "      <td>0.647139</td>\n",
       "      <td>0.228202</td>\n",
       "      <td>0.927978</td>\n",
       "      <td>1.433970</td>\n",
       "      <td>0.069062</td>\n",
       "      <td>4.899340</td>\n",
       "    </tr>\n",
       "    <tr>\n",
       "      <th>244</th>\n",
       "      <td>(Google Sunglasses, Nest Cam Outdoor Security ...</td>\n",
       "      <td>(Nest Cam Indoor Security Camera - USA)</td>\n",
       "      <td>0.247275</td>\n",
       "      <td>0.649183</td>\n",
       "      <td>0.228202</td>\n",
       "      <td>0.922865</td>\n",
       "      <td>1.421580</td>\n",
       "      <td>0.067675</td>\n",
       "      <td>4.548098</td>\n",
       "    </tr>\n",
       "    <tr>\n",
       "      <th>256</th>\n",
       "      <td>(Nest Cam Indoor Security Camera - USA, Nest L...</td>\n",
       "      <td>(Nest Learning Thermostat 3rd Gen-USA - Stainl...</td>\n",
       "      <td>0.279973</td>\n",
       "      <td>0.648501</td>\n",
       "      <td>0.254768</td>\n",
       "      <td>0.909976</td>\n",
       "      <td>1.403198</td>\n",
       "      <td>0.073206</td>\n",
       "      <td>3.904485</td>\n",
       "    </tr>\n",
       "    <tr>\n",
       "      <th>257</th>\n",
       "      <td>(Nest Cam Indoor Security Camera - USA, Nest L...</td>\n",
       "      <td>(Nest Cam Outdoor Security Camera - USA)</td>\n",
       "      <td>0.277248</td>\n",
       "      <td>0.647139</td>\n",
       "      <td>0.254768</td>\n",
       "      <td>0.918919</td>\n",
       "      <td>1.419972</td>\n",
       "      <td>0.075350</td>\n",
       "      <td>4.351953</td>\n",
       "    </tr>\n",
       "    <tr>\n",
       "      <th>259</th>\n",
       "      <td>(Nest Learning Thermostat 3rd Gen-USA - White,...</td>\n",
       "      <td>(Nest Cam Indoor Security Camera - USA)</td>\n",
       "      <td>0.274523</td>\n",
       "      <td>0.649183</td>\n",
       "      <td>0.254768</td>\n",
       "      <td>0.928040</td>\n",
       "      <td>1.429551</td>\n",
       "      <td>0.076553</td>\n",
       "      <td>4.875153</td>\n",
       "    </tr>\n",
       "    <tr>\n",
       "      <th>271</th>\n",
       "      <td>(Nest Cam Indoor Security Camera - USA, Nest P...</td>\n",
       "      <td>(Nest Cam Outdoor Security Camera - USA)</td>\n",
       "      <td>0.326975</td>\n",
       "      <td>0.647139</td>\n",
       "      <td>0.303815</td>\n",
       "      <td>0.929167</td>\n",
       "      <td>1.435807</td>\n",
       "      <td>0.092216</td>\n",
       "      <td>4.981568</td>\n",
       "    </tr>\n",
       "    <tr>\n",
       "      <th>272</th>\n",
       "      <td>(Nest Cam Indoor Security Camera - USA, Nest C...</td>\n",
       "      <td>(Nest Learning Thermostat 3rd Gen-USA - Stainl...</td>\n",
       "      <td>0.329700</td>\n",
       "      <td>0.648501</td>\n",
       "      <td>0.303815</td>\n",
       "      <td>0.921488</td>\n",
       "      <td>1.420949</td>\n",
       "      <td>0.090004</td>\n",
       "      <td>4.476983</td>\n",
       "    </tr>\n",
       "    <tr>\n",
       "      <th>273</th>\n",
       "      <td>(Nest Protect Smoke + CO White Battery Alarm-U...</td>\n",
       "      <td>(Nest Cam Indoor Security Camera - USA)</td>\n",
       "      <td>0.329019</td>\n",
       "      <td>0.649183</td>\n",
       "      <td>0.303815</td>\n",
       "      <td>0.923395</td>\n",
       "      <td>1.422397</td>\n",
       "      <td>0.090221</td>\n",
       "      <td>4.579590</td>\n",
       "    </tr>\n",
       "    <tr>\n",
       "      <th>285</th>\n",
       "      <td>(Nest Protect Smoke + CO White Wired Alarm-USA...</td>\n",
       "      <td>(Nest Cam Outdoor Security Camera - USA)</td>\n",
       "      <td>0.309946</td>\n",
       "      <td>0.647139</td>\n",
       "      <td>0.285422</td>\n",
       "      <td>0.920879</td>\n",
       "      <td>1.423001</td>\n",
       "      <td>0.084845</td>\n",
       "      <td>4.459771</td>\n",
       "    </tr>\n",
       "    <tr>\n",
       "      <th>286</th>\n",
       "      <td>(Nest Cam Indoor Security Camera - USA, Nest C...</td>\n",
       "      <td>(Nest Learning Thermostat 3rd Gen-USA - Stainl...</td>\n",
       "      <td>0.305177</td>\n",
       "      <td>0.648501</td>\n",
       "      <td>0.285422</td>\n",
       "      <td>0.935268</td>\n",
       "      <td>1.442199</td>\n",
       "      <td>0.087515</td>\n",
       "      <td>5.430048</td>\n",
       "    </tr>\n",
       "    <tr>\n",
       "      <th>287</th>\n",
       "      <td>(Nest Protect Smoke + CO White Wired Alarm-USA...</td>\n",
       "      <td>(Nest Cam Indoor Security Camera - USA)</td>\n",
       "      <td>0.301771</td>\n",
       "      <td>0.649183</td>\n",
       "      <td>0.285422</td>\n",
       "      <td>0.945824</td>\n",
       "      <td>1.456946</td>\n",
       "      <td>0.089518</td>\n",
       "      <td>6.475505</td>\n",
       "    </tr>\n",
       "    <tr>\n",
       "      <th>299</th>\n",
       "      <td>(Nest Cam Indoor Security Camera - USA, Nest P...</td>\n",
       "      <td>(Nest Cam Outdoor Security Camera - USA)</td>\n",
       "      <td>0.230245</td>\n",
       "      <td>0.647139</td>\n",
       "      <td>0.215940</td>\n",
       "      <td>0.937870</td>\n",
       "      <td>1.449256</td>\n",
       "      <td>0.066939</td>\n",
       "      <td>5.679382</td>\n",
       "    </tr>\n",
       "    <tr>\n",
       "      <th>300</th>\n",
       "      <td>(Nest Protect Smoke + CO White Battery Alarm-U...</td>\n",
       "      <td>(Nest Cam Indoor Security Camera - USA)</td>\n",
       "      <td>0.222752</td>\n",
       "      <td>0.649183</td>\n",
       "      <td>0.215940</td>\n",
       "      <td>0.969419</td>\n",
       "      <td>1.493292</td>\n",
       "      <td>0.071333</td>\n",
       "      <td>11.471730</td>\n",
       "    </tr>\n",
       "    <tr>\n",
       "      <th>313</th>\n",
       "      <td>(Nest Cam Indoor Security Camera - USA, Nest P...</td>\n",
       "      <td>(Nest Learning Thermostat 3rd Gen-USA - Stainl...</td>\n",
       "      <td>0.230245</td>\n",
       "      <td>0.648501</td>\n",
       "      <td>0.217984</td>\n",
       "      <td>0.946746</td>\n",
       "      <td>1.459898</td>\n",
       "      <td>0.068669</td>\n",
       "      <td>6.600363</td>\n",
       "    </tr>\n",
       "    <tr>\n",
       "      <th>314</th>\n",
       "      <td>(Nest Protect Smoke + CO White Battery Alarm-U...</td>\n",
       "      <td>(Nest Cam Indoor Security Camera - USA)</td>\n",
       "      <td>0.229564</td>\n",
       "      <td>0.649183</td>\n",
       "      <td>0.217984</td>\n",
       "      <td>0.949555</td>\n",
       "      <td>1.462693</td>\n",
       "      <td>0.068955</td>\n",
       "      <td>6.954440</td>\n",
       "    </tr>\n",
       "    <tr>\n",
       "      <th>327</th>\n",
       "      <td>(Nest Protect Smoke + CO White Battery Alarm-U...</td>\n",
       "      <td>(Nest Cam Outdoor Security Camera - USA)</td>\n",
       "      <td>0.229564</td>\n",
       "      <td>0.647139</td>\n",
       "      <td>0.212534</td>\n",
       "      <td>0.925816</td>\n",
       "      <td>1.430629</td>\n",
       "      <td>0.063974</td>\n",
       "      <td>4.756567</td>\n",
       "    </tr>\n",
       "    <tr>\n",
       "      <th>328</th>\n",
       "      <td>(Nest Protect Smoke + CO White Battery Alarm-U...</td>\n",
       "      <td>(Nest Learning Thermostat 3rd Gen-USA - Stainl...</td>\n",
       "      <td>0.222752</td>\n",
       "      <td>0.648501</td>\n",
       "      <td>0.212534</td>\n",
       "      <td>0.954128</td>\n",
       "      <td>1.471282</td>\n",
       "      <td>0.068079</td>\n",
       "      <td>7.662670</td>\n",
       "    </tr>\n",
       "    <tr>\n",
       "      <th>340</th>\n",
       "      <td>(Nest Protect Smoke + CO White Wired Alarm-USA...</td>\n",
       "      <td>(Nest Cam Outdoor Security Camera - USA)</td>\n",
       "      <td>0.217984</td>\n",
       "      <td>0.647139</td>\n",
       "      <td>0.206403</td>\n",
       "      <td>0.946875</td>\n",
       "      <td>1.463171</td>\n",
       "      <td>0.065338</td>\n",
       "      <td>6.642090</td>\n",
       "    </tr>\n",
       "    <tr>\n",
       "      <th>341</th>\n",
       "      <td>(Nest Protect Smoke + CO White Wired Alarm-USA...</td>\n",
       "      <td>(Nest Cam Indoor Security Camera - USA)</td>\n",
       "      <td>0.212534</td>\n",
       "      <td>0.649183</td>\n",
       "      <td>0.206403</td>\n",
       "      <td>0.971154</td>\n",
       "      <td>1.495964</td>\n",
       "      <td>0.068430</td>\n",
       "      <td>12.161671</td>\n",
       "    </tr>\n",
       "    <tr>\n",
       "      <th>342</th>\n",
       "      <td>(Nest Protect Smoke + CO White Wired Alarm-USA...</td>\n",
       "      <td>(Nest Learning Thermostat 3rd Gen-USA - Stainl...</td>\n",
       "      <td>0.215940</td>\n",
       "      <td>0.648501</td>\n",
       "      <td>0.206403</td>\n",
       "      <td>0.955836</td>\n",
       "      <td>1.473915</td>\n",
       "      <td>0.066366</td>\n",
       "      <td>7.958933</td>\n",
       "    </tr>\n",
       "    <tr>\n",
       "      <th>347</th>\n",
       "      <td>(Nest Protect Smoke + CO White Wired Alarm-USA...</td>\n",
       "      <td>(Nest Cam Indoor Security Camera - USA, Nest L...</td>\n",
       "      <td>0.222752</td>\n",
       "      <td>0.525204</td>\n",
       "      <td>0.206403</td>\n",
       "      <td>0.926606</td>\n",
       "      <td>1.764276</td>\n",
       "      <td>0.089413</td>\n",
       "      <td>6.469091</td>\n",
       "    </tr>\n",
       "  </tbody>\n",
       "</table>\n",
       "</div>"
      ],
      "text/plain": [
       "                                           antecedents  \\\n",
       "84   (Nest Cam Outdoor Security Camera - USA, Googl...   \n",
       "90   (Google Laptop and Cell Phone Stickers, Nest L...   \n",
       "100  (Google Sunglasses, Nest Cam Indoor Security C...   \n",
       "101  (Google Sunglasses, Nest Cam Outdoor Security ...   \n",
       "112  (Google Sunglasses, Nest Cam Outdoor Security ...   \n",
       "126  (Nest Learning Thermostat 3rd Gen-USA - White,...   \n",
       "131  (Nest Cam Indoor Security Camera - USA, Nest P...   \n",
       "138  (Nest Cam Outdoor Security Camera - USA, Nest ...   \n",
       "149  (Nest Cam Indoor Security Camera - USA, Nest P...   \n",
       "155  (Nest Cam Indoor Security Camera - USA, Nest P...   \n",
       "156  (Nest Protect Smoke + CO White Wired Alarm-USA...   \n",
       "162  (Nest Learning Thermostat 3rd Gen-USA - White,...   \n",
       "167  (Nest Protect Smoke + CO White Battery Alarm-U...   \n",
       "186  (Nest Cam Outdoor Security Camera - USA, Nest ...   \n",
       "191  (Nest Learning Thermostat 3rd Gen-USA - White,...   \n",
       "197  (Nest Protect Smoke + CO White Battery Alarm-U...   \n",
       "204  (Nest Learning Thermostat 3rd Gen-USA - White,...   \n",
       "209  (Nest Protect Smoke + CO White Battery Alarm-U...   \n",
       "214  (Nest Cam Indoor Security Camera - USA, Google...   \n",
       "215  (Nest Cam Indoor Security Camera - USA, Google...   \n",
       "217  (Google 22 oz Water Bottle, Nest Cam Outdoor S...   \n",
       "228  (Nest Cam Outdoor Security Camera - USA, Nest ...   \n",
       "229  (Nest Cam Indoor Security Camera - USA, Google...   \n",
       "231  (Nest Cam Outdoor Security Camera - USA, Googl...   \n",
       "242  (Google Sunglasses, Nest Cam Indoor Security C...   \n",
       "243  (Google Sunglasses, Nest Cam Indoor Security C...   \n",
       "244  (Google Sunglasses, Nest Cam Outdoor Security ...   \n",
       "256  (Nest Cam Indoor Security Camera - USA, Nest L...   \n",
       "257  (Nest Cam Indoor Security Camera - USA, Nest L...   \n",
       "259  (Nest Learning Thermostat 3rd Gen-USA - White,...   \n",
       "271  (Nest Cam Indoor Security Camera - USA, Nest P...   \n",
       "272  (Nest Cam Indoor Security Camera - USA, Nest C...   \n",
       "273  (Nest Protect Smoke + CO White Battery Alarm-U...   \n",
       "285  (Nest Protect Smoke + CO White Wired Alarm-USA...   \n",
       "286  (Nest Cam Indoor Security Camera - USA, Nest C...   \n",
       "287  (Nest Protect Smoke + CO White Wired Alarm-USA...   \n",
       "299  (Nest Cam Indoor Security Camera - USA, Nest P...   \n",
       "300  (Nest Protect Smoke + CO White Battery Alarm-U...   \n",
       "313  (Nest Cam Indoor Security Camera - USA, Nest P...   \n",
       "314  (Nest Protect Smoke + CO White Battery Alarm-U...   \n",
       "327  (Nest Protect Smoke + CO White Battery Alarm-U...   \n",
       "328  (Nest Protect Smoke + CO White Battery Alarm-U...   \n",
       "340  (Nest Protect Smoke + CO White Wired Alarm-USA...   \n",
       "341  (Nest Protect Smoke + CO White Wired Alarm-USA...   \n",
       "342  (Nest Protect Smoke + CO White Wired Alarm-USA...   \n",
       "347  (Nest Protect Smoke + CO White Wired Alarm-USA...   \n",
       "\n",
       "                                           consequents  antecedent support  \\\n",
       "84             (Nest Cam Indoor Security Camera - USA)            0.279973   \n",
       "90             (Nest Cam Indoor Security Camera - USA)            0.280654   \n",
       "100           (Nest Cam Outdoor Security Camera - USA)            0.274523   \n",
       "101            (Nest Cam Indoor Security Camera - USA)            0.272480   \n",
       "112  (Nest Learning Thermostat 3rd Gen-USA - Stainl...            0.272480   \n",
       "126            (Nest Cam Indoor Security Camera - USA)            0.309264   \n",
       "131           (Nest Cam Outdoor Security Camera - USA)            0.361035   \n",
       "138            (Nest Cam Indoor Security Camera - USA)            0.327657   \n",
       "149  (Nest Learning Thermostat 3rd Gen-USA - Stainl...            0.361035   \n",
       "155  (Nest Learning Thermostat 3rd Gen-USA - Stainl...            0.339918   \n",
       "156            (Nest Cam Indoor Security Camera - USA)            0.336512   \n",
       "162            (Nest Cam Indoor Security Camera - USA)            0.235695   \n",
       "167            (Nest Cam Indoor Security Camera - USA)            0.247275   \n",
       "186  (Nest Learning Thermostat 3rd Gen-USA - Stainl...            0.327657   \n",
       "191           (Nest Cam Outdoor Security Camera - USA)            0.235695   \n",
       "197           (Nest Cam Outdoor Security Camera - USA)            0.247275   \n",
       "204  (Nest Learning Thermostat 3rd Gen-USA - Stainl...            0.235695   \n",
       "209  (Nest Learning Thermostat 3rd Gen-USA - Stainl...            0.247275   \n",
       "214  (Nest Learning Thermostat 3rd Gen-USA - Stainl...            0.218665   \n",
       "215           (Nest Cam Outdoor Security Camera - USA)            0.220027   \n",
       "217            (Nest Cam Indoor Security Camera - USA)            0.217302   \n",
       "228  (Nest Learning Thermostat 3rd Gen-USA - Stainl...            0.254087   \n",
       "229           (Nest Cam Outdoor Security Camera - USA)            0.254768   \n",
       "231            (Nest Cam Indoor Security Camera - USA)            0.247275   \n",
       "242  (Nest Learning Thermostat 3rd Gen-USA - Stainl...            0.247956   \n",
       "243           (Nest Cam Outdoor Security Camera - USA)            0.245913   \n",
       "244            (Nest Cam Indoor Security Camera - USA)            0.247275   \n",
       "256  (Nest Learning Thermostat 3rd Gen-USA - Stainl...            0.279973   \n",
       "257           (Nest Cam Outdoor Security Camera - USA)            0.277248   \n",
       "259            (Nest Cam Indoor Security Camera - USA)            0.274523   \n",
       "271           (Nest Cam Outdoor Security Camera - USA)            0.326975   \n",
       "272  (Nest Learning Thermostat 3rd Gen-USA - Stainl...            0.329700   \n",
       "273            (Nest Cam Indoor Security Camera - USA)            0.329019   \n",
       "285           (Nest Cam Outdoor Security Camera - USA)            0.309946   \n",
       "286  (Nest Learning Thermostat 3rd Gen-USA - Stainl...            0.305177   \n",
       "287            (Nest Cam Indoor Security Camera - USA)            0.301771   \n",
       "299           (Nest Cam Outdoor Security Camera - USA)            0.230245   \n",
       "300            (Nest Cam Indoor Security Camera - USA)            0.222752   \n",
       "313  (Nest Learning Thermostat 3rd Gen-USA - Stainl...            0.230245   \n",
       "314            (Nest Cam Indoor Security Camera - USA)            0.229564   \n",
       "327           (Nest Cam Outdoor Security Camera - USA)            0.229564   \n",
       "328  (Nest Learning Thermostat 3rd Gen-USA - Stainl...            0.222752   \n",
       "340           (Nest Cam Outdoor Security Camera - USA)            0.217984   \n",
       "341            (Nest Cam Indoor Security Camera - USA)            0.212534   \n",
       "342  (Nest Learning Thermostat 3rd Gen-USA - Stainl...            0.215940   \n",
       "347  (Nest Cam Indoor Security Camera - USA, Nest L...            0.222752   \n",
       "\n",
       "     consequent support   support  confidence      lift  leverage  conviction  \n",
       "84             0.649183  0.254087    0.907543  1.397977  0.072334    3.794368  \n",
       "90             0.649183  0.254768    0.907767  1.398323  0.072573    3.803600  \n",
       "100            0.647139  0.247956    0.903226  1.395722  0.070302    3.646231  \n",
       "101            0.649183  0.247956    0.910000  1.401763  0.071067    3.897972  \n",
       "112            0.648501  0.247275    0.907500  1.399380  0.070572    3.799985  \n",
       "126            0.649183  0.279973    0.905286  1.394502  0.079204    3.703979  \n",
       "131            0.647139  0.329700    0.913208  1.411146  0.096060    4.065573  \n",
       "138            0.649183  0.305177    0.931393  1.434716  0.092468    5.113430  \n",
       "149            0.648501  0.326975    0.905660  1.396544  0.092844    3.725886  \n",
       "155            0.648501  0.309946    0.911824  1.406047  0.089508    3.986314  \n",
       "156            0.649183  0.309946    0.921053  1.418788  0.091488    4.443688  \n",
       "162            0.649183  0.212534    0.901734  1.389030  0.059525    3.570083  \n",
       "167            0.649183  0.230245    0.931129  1.434311  0.069718    5.093869  \n",
       "186            0.648501  0.301771    0.920998  1.420194  0.089285    4.449233  \n",
       "191            0.647139  0.213215    0.904624  1.397883  0.060688    3.699694  \n",
       "197            0.647139  0.222752    0.900826  1.392014  0.062731    3.558015  \n",
       "204            0.648501  0.214578    0.910405  1.403859  0.061729    3.923178  \n",
       "209            0.648501  0.229564    0.928375  1.431569  0.069206    4.907462  \n",
       "214            0.648501  0.201635    0.922118  1.421922  0.059830    4.513243  \n",
       "215            0.647139  0.201635    0.916409  1.416093  0.059247    4.221263  \n",
       "217            0.649183  0.201635    0.927900  1.429336  0.060566    4.865685  \n",
       "228            0.648501  0.232289    0.914209  1.409726  0.067513    4.097156  \n",
       "229            0.647139  0.232289    0.911765  1.408916  0.067418    3.999092  \n",
       "231            0.649183  0.232289    0.939394  1.447041  0.071762    5.788488  \n",
       "242            0.648501  0.228202    0.920330  1.419164  0.067402    4.411914  \n",
       "243            0.647139  0.228202    0.927978  1.433970  0.069062    4.899340  \n",
       "244            0.649183  0.228202    0.922865  1.421580  0.067675    4.548098  \n",
       "256            0.648501  0.254768    0.909976  1.403198  0.073206    3.904485  \n",
       "257            0.647139  0.254768    0.918919  1.419972  0.075350    4.351953  \n",
       "259            0.649183  0.254768    0.928040  1.429551  0.076553    4.875153  \n",
       "271            0.647139  0.303815    0.929167  1.435807  0.092216    4.981568  \n",
       "272            0.648501  0.303815    0.921488  1.420949  0.090004    4.476983  \n",
       "273            0.649183  0.303815    0.923395  1.422397  0.090221    4.579590  \n",
       "285            0.647139  0.285422    0.920879  1.423001  0.084845    4.459771  \n",
       "286            0.648501  0.285422    0.935268  1.442199  0.087515    5.430048  \n",
       "287            0.649183  0.285422    0.945824  1.456946  0.089518    6.475505  \n",
       "299            0.647139  0.215940    0.937870  1.449256  0.066939    5.679382  \n",
       "300            0.649183  0.215940    0.969419  1.493292  0.071333   11.471730  \n",
       "313            0.648501  0.217984    0.946746  1.459898  0.068669    6.600363  \n",
       "314            0.649183  0.217984    0.949555  1.462693  0.068955    6.954440  \n",
       "327            0.647139  0.212534    0.925816  1.430629  0.063974    4.756567  \n",
       "328            0.648501  0.212534    0.954128  1.471282  0.068079    7.662670  \n",
       "340            0.647139  0.206403    0.946875  1.463171  0.065338    6.642090  \n",
       "341            0.649183  0.206403    0.971154  1.495964  0.068430   12.161671  \n",
       "342            0.648501  0.206403    0.955836  1.473915  0.066366    7.958933  \n",
       "347            0.525204  0.206403    0.926606  1.764276  0.089413    6.469091  "
      ]
     },
     "execution_count": 220,
     "metadata": {},
     "output_type": "execute_result"
    }
   ],
   "source": [
    "rules[ (rules['lift'] >= 1) &\n",
    "       (rules['confidence'] >= 0.9) ]"
   ]
  },
  {
   "cell_type": "markdown",
   "id": "fd05bd99",
   "metadata": {},
   "source": [
    "### 6.\tPredicting Next Purchase Day"
   ]
  },
  {
   "cell_type": "code",
   "execution_count": 223,
   "id": "6a7a7cc1",
   "metadata": {},
   "outputs": [],
   "source": [
    "df_next = df.copy()"
   ]
  },
  {
   "cell_type": "code",
   "execution_count": 225,
   "id": "2f6ecadc",
   "metadata": {},
   "outputs": [],
   "source": [
    "df_next.drop(columns='cust_life',inplace=True)"
   ]
  },
  {
   "cell_type": "code",
   "execution_count": 228,
   "id": "c81172e6",
   "metadata": {},
   "outputs": [],
   "source": [
    "df_next_pur = df_next.groupby('CustomerID')['days'].mean().reset_index()"
   ]
  },
  {
   "cell_type": "code",
   "execution_count": 230,
   "id": "335683e4",
   "metadata": {},
   "outputs": [],
   "source": [
    "def purchased_day (x):\n",
    "    if x.days <= 30 :   # Purchased days btw 0-30 = 0\n",
    "        return 0                        \n",
    "    elif x.days <= 60:  # Purchased days btw 30-60 = 1\n",
    "        return 1                     \n",
    "    elif x.days <= 90:  # Purchased days btw 60-90 = 2\n",
    "        return 2\n",
    "    else :                        # Purchased days of 90+ = 3\n",
    "        return 3"
   ]
  },
  {
   "cell_type": "code",
   "execution_count": 234,
   "id": "33410f6a",
   "metadata": {},
   "outputs": [],
   "source": [
    "df_next_pur.days = df_next_pur.apply(purchased_day, axis=1)"
   ]
  },
  {
   "cell_type": "code",
   "execution_count": 239,
   "id": "1e9c9cd3",
   "metadata": {},
   "outputs": [],
   "source": [
    "df_nxt = pd.merge(df_next_pur, rfm_df1 , on='CustomerID' , how='left')\n",
    "df_nxt = pd.merge(CustomersData, df_nxt , on='CustomerID' , how='left')"
   ]
  },
  {
   "cell_type": "code",
   "execution_count": 241,
   "id": "da7271cc",
   "metadata": {},
   "outputs": [
    {
     "name": "stdout",
     "output_type": "stream",
     "text": [
      "<class 'pandas.core.frame.DataFrame'>\n",
      "Int64Index: 1468 entries, 0 to 1467\n",
      "Data columns (total 13 columns):\n",
      " #   Column         Non-Null Count  Dtype  \n",
      "---  ------         --------------  -----  \n",
      " 0   CustomerID     1468 non-null   int64  \n",
      " 1   Gender         1468 non-null   object \n",
      " 2   Location       1468 non-null   object \n",
      " 3   Tenure_Months  1468 non-null   int64  \n",
      " 4   days           1468 non-null   int64  \n",
      " 5   recency        1468 non-null   int64  \n",
      " 6   frequency      1468 non-null   int64  \n",
      " 7   monetary       1468 non-null   float64\n",
      " 8   R_Quartile     1468 non-null   int64  \n",
      " 9   F_Quartile     1468 non-null   int64  \n",
      " 10  M_Quartile     1468 non-null   int64  \n",
      " 11  R_rfm          1468 non-null   object \n",
      " 12  FM_rfm         1468 non-null   object \n",
      "dtypes: float64(1), int64(8), object(4)\n",
      "memory usage: 160.6+ KB\n"
     ]
    }
   ],
   "source": [
    "df_nxt.info()"
   ]
  },
  {
   "cell_type": "code",
   "execution_count": 243,
   "id": "ea3c03f2",
   "metadata": {},
   "outputs": [],
   "source": [
    "df_nxt = pd.get_dummies(df_nxt, columns=['R_rfm'], drop_first=True, prefix='R_rfm')\n",
    "df_nxt = pd.get_dummies(df_nxt, columns=['FM_rfm'], drop_first=True, prefix='FM_rfm')\n",
    "df_nxt = pd.get_dummies(df_nxt, columns=['Location'], drop_first=True, prefix='Location')\n",
    "df_nxt = pd.get_dummies(df_nxt, columns=['Gender'], drop_first=True, prefix='Gender')"
   ]
  },
  {
   "cell_type": "code",
   "execution_count": 245,
   "id": "16e47070",
   "metadata": {},
   "outputs": [
    {
     "data": {
      "text/plain": [
       "0    926\n",
       "3    426\n",
       "2     65\n",
       "1     51\n",
       "Name: days, dtype: int64"
      ]
     },
     "execution_count": 245,
     "metadata": {},
     "output_type": "execute_result"
    }
   ],
   "source": [
    "df_nxt.days.value_counts()"
   ]
  },
  {
   "cell_type": "code",
   "execution_count": 246,
   "id": "8fd80209",
   "metadata": {},
   "outputs": [],
   "source": [
    "x = df_nxt[df_nxt.columns.difference(['days'])]\n",
    "y = df_nxt.days"
   ]
  },
  {
   "cell_type": "code",
   "execution_count": 247,
   "id": "7737005b",
   "metadata": {},
   "outputs": [],
   "source": [
    "sm = SMOTE()\n",
    "resampled_X, resampled_y = sm.fit_resample(x, y)"
   ]
  },
  {
   "cell_type": "code",
   "execution_count": 248,
   "id": "4fd83c43",
   "metadata": {},
   "outputs": [],
   "source": [
    "df_nxt1 = pd.concat([resampled_X, resampled_y], axis=1)"
   ]
  },
  {
   "cell_type": "code",
   "execution_count": 250,
   "id": "40f14a09",
   "metadata": {},
   "outputs": [],
   "source": [
    "df_nxt1.rename(columns={'Location_New Jersey':'Location_New_Jersey',\n",
    "                               'Location_New York':'Location_New_York',\n",
    "                               'Location_Washington DC':'Location_Washington_DC'},inplace=True)"
   ]
  },
  {
   "cell_type": "code",
   "execution_count": 254,
   "id": "8d20fb37",
   "metadata": {},
   "outputs": [],
   "source": [
    "feat = df_nxt1.columns.difference(['days','CustomerID'])"
   ]
  },
  {
   "cell_type": "markdown",
   "id": "8d7bc0bb",
   "metadata": {},
   "source": [
    "**--Select K Best**"
   ]
  },
  {
   "cell_type": "code",
   "execution_count": 263,
   "id": "f675099c",
   "metadata": {},
   "outputs": [
    {
     "name": "stderr",
     "output_type": "stream",
     "text": [
      "C:\\Users\\Nithin\\anaconda3\\lib\\site-packages\\sklearn\\utils\\validation.py:1141: DataConversionWarning: A column-vector y was passed when a 1d array was expected. Please change the shape of y to (n_samples, ), for example using ravel().\n",
      "  y = column_or_1d(y, warn=True)\n"
     ]
    }
   ],
   "source": [
    "X = df_nxt1[df_nxt1.columns.difference(['days'])]\n",
    "skb = SelectKBest(f_classif, k=15).fit(X, df_nxt1[['days']] )"
   ]
  },
  {
   "cell_type": "code",
   "execution_count": 264,
   "id": "3344a264",
   "metadata": {},
   "outputs": [],
   "source": [
    "feat = list(X.columns[skb.get_support()])"
   ]
  },
  {
   "cell_type": "markdown",
   "id": "73f8510d",
   "metadata": {},
   "source": [
    "**--VIF**"
   ]
  },
  {
   "cell_type": "code",
   "execution_count": 265,
   "id": "b4a7a593",
   "metadata": {},
   "outputs": [],
   "source": [
    "feature=feat.copy()\n",
    "a=np.inf\n",
    "while a>=5:\n",
    "    vif=[variance_inflation_factor(df_nxt1[feature].values,i) for i in range(df_nxt1[feature].shape[1])]\n",
    "    vif=pd.Series(vif,name='VIF')\n",
    "    fet=pd.Series(df_nxt1[feature].columns,name='Feature')\n",
    "    vifdf=pd.concat([vif,fet],axis=1).sort_values(by=\"VIF\")\n",
    "    a=vifdf['VIF'].max()\n",
    "    if a<=5:\n",
    "        break\n",
    "    feature=list(vifdf[:-1][\"Feature\"])"
   ]
  },
  {
   "cell_type": "code",
   "execution_count": 267,
   "id": "4f54eb25",
   "metadata": {},
   "outputs": [],
   "source": [
    "df_nxt1_fn = df_nxt1[feature]"
   ]
  },
  {
   "cell_type": "code",
   "execution_count": 269,
   "id": "d771879f",
   "metadata": {},
   "outputs": [],
   "source": [
    "df_nxt1_fn = pd.concat([df_nxt1_fn,df_nxt1.days],axis = 1)"
   ]
  },
  {
   "cell_type": "markdown",
   "id": "a13a1ec1",
   "metadata": {},
   "source": [
    "### Train Test Split"
   ]
  },
  {
   "cell_type": "code",
   "execution_count": 272,
   "id": "2aaa7ec4",
   "metadata": {},
   "outputs": [],
   "source": [
    "train_x, test_x, train_y, test_y = train_test_split(df_nxt1_fn[feature],df_nxt1_fn.days, test_size=0.3,random_state=1234)"
   ]
  },
  {
   "cell_type": "code",
   "execution_count": 275,
   "id": "d7cddfb4",
   "metadata": {},
   "outputs": [],
   "source": [
    "sc = StandardScaler()\n",
    "train_x_std = sc.fit_transform(train_x)\n",
    "train_x_std = pd.DataFrame(train_x_std,columns=train_x.columns)\n",
    "test_x_std = sc.transform(test_x)\n",
    "test_x_std = pd.DataFrame(test_x_std,columns=test_x.columns)"
   ]
  },
  {
   "cell_type": "markdown",
   "id": "e7e91291",
   "metadata": {},
   "source": [
    "### Decission Tree"
   ]
  },
  {
   "cell_type": "code",
   "execution_count": 273,
   "id": "b694fabd",
   "metadata": {},
   "outputs": [],
   "source": [
    "params = {\n",
    "    'max_depth':[3,4,5],\n",
    "    'max_features':[11,12,13],\n",
    "    'min_impurity_decrease':[0.00005,0.0001,0.0002,0.0005,0.001,0.0015,0.002,0.005,0.01]}"
   ]
  },
  {
   "cell_type": "code",
   "execution_count": 276,
   "id": "4ecc6daa",
   "metadata": {},
   "outputs": [
    {
     "data": {
      "text/html": [
       "<style>#sk-container-id-5 {color: black;background-color: white;}#sk-container-id-5 pre{padding: 0;}#sk-container-id-5 div.sk-toggleable {background-color: white;}#sk-container-id-5 label.sk-toggleable__label {cursor: pointer;display: block;width: 100%;margin-bottom: 0;padding: 0.3em;box-sizing: border-box;text-align: center;}#sk-container-id-5 label.sk-toggleable__label-arrow:before {content: \"▸\";float: left;margin-right: 0.25em;color: #696969;}#sk-container-id-5 label.sk-toggleable__label-arrow:hover:before {color: black;}#sk-container-id-5 div.sk-estimator:hover label.sk-toggleable__label-arrow:before {color: black;}#sk-container-id-5 div.sk-toggleable__content {max-height: 0;max-width: 0;overflow: hidden;text-align: left;background-color: #f0f8ff;}#sk-container-id-5 div.sk-toggleable__content pre {margin: 0.2em;color: black;border-radius: 0.25em;background-color: #f0f8ff;}#sk-container-id-5 input.sk-toggleable__control:checked~div.sk-toggleable__content {max-height: 200px;max-width: 100%;overflow: auto;}#sk-container-id-5 input.sk-toggleable__control:checked~label.sk-toggleable__label-arrow:before {content: \"▾\";}#sk-container-id-5 div.sk-estimator input.sk-toggleable__control:checked~label.sk-toggleable__label {background-color: #d4ebff;}#sk-container-id-5 div.sk-label input.sk-toggleable__control:checked~label.sk-toggleable__label {background-color: #d4ebff;}#sk-container-id-5 input.sk-hidden--visually {border: 0;clip: rect(1px 1px 1px 1px);clip: rect(1px, 1px, 1px, 1px);height: 1px;margin: -1px;overflow: hidden;padding: 0;position: absolute;width: 1px;}#sk-container-id-5 div.sk-estimator {font-family: monospace;background-color: #f0f8ff;border: 1px dotted black;border-radius: 0.25em;box-sizing: border-box;margin-bottom: 0.5em;}#sk-container-id-5 div.sk-estimator:hover {background-color: #d4ebff;}#sk-container-id-5 div.sk-parallel-item::after {content: \"\";width: 100%;border-bottom: 1px solid gray;flex-grow: 1;}#sk-container-id-5 div.sk-label:hover label.sk-toggleable__label {background-color: #d4ebff;}#sk-container-id-5 div.sk-serial::before {content: \"\";position: absolute;border-left: 1px solid gray;box-sizing: border-box;top: 0;bottom: 0;left: 50%;z-index: 0;}#sk-container-id-5 div.sk-serial {display: flex;flex-direction: column;align-items: center;background-color: white;padding-right: 0.2em;padding-left: 0.2em;position: relative;}#sk-container-id-5 div.sk-item {position: relative;z-index: 1;}#sk-container-id-5 div.sk-parallel {display: flex;align-items: stretch;justify-content: center;background-color: white;position: relative;}#sk-container-id-5 div.sk-item::before, #sk-container-id-5 div.sk-parallel-item::before {content: \"\";position: absolute;border-left: 1px solid gray;box-sizing: border-box;top: 0;bottom: 0;left: 50%;z-index: -1;}#sk-container-id-5 div.sk-parallel-item {display: flex;flex-direction: column;z-index: 1;position: relative;background-color: white;}#sk-container-id-5 div.sk-parallel-item:first-child::after {align-self: flex-end;width: 50%;}#sk-container-id-5 div.sk-parallel-item:last-child::after {align-self: flex-start;width: 50%;}#sk-container-id-5 div.sk-parallel-item:only-child::after {width: 0;}#sk-container-id-5 div.sk-dashed-wrapped {border: 1px dashed gray;margin: 0 0.4em 0.5em 0.4em;box-sizing: border-box;padding-bottom: 0.4em;background-color: white;}#sk-container-id-5 div.sk-label label {font-family: monospace;font-weight: bold;display: inline-block;line-height: 1.2em;}#sk-container-id-5 div.sk-label-container {text-align: center;}#sk-container-id-5 div.sk-container {/* jupyter's `normalize.less` sets `[hidden] { display: none; }` but bootstrap.min.css set `[hidden] { display: none !important; }` so we also need the `!important` here to be able to override the default hidden behavior on the sphinx rendered scikit-learn.org. See: https://github.com/scikit-learn/scikit-learn/issues/21755 */display: inline-block !important;position: relative;}#sk-container-id-5 div.sk-text-repr-fallback {display: none;}</style><div id=\"sk-container-id-5\" class=\"sk-top-container\"><div class=\"sk-text-repr-fallback\"><pre>GridSearchCV(cv=3, estimator=DecisionTreeClassifier(), n_jobs=1,\n",
       "             param_grid={&#x27;max_depth&#x27;: [3, 4, 5], &#x27;max_features&#x27;: [11, 12, 13],\n",
       "                         &#x27;min_impurity_decrease&#x27;: [5e-05, 0.0001, 0.0002,\n",
       "                                                   0.0005, 0.001, 0.0015, 0.002,\n",
       "                                                   0.005, 0.01]},\n",
       "             scoring=&#x27;neg_mean_absolute_percentage_error&#x27;)</pre><b>In a Jupyter environment, please rerun this cell to show the HTML representation or trust the notebook. <br />On GitHub, the HTML representation is unable to render, please try loading this page with nbviewer.org.</b></div><div class=\"sk-container\" hidden><div class=\"sk-item sk-dashed-wrapped\"><div class=\"sk-label-container\"><div class=\"sk-label sk-toggleable\"><input class=\"sk-toggleable__control sk-hidden--visually\" id=\"sk-estimator-id-9\" type=\"checkbox\" ><label for=\"sk-estimator-id-9\" class=\"sk-toggleable__label sk-toggleable__label-arrow\">GridSearchCV</label><div class=\"sk-toggleable__content\"><pre>GridSearchCV(cv=3, estimator=DecisionTreeClassifier(), n_jobs=1,\n",
       "             param_grid={&#x27;max_depth&#x27;: [3, 4, 5], &#x27;max_features&#x27;: [11, 12, 13],\n",
       "                         &#x27;min_impurity_decrease&#x27;: [5e-05, 0.0001, 0.0002,\n",
       "                                                   0.0005, 0.001, 0.0015, 0.002,\n",
       "                                                   0.005, 0.01]},\n",
       "             scoring=&#x27;neg_mean_absolute_percentage_error&#x27;)</pre></div></div></div><div class=\"sk-parallel\"><div class=\"sk-parallel-item\"><div class=\"sk-item\"><div class=\"sk-label-container\"><div class=\"sk-label sk-toggleable\"><input class=\"sk-toggleable__control sk-hidden--visually\" id=\"sk-estimator-id-10\" type=\"checkbox\" ><label for=\"sk-estimator-id-10\" class=\"sk-toggleable__label sk-toggleable__label-arrow\">estimator: DecisionTreeClassifier</label><div class=\"sk-toggleable__content\"><pre>DecisionTreeClassifier()</pre></div></div></div><div class=\"sk-serial\"><div class=\"sk-item\"><div class=\"sk-estimator sk-toggleable\"><input class=\"sk-toggleable__control sk-hidden--visually\" id=\"sk-estimator-id-11\" type=\"checkbox\" ><label for=\"sk-estimator-id-11\" class=\"sk-toggleable__label sk-toggleable__label-arrow\">DecisionTreeClassifier</label><div class=\"sk-toggleable__content\"><pre>DecisionTreeClassifier()</pre></div></div></div></div></div></div></div></div></div></div>"
      ],
      "text/plain": [
       "GridSearchCV(cv=3, estimator=DecisionTreeClassifier(), n_jobs=1,\n",
       "             param_grid={'max_depth': [3, 4, 5], 'max_features': [11, 12, 13],\n",
       "                         'min_impurity_decrease': [5e-05, 0.0001, 0.0002,\n",
       "                                                   0.0005, 0.001, 0.0015, 0.002,\n",
       "                                                   0.005, 0.01]},\n",
       "             scoring='neg_mean_absolute_percentage_error')"
      ]
     },
     "execution_count": 276,
     "metadata": {},
     "output_type": "execute_result"
    }
   ],
   "source": [
    "grd = GridSearchCV(DecisionTreeClassifier(),param_grid=params,n_jobs=1,cv=3,\n",
    "                   scoring='neg_mean_absolute_percentage_error')\n",
    "grd.fit(train_x_std,train_y)"
   ]
  },
  {
   "cell_type": "code",
   "execution_count": 277,
   "id": "46a24ad4",
   "metadata": {},
   "outputs": [
    {
     "data": {
      "text/plain": [
       "{'max_depth': 4, 'max_features': 11, 'min_impurity_decrease': 0.005}"
      ]
     },
     "execution_count": 277,
     "metadata": {},
     "output_type": "execute_result"
    }
   ],
   "source": [
    "grd.best_params_"
   ]
  },
  {
   "cell_type": "code",
   "execution_count": 278,
   "id": "f40b6fa0",
   "metadata": {},
   "outputs": [
    {
     "data": {
      "text/html": [
       "<style>#sk-container-id-6 {color: black;background-color: white;}#sk-container-id-6 pre{padding: 0;}#sk-container-id-6 div.sk-toggleable {background-color: white;}#sk-container-id-6 label.sk-toggleable__label {cursor: pointer;display: block;width: 100%;margin-bottom: 0;padding: 0.3em;box-sizing: border-box;text-align: center;}#sk-container-id-6 label.sk-toggleable__label-arrow:before {content: \"▸\";float: left;margin-right: 0.25em;color: #696969;}#sk-container-id-6 label.sk-toggleable__label-arrow:hover:before {color: black;}#sk-container-id-6 div.sk-estimator:hover label.sk-toggleable__label-arrow:before {color: black;}#sk-container-id-6 div.sk-toggleable__content {max-height: 0;max-width: 0;overflow: hidden;text-align: left;background-color: #f0f8ff;}#sk-container-id-6 div.sk-toggleable__content pre {margin: 0.2em;color: black;border-radius: 0.25em;background-color: #f0f8ff;}#sk-container-id-6 input.sk-toggleable__control:checked~div.sk-toggleable__content {max-height: 200px;max-width: 100%;overflow: auto;}#sk-container-id-6 input.sk-toggleable__control:checked~label.sk-toggleable__label-arrow:before {content: \"▾\";}#sk-container-id-6 div.sk-estimator input.sk-toggleable__control:checked~label.sk-toggleable__label {background-color: #d4ebff;}#sk-container-id-6 div.sk-label input.sk-toggleable__control:checked~label.sk-toggleable__label {background-color: #d4ebff;}#sk-container-id-6 input.sk-hidden--visually {border: 0;clip: rect(1px 1px 1px 1px);clip: rect(1px, 1px, 1px, 1px);height: 1px;margin: -1px;overflow: hidden;padding: 0;position: absolute;width: 1px;}#sk-container-id-6 div.sk-estimator {font-family: monospace;background-color: #f0f8ff;border: 1px dotted black;border-radius: 0.25em;box-sizing: border-box;margin-bottom: 0.5em;}#sk-container-id-6 div.sk-estimator:hover {background-color: #d4ebff;}#sk-container-id-6 div.sk-parallel-item::after {content: \"\";width: 100%;border-bottom: 1px solid gray;flex-grow: 1;}#sk-container-id-6 div.sk-label:hover label.sk-toggleable__label {background-color: #d4ebff;}#sk-container-id-6 div.sk-serial::before {content: \"\";position: absolute;border-left: 1px solid gray;box-sizing: border-box;top: 0;bottom: 0;left: 50%;z-index: 0;}#sk-container-id-6 div.sk-serial {display: flex;flex-direction: column;align-items: center;background-color: white;padding-right: 0.2em;padding-left: 0.2em;position: relative;}#sk-container-id-6 div.sk-item {position: relative;z-index: 1;}#sk-container-id-6 div.sk-parallel {display: flex;align-items: stretch;justify-content: center;background-color: white;position: relative;}#sk-container-id-6 div.sk-item::before, #sk-container-id-6 div.sk-parallel-item::before {content: \"\";position: absolute;border-left: 1px solid gray;box-sizing: border-box;top: 0;bottom: 0;left: 50%;z-index: -1;}#sk-container-id-6 div.sk-parallel-item {display: flex;flex-direction: column;z-index: 1;position: relative;background-color: white;}#sk-container-id-6 div.sk-parallel-item:first-child::after {align-self: flex-end;width: 50%;}#sk-container-id-6 div.sk-parallel-item:last-child::after {align-self: flex-start;width: 50%;}#sk-container-id-6 div.sk-parallel-item:only-child::after {width: 0;}#sk-container-id-6 div.sk-dashed-wrapped {border: 1px dashed gray;margin: 0 0.4em 0.5em 0.4em;box-sizing: border-box;padding-bottom: 0.4em;background-color: white;}#sk-container-id-6 div.sk-label label {font-family: monospace;font-weight: bold;display: inline-block;line-height: 1.2em;}#sk-container-id-6 div.sk-label-container {text-align: center;}#sk-container-id-6 div.sk-container {/* jupyter's `normalize.less` sets `[hidden] { display: none; }` but bootstrap.min.css set `[hidden] { display: none !important; }` so we also need the `!important` here to be able to override the default hidden behavior on the sphinx rendered scikit-learn.org. See: https://github.com/scikit-learn/scikit-learn/issues/21755 */display: inline-block !important;position: relative;}#sk-container-id-6 div.sk-text-repr-fallback {display: none;}</style><div id=\"sk-container-id-6\" class=\"sk-top-container\"><div class=\"sk-text-repr-fallback\"><pre>DecisionTreeClassifier(max_depth=4, max_features=13,\n",
       "                       min_impurity_decrease=0.0005)</pre><b>In a Jupyter environment, please rerun this cell to show the HTML representation or trust the notebook. <br />On GitHub, the HTML representation is unable to render, please try loading this page with nbviewer.org.</b></div><div class=\"sk-container\" hidden><div class=\"sk-item\"><div class=\"sk-estimator sk-toggleable\"><input class=\"sk-toggleable__control sk-hidden--visually\" id=\"sk-estimator-id-12\" type=\"checkbox\" checked><label for=\"sk-estimator-id-12\" class=\"sk-toggleable__label sk-toggleable__label-arrow\">DecisionTreeClassifier</label><div class=\"sk-toggleable__content\"><pre>DecisionTreeClassifier(max_depth=4, max_features=13,\n",
       "                       min_impurity_decrease=0.0005)</pre></div></div></div></div></div>"
      ],
      "text/plain": [
       "DecisionTreeClassifier(max_depth=4, max_features=13,\n",
       "                       min_impurity_decrease=0.0005)"
      ]
     },
     "execution_count": 278,
     "metadata": {},
     "output_type": "execute_result"
    }
   ],
   "source": [
    "M_dt = DecisionTreeClassifier(max_depth=4,max_features=13,min_impurity_decrease=0.0005)\n",
    "M_dt.fit(train_x_std,train_y)"
   ]
  },
  {
   "cell_type": "code",
   "execution_count": 279,
   "id": "9b5329b1",
   "metadata": {},
   "outputs": [],
   "source": [
    "train_pred = M_dt.predict(train_x_std)\n",
    "test_pred = M_dt.predict(test_x_std)"
   ]
  },
  {
   "cell_type": "markdown",
   "id": "4abf97f0",
   "metadata": {},
   "source": [
    "**--Evaluation**"
   ]
  },
  {
   "cell_type": "code",
   "execution_count": 280,
   "id": "d78a9fff",
   "metadata": {},
   "outputs": [
    {
     "name": "stdout",
     "output_type": "stream",
     "text": [
      "MAE: 0.7326388888888888\n",
      "MSE: 1.3591820987654322\n",
      "RMSE: 1.1658396539685174\n",
      "Class_Report:               precision    recall  f1-score   support\n",
      "\n",
      "           0       0.59      0.70      0.64       671\n",
      "           1       0.43      0.84      0.56       641\n",
      "           2       0.60      0.22      0.32       643\n",
      "           3       0.67      0.32      0.44       637\n",
      "\n",
      "    accuracy                           0.52      2592\n",
      "   macro avg       0.57      0.52      0.49      2592\n",
      "weighted avg       0.57      0.52      0.49      2592\n",
      "\n"
     ]
    }
   ],
   "source": [
    "print('MAE:', metrics.mean_absolute_error(train_y, train_pred))\n",
    "print('MSE:', metrics.mean_squared_error(train_y, train_pred))\n",
    "print('RMSE:', np.sqrt(metrics.mean_squared_error(train_y, train_pred)))\n",
    "print('Class_Report:',metrics.classification_report(train_y,train_pred))"
   ]
  },
  {
   "cell_type": "code",
   "execution_count": 281,
   "id": "edbd4058",
   "metadata": {},
   "outputs": [
    {
     "name": "stdout",
     "output_type": "stream",
     "text": [
      "MAE: 0.7877697841726619\n",
      "MSE: 1.5\n",
      "RMSE: 1.224744871391589\n",
      "Class_Report:               precision    recall  f1-score   support\n",
      "\n",
      "           0       0.55      0.69      0.61       255\n",
      "           1       0.43      0.88      0.58       285\n",
      "           2       0.53      0.17      0.26       283\n",
      "           3       0.68      0.27      0.39       289\n",
      "\n",
      "    accuracy                           0.50      1112\n",
      "   macro avg       0.55      0.50      0.46      1112\n",
      "weighted avg       0.55      0.50      0.45      1112\n",
      "\n"
     ]
    }
   ],
   "source": [
    "print('MAE:', metrics.mean_absolute_error(test_y, test_pred))\n",
    "print('MSE:', metrics.mean_squared_error(test_y, test_pred))\n",
    "print('RMSE:', np.sqrt(metrics.mean_squared_error(test_y, test_pred)))\n",
    "print('Class_Report:',metrics.classification_report(test_y,test_pred))"
   ]
  },
  {
   "cell_type": "markdown",
   "id": "969c9d27",
   "metadata": {},
   "source": [
    "### XG Boost"
   ]
  },
  {
   "cell_type": "code",
   "execution_count": 282,
   "id": "812ce865",
   "metadata": {},
   "outputs": [],
   "source": [
    "params =  {'n_estimators':[50,100],\n",
    "            'learning_rate': [0.1,0.2,0.3],\n",
    "            'gamma':[0.1,0.2],\n",
    "            'max_depth':[2,3,4]}"
   ]
  },
  {
   "cell_type": "code",
   "execution_count": 283,
   "id": "7bc2dc7f",
   "metadata": {},
   "outputs": [
    {
     "data": {
      "text/html": [
       "<style>#sk-container-id-7 {color: black;background-color: white;}#sk-container-id-7 pre{padding: 0;}#sk-container-id-7 div.sk-toggleable {background-color: white;}#sk-container-id-7 label.sk-toggleable__label {cursor: pointer;display: block;width: 100%;margin-bottom: 0;padding: 0.3em;box-sizing: border-box;text-align: center;}#sk-container-id-7 label.sk-toggleable__label-arrow:before {content: \"▸\";float: left;margin-right: 0.25em;color: #696969;}#sk-container-id-7 label.sk-toggleable__label-arrow:hover:before {color: black;}#sk-container-id-7 div.sk-estimator:hover label.sk-toggleable__label-arrow:before {color: black;}#sk-container-id-7 div.sk-toggleable__content {max-height: 0;max-width: 0;overflow: hidden;text-align: left;background-color: #f0f8ff;}#sk-container-id-7 div.sk-toggleable__content pre {margin: 0.2em;color: black;border-radius: 0.25em;background-color: #f0f8ff;}#sk-container-id-7 input.sk-toggleable__control:checked~div.sk-toggleable__content {max-height: 200px;max-width: 100%;overflow: auto;}#sk-container-id-7 input.sk-toggleable__control:checked~label.sk-toggleable__label-arrow:before {content: \"▾\";}#sk-container-id-7 div.sk-estimator input.sk-toggleable__control:checked~label.sk-toggleable__label {background-color: #d4ebff;}#sk-container-id-7 div.sk-label input.sk-toggleable__control:checked~label.sk-toggleable__label {background-color: #d4ebff;}#sk-container-id-7 input.sk-hidden--visually {border: 0;clip: rect(1px 1px 1px 1px);clip: rect(1px, 1px, 1px, 1px);height: 1px;margin: -1px;overflow: hidden;padding: 0;position: absolute;width: 1px;}#sk-container-id-7 div.sk-estimator {font-family: monospace;background-color: #f0f8ff;border: 1px dotted black;border-radius: 0.25em;box-sizing: border-box;margin-bottom: 0.5em;}#sk-container-id-7 div.sk-estimator:hover {background-color: #d4ebff;}#sk-container-id-7 div.sk-parallel-item::after {content: \"\";width: 100%;border-bottom: 1px solid gray;flex-grow: 1;}#sk-container-id-7 div.sk-label:hover label.sk-toggleable__label {background-color: #d4ebff;}#sk-container-id-7 div.sk-serial::before {content: \"\";position: absolute;border-left: 1px solid gray;box-sizing: border-box;top: 0;bottom: 0;left: 50%;z-index: 0;}#sk-container-id-7 div.sk-serial {display: flex;flex-direction: column;align-items: center;background-color: white;padding-right: 0.2em;padding-left: 0.2em;position: relative;}#sk-container-id-7 div.sk-item {position: relative;z-index: 1;}#sk-container-id-7 div.sk-parallel {display: flex;align-items: stretch;justify-content: center;background-color: white;position: relative;}#sk-container-id-7 div.sk-item::before, #sk-container-id-7 div.sk-parallel-item::before {content: \"\";position: absolute;border-left: 1px solid gray;box-sizing: border-box;top: 0;bottom: 0;left: 50%;z-index: -1;}#sk-container-id-7 div.sk-parallel-item {display: flex;flex-direction: column;z-index: 1;position: relative;background-color: white;}#sk-container-id-7 div.sk-parallel-item:first-child::after {align-self: flex-end;width: 50%;}#sk-container-id-7 div.sk-parallel-item:last-child::after {align-self: flex-start;width: 50%;}#sk-container-id-7 div.sk-parallel-item:only-child::after {width: 0;}#sk-container-id-7 div.sk-dashed-wrapped {border: 1px dashed gray;margin: 0 0.4em 0.5em 0.4em;box-sizing: border-box;padding-bottom: 0.4em;background-color: white;}#sk-container-id-7 div.sk-label label {font-family: monospace;font-weight: bold;display: inline-block;line-height: 1.2em;}#sk-container-id-7 div.sk-label-container {text-align: center;}#sk-container-id-7 div.sk-container {/* jupyter's `normalize.less` sets `[hidden] { display: none; }` but bootstrap.min.css set `[hidden] { display: none !important; }` so we also need the `!important` here to be able to override the default hidden behavior on the sphinx rendered scikit-learn.org. See: https://github.com/scikit-learn/scikit-learn/issues/21755 */display: inline-block !important;position: relative;}#sk-container-id-7 div.sk-text-repr-fallback {display: none;}</style><div id=\"sk-container-id-7\" class=\"sk-top-container\"><div class=\"sk-text-repr-fallback\"><pre>GridSearchCV(cv=3,\n",
       "             estimator=XGBClassifier(base_score=None, booster=None,\n",
       "                                     callbacks=None, colsample_bylevel=None,\n",
       "                                     colsample_bynode=None,\n",
       "                                     colsample_bytree=None,\n",
       "                                     early_stopping_rounds=None,\n",
       "                                     enable_categorical=False, eval_metric=None,\n",
       "                                     feature_types=None, gamma=None,\n",
       "                                     gpu_id=None, grow_policy=None,\n",
       "                                     importance_type=None,\n",
       "                                     interaction_constraints=None,\n",
       "                                     learning_rate=None,...\n",
       "                                     max_delta_step=None, max_depth=None,\n",
       "                                     max_leaves=None, min_child_weight=None,\n",
       "                                     missing=nan, monotone_constraints=None,\n",
       "                                     n_estimators=100, n_jobs=None,\n",
       "                                     num_parallel_tree=None, predictor=None,\n",
       "                                     random_state=None, ...),\n",
       "             n_jobs=1,\n",
       "             param_grid={&#x27;gamma&#x27;: [0.1, 0.2], &#x27;learning_rate&#x27;: [0.1, 0.2, 0.3],\n",
       "                         &#x27;max_depth&#x27;: [2, 3, 4], &#x27;n_estimators&#x27;: [50, 100]},\n",
       "             scoring=&#x27;neg_mean_absolute_percentage_error&#x27;)</pre><b>In a Jupyter environment, please rerun this cell to show the HTML representation or trust the notebook. <br />On GitHub, the HTML representation is unable to render, please try loading this page with nbviewer.org.</b></div><div class=\"sk-container\" hidden><div class=\"sk-item sk-dashed-wrapped\"><div class=\"sk-label-container\"><div class=\"sk-label sk-toggleable\"><input class=\"sk-toggleable__control sk-hidden--visually\" id=\"sk-estimator-id-13\" type=\"checkbox\" ><label for=\"sk-estimator-id-13\" class=\"sk-toggleable__label sk-toggleable__label-arrow\">GridSearchCV</label><div class=\"sk-toggleable__content\"><pre>GridSearchCV(cv=3,\n",
       "             estimator=XGBClassifier(base_score=None, booster=None,\n",
       "                                     callbacks=None, colsample_bylevel=None,\n",
       "                                     colsample_bynode=None,\n",
       "                                     colsample_bytree=None,\n",
       "                                     early_stopping_rounds=None,\n",
       "                                     enable_categorical=False, eval_metric=None,\n",
       "                                     feature_types=None, gamma=None,\n",
       "                                     gpu_id=None, grow_policy=None,\n",
       "                                     importance_type=None,\n",
       "                                     interaction_constraints=None,\n",
       "                                     learning_rate=None,...\n",
       "                                     max_delta_step=None, max_depth=None,\n",
       "                                     max_leaves=None, min_child_weight=None,\n",
       "                                     missing=nan, monotone_constraints=None,\n",
       "                                     n_estimators=100, n_jobs=None,\n",
       "                                     num_parallel_tree=None, predictor=None,\n",
       "                                     random_state=None, ...),\n",
       "             n_jobs=1,\n",
       "             param_grid={&#x27;gamma&#x27;: [0.1, 0.2], &#x27;learning_rate&#x27;: [0.1, 0.2, 0.3],\n",
       "                         &#x27;max_depth&#x27;: [2, 3, 4], &#x27;n_estimators&#x27;: [50, 100]},\n",
       "             scoring=&#x27;neg_mean_absolute_percentage_error&#x27;)</pre></div></div></div><div class=\"sk-parallel\"><div class=\"sk-parallel-item\"><div class=\"sk-item\"><div class=\"sk-label-container\"><div class=\"sk-label sk-toggleable\"><input class=\"sk-toggleable__control sk-hidden--visually\" id=\"sk-estimator-id-14\" type=\"checkbox\" ><label for=\"sk-estimator-id-14\" class=\"sk-toggleable__label sk-toggleable__label-arrow\">estimator: XGBClassifier</label><div class=\"sk-toggleable__content\"><pre>XGBClassifier(base_score=None, booster=None, callbacks=None,\n",
       "              colsample_bylevel=None, colsample_bynode=None,\n",
       "              colsample_bytree=None, early_stopping_rounds=None,\n",
       "              enable_categorical=False, eval_metric=None, feature_types=None,\n",
       "              gamma=None, gpu_id=None, grow_policy=None, importance_type=None,\n",
       "              interaction_constraints=None, learning_rate=None, max_bin=None,\n",
       "              max_cat_threshold=None, max_cat_to_onehot=None,\n",
       "              max_delta_step=None, max_depth=None, max_leaves=None,\n",
       "              min_child_weight=None, missing=nan, monotone_constraints=None,\n",
       "              n_estimators=100, n_jobs=None, num_parallel_tree=None,\n",
       "              predictor=None, random_state=None, ...)</pre></div></div></div><div class=\"sk-serial\"><div class=\"sk-item\"><div class=\"sk-estimator sk-toggleable\"><input class=\"sk-toggleable__control sk-hidden--visually\" id=\"sk-estimator-id-15\" type=\"checkbox\" ><label for=\"sk-estimator-id-15\" class=\"sk-toggleable__label sk-toggleable__label-arrow\">XGBClassifier</label><div class=\"sk-toggleable__content\"><pre>XGBClassifier(base_score=None, booster=None, callbacks=None,\n",
       "              colsample_bylevel=None, colsample_bynode=None,\n",
       "              colsample_bytree=None, early_stopping_rounds=None,\n",
       "              enable_categorical=False, eval_metric=None, feature_types=None,\n",
       "              gamma=None, gpu_id=None, grow_policy=None, importance_type=None,\n",
       "              interaction_constraints=None, learning_rate=None, max_bin=None,\n",
       "              max_cat_threshold=None, max_cat_to_onehot=None,\n",
       "              max_delta_step=None, max_depth=None, max_leaves=None,\n",
       "              min_child_weight=None, missing=nan, monotone_constraints=None,\n",
       "              n_estimators=100, n_jobs=None, num_parallel_tree=None,\n",
       "              predictor=None, random_state=None, ...)</pre></div></div></div></div></div></div></div></div></div></div>"
      ],
      "text/plain": [
       "GridSearchCV(cv=3,\n",
       "             estimator=XGBClassifier(base_score=None, booster=None,\n",
       "                                     callbacks=None, colsample_bylevel=None,\n",
       "                                     colsample_bynode=None,\n",
       "                                     colsample_bytree=None,\n",
       "                                     early_stopping_rounds=None,\n",
       "                                     enable_categorical=False, eval_metric=None,\n",
       "                                     feature_types=None, gamma=None,\n",
       "                                     gpu_id=None, grow_policy=None,\n",
       "                                     importance_type=None,\n",
       "                                     interaction_constraints=None,\n",
       "                                     learning_rate=None,...\n",
       "                                     max_delta_step=None, max_depth=None,\n",
       "                                     max_leaves=None, min_child_weight=None,\n",
       "                                     missing=nan, monotone_constraints=None,\n",
       "                                     n_estimators=100, n_jobs=None,\n",
       "                                     num_parallel_tree=None, predictor=None,\n",
       "                                     random_state=None, ...),\n",
       "             n_jobs=1,\n",
       "             param_grid={'gamma': [0.1, 0.2], 'learning_rate': [0.1, 0.2, 0.3],\n",
       "                         'max_depth': [2, 3, 4], 'n_estimators': [50, 100]},\n",
       "             scoring='neg_mean_absolute_percentage_error')"
      ]
     },
     "execution_count": 283,
     "metadata": {},
     "output_type": "execute_result"
    }
   ],
   "source": [
    "grd = GridSearchCV(XGBClassifier(),param_grid=params,n_jobs=1,cv=3,\n",
    "                   scoring='neg_mean_absolute_percentage_error')\n",
    "grd.fit(train_x_std,train_y)"
   ]
  },
  {
   "cell_type": "code",
   "execution_count": 284,
   "id": "b47aabcc",
   "metadata": {},
   "outputs": [
    {
     "data": {
      "text/plain": [
       "{'gamma': 0.1, 'learning_rate': 0.1, 'max_depth': 3, 'n_estimators': 50}"
      ]
     },
     "execution_count": 284,
     "metadata": {},
     "output_type": "execute_result"
    }
   ],
   "source": [
    "grd.best_params_"
   ]
  },
  {
   "cell_type": "code",
   "execution_count": 285,
   "id": "ab8c3e01",
   "metadata": {},
   "outputs": [
    {
     "data": {
      "text/html": [
       "<style>#sk-container-id-8 {color: black;background-color: white;}#sk-container-id-8 pre{padding: 0;}#sk-container-id-8 div.sk-toggleable {background-color: white;}#sk-container-id-8 label.sk-toggleable__label {cursor: pointer;display: block;width: 100%;margin-bottom: 0;padding: 0.3em;box-sizing: border-box;text-align: center;}#sk-container-id-8 label.sk-toggleable__label-arrow:before {content: \"▸\";float: left;margin-right: 0.25em;color: #696969;}#sk-container-id-8 label.sk-toggleable__label-arrow:hover:before {color: black;}#sk-container-id-8 div.sk-estimator:hover label.sk-toggleable__label-arrow:before {color: black;}#sk-container-id-8 div.sk-toggleable__content {max-height: 0;max-width: 0;overflow: hidden;text-align: left;background-color: #f0f8ff;}#sk-container-id-8 div.sk-toggleable__content pre {margin: 0.2em;color: black;border-radius: 0.25em;background-color: #f0f8ff;}#sk-container-id-8 input.sk-toggleable__control:checked~div.sk-toggleable__content {max-height: 200px;max-width: 100%;overflow: auto;}#sk-container-id-8 input.sk-toggleable__control:checked~label.sk-toggleable__label-arrow:before {content: \"▾\";}#sk-container-id-8 div.sk-estimator input.sk-toggleable__control:checked~label.sk-toggleable__label {background-color: #d4ebff;}#sk-container-id-8 div.sk-label input.sk-toggleable__control:checked~label.sk-toggleable__label {background-color: #d4ebff;}#sk-container-id-8 input.sk-hidden--visually {border: 0;clip: rect(1px 1px 1px 1px);clip: rect(1px, 1px, 1px, 1px);height: 1px;margin: -1px;overflow: hidden;padding: 0;position: absolute;width: 1px;}#sk-container-id-8 div.sk-estimator {font-family: monospace;background-color: #f0f8ff;border: 1px dotted black;border-radius: 0.25em;box-sizing: border-box;margin-bottom: 0.5em;}#sk-container-id-8 div.sk-estimator:hover {background-color: #d4ebff;}#sk-container-id-8 div.sk-parallel-item::after {content: \"\";width: 100%;border-bottom: 1px solid gray;flex-grow: 1;}#sk-container-id-8 div.sk-label:hover label.sk-toggleable__label {background-color: #d4ebff;}#sk-container-id-8 div.sk-serial::before {content: \"\";position: absolute;border-left: 1px solid gray;box-sizing: border-box;top: 0;bottom: 0;left: 50%;z-index: 0;}#sk-container-id-8 div.sk-serial {display: flex;flex-direction: column;align-items: center;background-color: white;padding-right: 0.2em;padding-left: 0.2em;position: relative;}#sk-container-id-8 div.sk-item {position: relative;z-index: 1;}#sk-container-id-8 div.sk-parallel {display: flex;align-items: stretch;justify-content: center;background-color: white;position: relative;}#sk-container-id-8 div.sk-item::before, #sk-container-id-8 div.sk-parallel-item::before {content: \"\";position: absolute;border-left: 1px solid gray;box-sizing: border-box;top: 0;bottom: 0;left: 50%;z-index: -1;}#sk-container-id-8 div.sk-parallel-item {display: flex;flex-direction: column;z-index: 1;position: relative;background-color: white;}#sk-container-id-8 div.sk-parallel-item:first-child::after {align-self: flex-end;width: 50%;}#sk-container-id-8 div.sk-parallel-item:last-child::after {align-self: flex-start;width: 50%;}#sk-container-id-8 div.sk-parallel-item:only-child::after {width: 0;}#sk-container-id-8 div.sk-dashed-wrapped {border: 1px dashed gray;margin: 0 0.4em 0.5em 0.4em;box-sizing: border-box;padding-bottom: 0.4em;background-color: white;}#sk-container-id-8 div.sk-label label {font-family: monospace;font-weight: bold;display: inline-block;line-height: 1.2em;}#sk-container-id-8 div.sk-label-container {text-align: center;}#sk-container-id-8 div.sk-container {/* jupyter's `normalize.less` sets `[hidden] { display: none; }` but bootstrap.min.css set `[hidden] { display: none !important; }` so we also need the `!important` here to be able to override the default hidden behavior on the sphinx rendered scikit-learn.org. See: https://github.com/scikit-learn/scikit-learn/issues/21755 */display: inline-block !important;position: relative;}#sk-container-id-8 div.sk-text-repr-fallback {display: none;}</style><div id=\"sk-container-id-8\" class=\"sk-top-container\"><div class=\"sk-text-repr-fallback\"><pre>XGBClassifier(base_score=0.5, booster=&#x27;gbtree&#x27;, callbacks=None,\n",
       "              colsample_bylevel=1, colsample_bynode=1, colsample_bytree=1,\n",
       "              early_stopping_rounds=None, enable_categorical=False,\n",
       "              eval_metric=None, feature_types=None, gamma=0.1, gpu_id=-1,\n",
       "              grow_policy=&#x27;depthwise&#x27;, importance_type=None,\n",
       "              interaction_constraints=&#x27;&#x27;, learning_rate=0.1, max_bin=256,\n",
       "              max_cat_threshold=64, max_cat_to_onehot=4, max_delta_step=0,\n",
       "              max_depth=3, max_leaves=0, min_child_weight=1, missing=nan,\n",
       "              monotone_constraints=&#x27;()&#x27;, n_estimators=50, n_jobs=0,\n",
       "              num_parallel_tree=1, objective=&#x27;multi:softprob&#x27;, predictor=&#x27;auto&#x27;, ...)</pre><b>In a Jupyter environment, please rerun this cell to show the HTML representation or trust the notebook. <br />On GitHub, the HTML representation is unable to render, please try loading this page with nbviewer.org.</b></div><div class=\"sk-container\" hidden><div class=\"sk-item\"><div class=\"sk-estimator sk-toggleable\"><input class=\"sk-toggleable__control sk-hidden--visually\" id=\"sk-estimator-id-16\" type=\"checkbox\" checked><label for=\"sk-estimator-id-16\" class=\"sk-toggleable__label sk-toggleable__label-arrow\">XGBClassifier</label><div class=\"sk-toggleable__content\"><pre>XGBClassifier(base_score=0.5, booster=&#x27;gbtree&#x27;, callbacks=None,\n",
       "              colsample_bylevel=1, colsample_bynode=1, colsample_bytree=1,\n",
       "              early_stopping_rounds=None, enable_categorical=False,\n",
       "              eval_metric=None, feature_types=None, gamma=0.1, gpu_id=-1,\n",
       "              grow_policy=&#x27;depthwise&#x27;, importance_type=None,\n",
       "              interaction_constraints=&#x27;&#x27;, learning_rate=0.1, max_bin=256,\n",
       "              max_cat_threshold=64, max_cat_to_onehot=4, max_delta_step=0,\n",
       "              max_depth=3, max_leaves=0, min_child_weight=1, missing=nan,\n",
       "              monotone_constraints=&#x27;()&#x27;, n_estimators=50, n_jobs=0,\n",
       "              num_parallel_tree=1, objective=&#x27;multi:softprob&#x27;, predictor=&#x27;auto&#x27;, ...)</pre></div></div></div></div></div>"
      ],
      "text/plain": [
       "XGBClassifier(base_score=0.5, booster='gbtree', callbacks=None,\n",
       "              colsample_bylevel=1, colsample_bynode=1, colsample_bytree=1,\n",
       "              early_stopping_rounds=None, enable_categorical=False,\n",
       "              eval_metric=None, feature_types=None, gamma=0.1, gpu_id=-1,\n",
       "              grow_policy='depthwise', importance_type=None,\n",
       "              interaction_constraints='', learning_rate=0.1, max_bin=256,\n",
       "              max_cat_threshold=64, max_cat_to_onehot=4, max_delta_step=0,\n",
       "              max_depth=3, max_leaves=0, min_child_weight=1, missing=nan,\n",
       "              monotone_constraints='()', n_estimators=50, n_jobs=0,\n",
       "              num_parallel_tree=1, objective='multi:softprob', predictor='auto', ...)"
      ]
     },
     "execution_count": 285,
     "metadata": {},
     "output_type": "execute_result"
    }
   ],
   "source": [
    "M_xg = XGBClassifier(n_estimators=50,learning_rate=0.1,gamma=0.1,max_depth=3)\n",
    "M_xg.fit(train_x_std,train_y)"
   ]
  },
  {
   "cell_type": "code",
   "execution_count": 286,
   "id": "de74b8a5",
   "metadata": {},
   "outputs": [],
   "source": [
    "train_pred = M_xg.predict(train_x_std)\n",
    "test_pred = M_xg.predict(test_x_std)"
   ]
  },
  {
   "cell_type": "markdown",
   "id": "4f8ac323",
   "metadata": {},
   "source": [
    "**--Evaluation**"
   ]
  },
  {
   "cell_type": "code",
   "execution_count": 287,
   "id": "5eb21c64",
   "metadata": {},
   "outputs": [
    {
     "name": "stdout",
     "output_type": "stream",
     "text": [
      "MAE: 0.5860339506172839\n",
      "MSE: 1.1392746913580247\n",
      "RMSE: 1.0673681142689362\n",
      "Class_Report:               precision    recall  f1-score   support\n",
      "\n",
      "           0       0.72      0.75      0.73       671\n",
      "           1       0.56      0.82      0.66       641\n",
      "           2       0.62      0.46      0.53       643\n",
      "           3       0.65      0.47      0.54       637\n",
      "\n",
      "    accuracy                           0.63      2592\n",
      "   macro avg       0.63      0.63      0.62      2592\n",
      "weighted avg       0.64      0.63      0.62      2592\n",
      "\n"
     ]
    }
   ],
   "source": [
    "print('MAE:', metrics.mean_absolute_error(train_y, train_pred))\n",
    "print('MSE:', metrics.mean_squared_error(train_y, train_pred))\n",
    "print('RMSE:', np.sqrt(metrics.mean_squared_error(train_y, train_pred)))\n",
    "print('Class_Report:',metrics.classification_report(train_y,train_pred))"
   ]
  },
  {
   "cell_type": "code",
   "execution_count": 288,
   "id": "704b1c43",
   "metadata": {
    "scrolled": true
   },
   "outputs": [
    {
     "name": "stdout",
     "output_type": "stream",
     "text": [
      "MAE: 0.6744604316546763\n",
      "MSE: 1.3093525179856116\n",
      "RMSE: 1.1442694254351164\n",
      "Class_Report:               precision    recall  f1-score   support\n",
      "\n",
      "           0       0.64      0.72      0.68       255\n",
      "           1       0.52      0.83      0.64       285\n",
      "           2       0.58      0.39      0.46       283\n",
      "           3       0.61      0.39      0.48       289\n",
      "\n",
      "    accuracy                           0.58      1112\n",
      "   macro avg       0.59      0.58      0.56      1112\n",
      "weighted avg       0.59      0.58      0.56      1112\n",
      "\n"
     ]
    }
   ],
   "source": [
    "print('MAE:', metrics.mean_absolute_error(test_y, test_pred))\n",
    "print('MSE:', metrics.mean_squared_error(test_y, test_pred))\n",
    "print('RMSE:', np.sqrt(metrics.mean_squared_error(test_y, test_pred)))\n",
    "print('Class_Report:',metrics.classification_report(test_y,test_pred))"
   ]
  },
  {
   "cell_type": "markdown",
   "id": "df923b2d",
   "metadata": {},
   "source": [
    "**--XG Boost 59% Accuracy**"
   ]
  },
  {
   "cell_type": "markdown",
   "id": "3624bb7e",
   "metadata": {},
   "source": [
    "### 7. Cohort Analysis"
   ]
  },
  {
   "cell_type": "code",
   "execution_count": 332,
   "id": "d84e9dd7",
   "metadata": {},
   "outputs": [],
   "source": [
    "Online_Sales['total_sales'] = Online_Sales.Quantity * Online_Sales.Avg_Price"
   ]
  },
  {
   "cell_type": "code",
   "execution_count": 331,
   "id": "4ab3ffff",
   "metadata": {},
   "outputs": [
    {
     "name": "stdout",
     "output_type": "stream",
     "text": [
      "<class 'pandas.core.frame.DataFrame'>\n",
      "RangeIndex: 52924 entries, 0 to 52923\n",
      "Data columns (total 11 columns):\n",
      " #   Column               Non-Null Count  Dtype         \n",
      "---  ------               --------------  -----         \n",
      " 0   CustomerID           52924 non-null  int64         \n",
      " 1   Transaction_ID       52924 non-null  int64         \n",
      " 2   Transaction_Date     52924 non-null  datetime64[ns]\n",
      " 3   Product_SKU          52924 non-null  object        \n",
      " 4   Product_Description  52924 non-null  object        \n",
      " 5   Product_Category     52924 non-null  object        \n",
      " 6   Quantity             52924 non-null  int64         \n",
      " 7   Avg_Price            52924 non-null  float64       \n",
      " 8   Delivery_Charges     52924 non-null  float64       \n",
      " 9   Coupon_Status        52924 non-null  object        \n",
      " 10  Month                52924 non-null  int64         \n",
      "dtypes: datetime64[ns](1), float64(2), int64(4), object(4)\n",
      "memory usage: 4.4+ MB\n"
     ]
    }
   ],
   "source": [
    "Online_Sales.info()"
   ]
  },
  {
   "cell_type": "code",
   "execution_count": 333,
   "id": "7c4f14af",
   "metadata": {},
   "outputs": [],
   "source": [
    "Online_Sales['Transaction_month']=Online_Sales.Transaction_Date.apply(lambda x:x.strftime('%Y-%m'))"
   ]
  },
  {
   "cell_type": "code",
   "execution_count": 334,
   "id": "cff0c934",
   "metadata": {},
   "outputs": [
    {
     "data": {
      "text/html": [
       "<div>\n",
       "<style scoped>\n",
       "    .dataframe tbody tr th:only-of-type {\n",
       "        vertical-align: middle;\n",
       "    }\n",
       "\n",
       "    .dataframe tbody tr th {\n",
       "        vertical-align: top;\n",
       "    }\n",
       "\n",
       "    .dataframe thead th {\n",
       "        text-align: right;\n",
       "    }\n",
       "</style>\n",
       "<table border=\"1\" class=\"dataframe\">\n",
       "  <thead>\n",
       "    <tr style=\"text-align: right;\">\n",
       "      <th></th>\n",
       "      <th>CustomerID</th>\n",
       "      <th>Transaction_ID</th>\n",
       "      <th>Transaction_Date</th>\n",
       "      <th>Product_SKU</th>\n",
       "      <th>Product_Description</th>\n",
       "      <th>Product_Category</th>\n",
       "      <th>Quantity</th>\n",
       "      <th>Avg_Price</th>\n",
       "      <th>Delivery_Charges</th>\n",
       "      <th>Coupon_Status</th>\n",
       "      <th>Month</th>\n",
       "      <th>total_sales</th>\n",
       "      <th>Transaction_month</th>\n",
       "      <th>CohortGroup</th>\n",
       "    </tr>\n",
       "  </thead>\n",
       "  <tbody>\n",
       "    <tr>\n",
       "      <th>0</th>\n",
       "      <td>17850</td>\n",
       "      <td>16679</td>\n",
       "      <td>2019-01-01</td>\n",
       "      <td>GGOENEBJ079499</td>\n",
       "      <td>Nest Learning Thermostat 3rd Gen-USA - Stainle...</td>\n",
       "      <td>Nest-USA</td>\n",
       "      <td>1</td>\n",
       "      <td>153.71</td>\n",
       "      <td>6.5</td>\n",
       "      <td>Used</td>\n",
       "      <td>1</td>\n",
       "      <td>153.71</td>\n",
       "      <td>2019-01</td>\n",
       "      <td>2019-01</td>\n",
       "    </tr>\n",
       "    <tr>\n",
       "      <th>1</th>\n",
       "      <td>17850</td>\n",
       "      <td>16680</td>\n",
       "      <td>2019-01-01</td>\n",
       "      <td>GGOENEBJ079499</td>\n",
       "      <td>Nest Learning Thermostat 3rd Gen-USA - Stainle...</td>\n",
       "      <td>Nest-USA</td>\n",
       "      <td>1</td>\n",
       "      <td>153.71</td>\n",
       "      <td>6.5</td>\n",
       "      <td>Used</td>\n",
       "      <td>1</td>\n",
       "      <td>153.71</td>\n",
       "      <td>2019-01</td>\n",
       "      <td>2019-01</td>\n",
       "    </tr>\n",
       "    <tr>\n",
       "      <th>2</th>\n",
       "      <td>17850</td>\n",
       "      <td>16681</td>\n",
       "      <td>2019-01-01</td>\n",
       "      <td>GGOEGFKQ020399</td>\n",
       "      <td>Google Laptop and Cell Phone Stickers</td>\n",
       "      <td>Office</td>\n",
       "      <td>1</td>\n",
       "      <td>2.05</td>\n",
       "      <td>6.5</td>\n",
       "      <td>Used</td>\n",
       "      <td>1</td>\n",
       "      <td>2.05</td>\n",
       "      <td>2019-01</td>\n",
       "      <td>2019-01</td>\n",
       "    </tr>\n",
       "    <tr>\n",
       "      <th>3</th>\n",
       "      <td>17850</td>\n",
       "      <td>16682</td>\n",
       "      <td>2019-01-01</td>\n",
       "      <td>GGOEGAAB010516</td>\n",
       "      <td>Google Men's 100% Cotton Short Sleeve Hero Tee...</td>\n",
       "      <td>Apparel</td>\n",
       "      <td>5</td>\n",
       "      <td>17.53</td>\n",
       "      <td>6.5</td>\n",
       "      <td>Not Used</td>\n",
       "      <td>1</td>\n",
       "      <td>87.65</td>\n",
       "      <td>2019-01</td>\n",
       "      <td>2019-01</td>\n",
       "    </tr>\n",
       "    <tr>\n",
       "      <th>4</th>\n",
       "      <td>17850</td>\n",
       "      <td>16682</td>\n",
       "      <td>2019-01-01</td>\n",
       "      <td>GGOEGBJL013999</td>\n",
       "      <td>Google Canvas Tote Natural/Navy</td>\n",
       "      <td>Bags</td>\n",
       "      <td>1</td>\n",
       "      <td>16.50</td>\n",
       "      <td>6.5</td>\n",
       "      <td>Used</td>\n",
       "      <td>1</td>\n",
       "      <td>16.50</td>\n",
       "      <td>2019-01</td>\n",
       "      <td>2019-01</td>\n",
       "    </tr>\n",
       "  </tbody>\n",
       "</table>\n",
       "</div>"
      ],
      "text/plain": [
       "   CustomerID  Transaction_ID Transaction_Date     Product_SKU  \\\n",
       "0       17850           16679       2019-01-01  GGOENEBJ079499   \n",
       "1       17850           16680       2019-01-01  GGOENEBJ079499   \n",
       "2       17850           16681       2019-01-01  GGOEGFKQ020399   \n",
       "3       17850           16682       2019-01-01  GGOEGAAB010516   \n",
       "4       17850           16682       2019-01-01  GGOEGBJL013999   \n",
       "\n",
       "                                 Product_Description Product_Category  \\\n",
       "0  Nest Learning Thermostat 3rd Gen-USA - Stainle...         Nest-USA   \n",
       "1  Nest Learning Thermostat 3rd Gen-USA - Stainle...         Nest-USA   \n",
       "2              Google Laptop and Cell Phone Stickers           Office   \n",
       "3  Google Men's 100% Cotton Short Sleeve Hero Tee...          Apparel   \n",
       "4                    Google Canvas Tote Natural/Navy             Bags   \n",
       "\n",
       "   Quantity  Avg_Price  Delivery_Charges Coupon_Status  Month  total_sales  \\\n",
       "0         1     153.71               6.5          Used      1       153.71   \n",
       "1         1     153.71               6.5          Used      1       153.71   \n",
       "2         1       2.05               6.5          Used      1         2.05   \n",
       "3         5      17.53               6.5      Not Used      1        87.65   \n",
       "4         1      16.50               6.5          Used      1        16.50   \n",
       "\n",
       "  Transaction_month CohortGroup  \n",
       "0           2019-01     2019-01  \n",
       "1           2019-01     2019-01  \n",
       "2           2019-01     2019-01  \n",
       "3           2019-01     2019-01  \n",
       "4           2019-01     2019-01  "
      ]
     },
     "execution_count": 334,
     "metadata": {},
     "output_type": "execute_result"
    }
   ],
   "source": [
    "Online_Sales.set_index('CustomerID', inplace=True)\n",
    "\n",
    "Online_Sales['CohortGroup'] = Online_Sales.groupby(level=0)['Transaction_Date'].min().apply(lambda x: x.strftime('%Y-%m'))\n",
    "Online_Sales.reset_index(inplace=True)\n",
    "Online_Sales.head()"
   ]
  },
  {
   "cell_type": "code",
   "execution_count": 335,
   "id": "bbab4e42",
   "metadata": {},
   "outputs": [
    {
     "data": {
      "text/html": [
       "<div>\n",
       "<style scoped>\n",
       "    .dataframe tbody tr th:only-of-type {\n",
       "        vertical-align: middle;\n",
       "    }\n",
       "\n",
       "    .dataframe tbody tr th {\n",
       "        vertical-align: top;\n",
       "    }\n",
       "\n",
       "    .dataframe thead th {\n",
       "        text-align: right;\n",
       "    }\n",
       "</style>\n",
       "<table border=\"1\" class=\"dataframe\">\n",
       "  <thead>\n",
       "    <tr style=\"text-align: right;\">\n",
       "      <th></th>\n",
       "      <th></th>\n",
       "      <th>Total_Users</th>\n",
       "      <th>Total_orders</th>\n",
       "      <th>Revenue</th>\n",
       "    </tr>\n",
       "    <tr>\n",
       "      <th>CohortGroup</th>\n",
       "      <th>Transaction_month</th>\n",
       "      <th></th>\n",
       "      <th></th>\n",
       "      <th></th>\n",
       "    </tr>\n",
       "  </thead>\n",
       "  <tbody>\n",
       "    <tr>\n",
       "      <th rowspan=\"5\" valign=\"top\">2019-01</th>\n",
       "      <th>2019-01</th>\n",
       "      <td>215</td>\n",
       "      <td>2102</td>\n",
       "      <td>403624.58</td>\n",
       "    </tr>\n",
       "    <tr>\n",
       "      <th>2019-02</th>\n",
       "      <td>13</td>\n",
       "      <td>218</td>\n",
       "      <td>39230.64</td>\n",
       "    </tr>\n",
       "    <tr>\n",
       "      <th>2019-03</th>\n",
       "      <td>24</td>\n",
       "      <td>294</td>\n",
       "      <td>46645.94</td>\n",
       "    </tr>\n",
       "    <tr>\n",
       "      <th>2019-04</th>\n",
       "      <td>34</td>\n",
       "      <td>353</td>\n",
       "      <td>114342.41</td>\n",
       "    </tr>\n",
       "    <tr>\n",
       "      <th>2019-05</th>\n",
       "      <td>23</td>\n",
       "      <td>216</td>\n",
       "      <td>29081.40</td>\n",
       "    </tr>\n",
       "  </tbody>\n",
       "</table>\n",
       "</div>"
      ],
      "text/plain": [
       "                               Total_Users  Total_orders    Revenue\n",
       "CohortGroup Transaction_month                                      \n",
       "2019-01     2019-01                    215          2102  403624.58\n",
       "            2019-02                     13           218   39230.64\n",
       "            2019-03                     24           294   46645.94\n",
       "            2019-04                     34           353  114342.41\n",
       "            2019-05                     23           216   29081.40"
      ]
     },
     "execution_count": 335,
     "metadata": {},
     "output_type": "execute_result"
    }
   ],
   "source": [
    "datagrouped = Online_Sales.groupby(['CohortGroup', 'Transaction_month'])\n",
    "\n",
    "cohorts = datagrouped.agg({'CustomerID': pd.Series.nunique,\n",
    "                       'Transaction_ID': pd.Series.nunique,\n",
    "                        'total_sales': pd.Series.sum})\n",
    "\n",
    "cohorts.rename(columns={'CustomerID': 'Total_Users',\n",
    "                        'Transaction_ID': 'Total_orders','total_sales':'Revenue'}, inplace=True)\n",
    "cohorts.head()"
   ]
  },
  {
   "cell_type": "code",
   "execution_count": 336,
   "id": "ec2e8a78",
   "metadata": {},
   "outputs": [
    {
     "data": {
      "text/html": [
       "<div>\n",
       "<style scoped>\n",
       "    .dataframe tbody tr th:only-of-type {\n",
       "        vertical-align: middle;\n",
       "    }\n",
       "\n",
       "    .dataframe tbody tr th {\n",
       "        vertical-align: top;\n",
       "    }\n",
       "\n",
       "    .dataframe thead th {\n",
       "        text-align: right;\n",
       "    }\n",
       "</style>\n",
       "<table border=\"1\" class=\"dataframe\">\n",
       "  <thead>\n",
       "    <tr style=\"text-align: right;\">\n",
       "      <th></th>\n",
       "      <th></th>\n",
       "      <th>Total_Users</th>\n",
       "      <th>Total_orders</th>\n",
       "      <th>Revenue</th>\n",
       "      <th>CohortPeriod</th>\n",
       "    </tr>\n",
       "    <tr>\n",
       "      <th>CohortGroup</th>\n",
       "      <th>Transaction_month</th>\n",
       "      <th></th>\n",
       "      <th></th>\n",
       "      <th></th>\n",
       "      <th></th>\n",
       "    </tr>\n",
       "  </thead>\n",
       "  <tbody>\n",
       "    <tr>\n",
       "      <th rowspan=\"5\" valign=\"top\">2019-01</th>\n",
       "      <th>2019-01</th>\n",
       "      <td>215</td>\n",
       "      <td>2102</td>\n",
       "      <td>403624.58</td>\n",
       "      <td>1</td>\n",
       "    </tr>\n",
       "    <tr>\n",
       "      <th>2019-02</th>\n",
       "      <td>13</td>\n",
       "      <td>218</td>\n",
       "      <td>39230.64</td>\n",
       "      <td>2</td>\n",
       "    </tr>\n",
       "    <tr>\n",
       "      <th>2019-03</th>\n",
       "      <td>24</td>\n",
       "      <td>294</td>\n",
       "      <td>46645.94</td>\n",
       "      <td>3</td>\n",
       "    </tr>\n",
       "    <tr>\n",
       "      <th>2019-04</th>\n",
       "      <td>34</td>\n",
       "      <td>353</td>\n",
       "      <td>114342.41</td>\n",
       "      <td>4</td>\n",
       "    </tr>\n",
       "    <tr>\n",
       "      <th>2019-05</th>\n",
       "      <td>23</td>\n",
       "      <td>216</td>\n",
       "      <td>29081.40</td>\n",
       "      <td>5</td>\n",
       "    </tr>\n",
       "  </tbody>\n",
       "</table>\n",
       "</div>"
      ],
      "text/plain": [
       "                               Total_Users  Total_orders    Revenue  \\\n",
       "CohortGroup Transaction_month                                         \n",
       "2019-01     2019-01                    215          2102  403624.58   \n",
       "            2019-02                     13           218   39230.64   \n",
       "            2019-03                     24           294   46645.94   \n",
       "            2019-04                     34           353  114342.41   \n",
       "            2019-05                     23           216   29081.40   \n",
       "\n",
       "                               CohortPeriod  \n",
       "CohortGroup Transaction_month                \n",
       "2019-01     2019-01                       1  \n",
       "            2019-02                       2  \n",
       "            2019-03                       3  \n",
       "            2019-04                       4  \n",
       "            2019-05                       5  "
      ]
     },
     "execution_count": 336,
     "metadata": {},
     "output_type": "execute_result"
    }
   ],
   "source": [
    "def cohort_period(Online_Sales):\n",
    "    \n",
    "    Online_Sales['CohortPeriod'] = np.arange(len(Online_Sales)) + 1\n",
    "    return Online_Sales\n",
    "\n",
    "cohorts = cohorts.groupby(level=0).apply(cohort_period)\n",
    "cohorts.head()"
   ]
  },
  {
   "cell_type": "code",
   "execution_count": 337,
   "id": "feca9db9",
   "metadata": {},
   "outputs": [
    {
     "data": {
      "text/plain": [
       "CohortGroup\n",
       "2019-01    215\n",
       "2019-02     96\n",
       "2019-03    177\n",
       "2019-04    163\n",
       "2019-05    112\n",
       "Name: Total_Users, dtype: int64"
      ]
     },
     "execution_count": 337,
     "metadata": {},
     "output_type": "execute_result"
    }
   ],
   "source": [
    "cohorts.reset_index(inplace=True)\n",
    "cohorts.set_index(['CohortGroup', 'CohortPeriod'], inplace=True)\n",
    "\n",
    "cohort_group_size = cohorts['Total_Users'].groupby(level=0).first()\n",
    "cohort_group_size.head()"
   ]
  },
  {
   "cell_type": "code",
   "execution_count": 338,
   "id": "268b6be0",
   "metadata": {},
   "outputs": [
    {
     "data": {
      "text/html": [
       "<div>\n",
       "<style scoped>\n",
       "    .dataframe tbody tr th:only-of-type {\n",
       "        vertical-align: middle;\n",
       "    }\n",
       "\n",
       "    .dataframe tbody tr th {\n",
       "        vertical-align: top;\n",
       "    }\n",
       "\n",
       "    .dataframe thead th {\n",
       "        text-align: right;\n",
       "    }\n",
       "</style>\n",
       "<table border=\"1\" class=\"dataframe\">\n",
       "  <thead>\n",
       "    <tr style=\"text-align: right;\">\n",
       "      <th>CohortGroup</th>\n",
       "      <th>2019-01</th>\n",
       "      <th>2019-02</th>\n",
       "      <th>2019-03</th>\n",
       "      <th>2019-04</th>\n",
       "      <th>2019-05</th>\n",
       "      <th>2019-06</th>\n",
       "      <th>2019-07</th>\n",
       "      <th>2019-08</th>\n",
       "      <th>2019-09</th>\n",
       "      <th>2019-10</th>\n",
       "      <th>2019-11</th>\n",
       "      <th>2019-12</th>\n",
       "    </tr>\n",
       "    <tr>\n",
       "      <th>CohortPeriod</th>\n",
       "      <th></th>\n",
       "      <th></th>\n",
       "      <th></th>\n",
       "      <th></th>\n",
       "      <th></th>\n",
       "      <th></th>\n",
       "      <th></th>\n",
       "      <th></th>\n",
       "      <th></th>\n",
       "      <th></th>\n",
       "      <th></th>\n",
       "      <th></th>\n",
       "    </tr>\n",
       "  </thead>\n",
       "  <tbody>\n",
       "    <tr>\n",
       "      <th>1</th>\n",
       "      <td>1.000000</td>\n",
       "      <td>1.000000</td>\n",
       "      <td>1.000000</td>\n",
       "      <td>1.000000</td>\n",
       "      <td>1.000000</td>\n",
       "      <td>1.000000</td>\n",
       "      <td>1.000000</td>\n",
       "      <td>1.000000</td>\n",
       "      <td>1.000000</td>\n",
       "      <td>1.000000</td>\n",
       "      <td>1.000000</td>\n",
       "      <td>1.0</td>\n",
       "    </tr>\n",
       "    <tr>\n",
       "      <th>2</th>\n",
       "      <td>0.060465</td>\n",
       "      <td>0.072917</td>\n",
       "      <td>0.101695</td>\n",
       "      <td>0.085890</td>\n",
       "      <td>0.107143</td>\n",
       "      <td>0.145985</td>\n",
       "      <td>0.138298</td>\n",
       "      <td>0.103704</td>\n",
       "      <td>0.076923</td>\n",
       "      <td>0.068966</td>\n",
       "      <td>0.102941</td>\n",
       "      <td>NaN</td>\n",
       "    </tr>\n",
       "    <tr>\n",
       "      <th>3</th>\n",
       "      <td>0.111628</td>\n",
       "      <td>0.093750</td>\n",
       "      <td>0.197740</td>\n",
       "      <td>0.147239</td>\n",
       "      <td>0.080357</td>\n",
       "      <td>0.160584</td>\n",
       "      <td>0.042553</td>\n",
       "      <td>0.111111</td>\n",
       "      <td>0.038462</td>\n",
       "      <td>0.045977</td>\n",
       "      <td>NaN</td>\n",
       "      <td>NaN</td>\n",
       "    </tr>\n",
       "    <tr>\n",
       "      <th>4</th>\n",
       "      <td>0.158140</td>\n",
       "      <td>0.166667</td>\n",
       "      <td>0.141243</td>\n",
       "      <td>0.147239</td>\n",
       "      <td>0.116071</td>\n",
       "      <td>0.087591</td>\n",
       "      <td>0.063830</td>\n",
       "      <td>0.074074</td>\n",
       "      <td>0.025641</td>\n",
       "      <td>NaN</td>\n",
       "      <td>NaN</td>\n",
       "      <td>NaN</td>\n",
       "    </tr>\n",
       "    <tr>\n",
       "      <th>5</th>\n",
       "      <td>0.106977</td>\n",
       "      <td>0.177083</td>\n",
       "      <td>0.180791</td>\n",
       "      <td>0.110429</td>\n",
       "      <td>0.089286</td>\n",
       "      <td>0.080292</td>\n",
       "      <td>0.117021</td>\n",
       "      <td>0.059259</td>\n",
       "      <td>NaN</td>\n",
       "      <td>NaN</td>\n",
       "      <td>NaN</td>\n",
       "      <td>NaN</td>\n",
       "    </tr>\n",
       "    <tr>\n",
       "      <th>6</th>\n",
       "      <td>0.204651</td>\n",
       "      <td>0.229167</td>\n",
       "      <td>0.186441</td>\n",
       "      <td>0.092025</td>\n",
       "      <td>0.116071</td>\n",
       "      <td>0.102190</td>\n",
       "      <td>0.095745</td>\n",
       "      <td>NaN</td>\n",
       "      <td>NaN</td>\n",
       "      <td>NaN</td>\n",
       "      <td>NaN</td>\n",
       "      <td>NaN</td>\n",
       "    </tr>\n",
       "    <tr>\n",
       "      <th>7</th>\n",
       "      <td>0.162791</td>\n",
       "      <td>0.197917</td>\n",
       "      <td>0.124294</td>\n",
       "      <td>0.061350</td>\n",
       "      <td>0.125000</td>\n",
       "      <td>0.080292</td>\n",
       "      <td>NaN</td>\n",
       "      <td>NaN</td>\n",
       "      <td>NaN</td>\n",
       "      <td>NaN</td>\n",
       "      <td>NaN</td>\n",
       "      <td>NaN</td>\n",
       "    </tr>\n",
       "    <tr>\n",
       "      <th>8</th>\n",
       "      <td>0.218605</td>\n",
       "      <td>0.156250</td>\n",
       "      <td>0.124294</td>\n",
       "      <td>0.098160</td>\n",
       "      <td>0.071429</td>\n",
       "      <td>NaN</td>\n",
       "      <td>NaN</td>\n",
       "      <td>NaN</td>\n",
       "      <td>NaN</td>\n",
       "      <td>NaN</td>\n",
       "      <td>NaN</td>\n",
       "      <td>NaN</td>\n",
       "    </tr>\n",
       "    <tr>\n",
       "      <th>9</th>\n",
       "      <td>0.106977</td>\n",
       "      <td>0.125000</td>\n",
       "      <td>0.084746</td>\n",
       "      <td>0.073620</td>\n",
       "      <td>NaN</td>\n",
       "      <td>NaN</td>\n",
       "      <td>NaN</td>\n",
       "      <td>NaN</td>\n",
       "      <td>NaN</td>\n",
       "      <td>NaN</td>\n",
       "      <td>NaN</td>\n",
       "      <td>NaN</td>\n",
       "    </tr>\n",
       "    <tr>\n",
       "      <th>10</th>\n",
       "      <td>0.130233</td>\n",
       "      <td>0.114583</td>\n",
       "      <td>0.107345</td>\n",
       "      <td>NaN</td>\n",
       "      <td>NaN</td>\n",
       "      <td>NaN</td>\n",
       "      <td>NaN</td>\n",
       "      <td>NaN</td>\n",
       "      <td>NaN</td>\n",
       "      <td>NaN</td>\n",
       "      <td>NaN</td>\n",
       "      <td>NaN</td>\n",
       "    </tr>\n",
       "    <tr>\n",
       "      <th>11</th>\n",
       "      <td>0.093023</td>\n",
       "      <td>0.166667</td>\n",
       "      <td>NaN</td>\n",
       "      <td>NaN</td>\n",
       "      <td>NaN</td>\n",
       "      <td>NaN</td>\n",
       "      <td>NaN</td>\n",
       "      <td>NaN</td>\n",
       "      <td>NaN</td>\n",
       "      <td>NaN</td>\n",
       "      <td>NaN</td>\n",
       "      <td>NaN</td>\n",
       "    </tr>\n",
       "    <tr>\n",
       "      <th>12</th>\n",
       "      <td>0.158140</td>\n",
       "      <td>NaN</td>\n",
       "      <td>NaN</td>\n",
       "      <td>NaN</td>\n",
       "      <td>NaN</td>\n",
       "      <td>NaN</td>\n",
       "      <td>NaN</td>\n",
       "      <td>NaN</td>\n",
       "      <td>NaN</td>\n",
       "      <td>NaN</td>\n",
       "      <td>NaN</td>\n",
       "      <td>NaN</td>\n",
       "    </tr>\n",
       "  </tbody>\n",
       "</table>\n",
       "</div>"
      ],
      "text/plain": [
       "CohortGroup    2019-01   2019-02   2019-03   2019-04   2019-05   2019-06  \\\n",
       "CohortPeriod                                                               \n",
       "1             1.000000  1.000000  1.000000  1.000000  1.000000  1.000000   \n",
       "2             0.060465  0.072917  0.101695  0.085890  0.107143  0.145985   \n",
       "3             0.111628  0.093750  0.197740  0.147239  0.080357  0.160584   \n",
       "4             0.158140  0.166667  0.141243  0.147239  0.116071  0.087591   \n",
       "5             0.106977  0.177083  0.180791  0.110429  0.089286  0.080292   \n",
       "6             0.204651  0.229167  0.186441  0.092025  0.116071  0.102190   \n",
       "7             0.162791  0.197917  0.124294  0.061350  0.125000  0.080292   \n",
       "8             0.218605  0.156250  0.124294  0.098160  0.071429       NaN   \n",
       "9             0.106977  0.125000  0.084746  0.073620       NaN       NaN   \n",
       "10            0.130233  0.114583  0.107345       NaN       NaN       NaN   \n",
       "11            0.093023  0.166667       NaN       NaN       NaN       NaN   \n",
       "12            0.158140       NaN       NaN       NaN       NaN       NaN   \n",
       "\n",
       "CohortGroup    2019-07   2019-08   2019-09   2019-10   2019-11  2019-12  \n",
       "CohortPeriod                                                             \n",
       "1             1.000000  1.000000  1.000000  1.000000  1.000000      1.0  \n",
       "2             0.138298  0.103704  0.076923  0.068966  0.102941      NaN  \n",
       "3             0.042553  0.111111  0.038462  0.045977       NaN      NaN  \n",
       "4             0.063830  0.074074  0.025641       NaN       NaN      NaN  \n",
       "5             0.117021  0.059259       NaN       NaN       NaN      NaN  \n",
       "6             0.095745       NaN       NaN       NaN       NaN      NaN  \n",
       "7                  NaN       NaN       NaN       NaN       NaN      NaN  \n",
       "8                  NaN       NaN       NaN       NaN       NaN      NaN  \n",
       "9                  NaN       NaN       NaN       NaN       NaN      NaN  \n",
       "10                 NaN       NaN       NaN       NaN       NaN      NaN  \n",
       "11                 NaN       NaN       NaN       NaN       NaN      NaN  \n",
       "12                 NaN       NaN       NaN       NaN       NaN      NaN  "
      ]
     },
     "execution_count": 338,
     "metadata": {},
     "output_type": "execute_result"
    }
   ],
   "source": [
    "cust_retention = cohorts['Total_Users'].unstack(0).divide(cohort_group_size, axis=1)\n",
    "cust_retention"
   ]
  },
  {
   "cell_type": "code",
   "execution_count": 340,
   "id": "7b94e077",
   "metadata": {},
   "outputs": [
    {
     "data": {
      "image/png": "[encoded data removed]",
      "text/plain": [
       "<Figure size 1080x576 with 2 Axes>"
      ]
     },
     "metadata": {
      "needs_background": "light"
     },
     "output_type": "display_data"
    }
   ],
   "source": [
    "plt.figure(figsize=(15,8))\n",
    "plt.title('Retention by Monthly Cohorts')\n",
    "sns.heatmap(data=cust_retention,\n",
    "            annot = True,\n",
    "            cmap = \"icefire\",\n",
    "            vmin = 0.0,\n",
    "            vmax = list(cust_retention.max().sort_values(ascending = False))[1]+3,\n",
    "            fmt = '.1f',\n",
    "            linewidth = 0.3)\n",
    "\n",
    "plt.savefig(\"Retention By Monthly Cohorts\")\n",
    "plt.show()"
   ]
  }
 ],
 "metadata": {
  "kernelspec": {
   "display_name": "Python 3 (ipykernel)",
   "language": "python",
   "name": "python3"
  },
  "language_info": {
   "codemirror_mode": {
    "name": "ipython",
    "version": 3
   },
   "file_extension": ".py",
   "mimetype": "text/x-python",
   "name": "python",
   "nbconvert_exporter": "python",
   "pygments_lexer": "ipython3",
   "version": "3.9.7"
  }
 },
 "nbformat": 4,
 "nbformat_minor": 5
}
